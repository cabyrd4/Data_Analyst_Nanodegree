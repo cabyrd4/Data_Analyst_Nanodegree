{
 "cells": [
  {
   "cell_type": "markdown",
   "metadata": {},
   "source": [
    "# Top 30 Street Addresses"
   ]
  },
  {
   "cell_type": "code",
   "execution_count": 67,
   "metadata": {
    "collapsed": false
   },
   "outputs": [
    {
     "name": "stdout",
     "output_type": "stream",
     "text": [
      "[{u'_id': None, u'count': 1499},\n",
      " {u'_id': u'Street', u'count': 195},\n",
      " {u'_id': u'Glenwood Avenue', u'count': 117},\n",
      " {u'_id': u'Yadkin Drive', u'count': 111},\n",
      " {u'_id': u'Place', u'count': 103},\n",
      " {u'_id': u'Preston Grove Avenue', u'count': 102},\n",
      " {u'_id': u'Wakehurst Drive', u'count': 95},\n",
      " {u'_id': u'Euphoria Circle', u'count': 93},\n",
      " {u'_id': u'Castleburg Drive', u'count': 91},\n",
      " {u'_id': u'North Hills Drive', u'count': 84},\n",
      " {u'_id': u'LaurelcherryStreet', u'count': 82},\n",
      " {u'_id': u'West Main Street', u'count': 82},\n",
      " {u'_id': u'Coxindale Drive', u'count': 81},\n",
      " {u'_id': u'High House Road', u'count': 78},\n",
      " {u'_id': u'Currituck Drive', u'count': 77},\n",
      " {u'_id': u'Walnut Street', u'count': 68},\n",
      " {u'_id': u'Sherwood Forest Place', u'count': 68},\n",
      " {u'_id': u'Mint Hill Drive', u'count': 68},\n",
      " {u'_id': u'Shelley Road', u'count': 67},\n",
      " {u'_id': u'East Main Street', u'count': 67},\n",
      " {u'_id': u'Sunstone Drive', u'count': 66},\n",
      " {u'_id': u'Joshua Glen Lane', u'count': 65},\n",
      " {u'_id': u'Northbrook Drive', u'count': 63},\n",
      " {u'_id': u'Fayetteville Street', u'count': 62},\n",
      " {u'_id': u'Rembert Drive', u'count': 61},\n",
      " {u'_id': u'Wimbleton Drive', u'count': 58},\n",
      " {u'_id': u'Pine Top Circle', u'count': 58},\n",
      " {u'_id': u'Upchurch Farm Lane', u'count': 57},\n",
      " {u'_id': u'Holloway Street', u'count': 56},\n",
      " {u'_id': u'Manchester Drive', u'count': 55}]\n"
     ]
    }
   ],
   "source": [
    "def get_db(db_name):\n",
    "    from pymongo import MongoClient\n",
    "    client = MongoClient('localhost:27017')\n",
    "    db = client[db_name]\n",
    "    return db\n",
    "\n",
    "def make_pipeline():\n",
    "    # complete the aggregation pipeline\n",
    "    pipeline = [{\"$match\" : {\"address\" : {\"$exists\" : \"true\"}}},\n",
    "                { \"$group\" : { \"_id\" : \"$address.street\", \"count\" : {\"$sum\" : 1}}},\n",
    "                { \"$sort\" : {\"count\" : -1}},\n",
    "                {\"$limit\":30}]\n",
    "    return pipeline\n",
    "\n",
    "def query(db, pipeline):\n",
    "    return [doc for doc in db.raleigh.aggregate(pipeline)]\n",
    "\n",
    "if __name__ == '__main__':\n",
    "    db = get_db('cities')\n",
    "    pipeline = make_pipeline()\n",
    "    result = query(db, pipeline)\n",
    "    import pprint\n",
    "    pprint.pprint(result)"
   ]
  },
  {
   "cell_type": "markdown",
   "metadata": {},
   "source": [
    "# Top 30 Postcodes"
   ]
  },
  {
   "cell_type": "code",
   "execution_count": 68,
   "metadata": {
    "collapsed": false
   },
   "outputs": [
    {
     "name": "stdout",
     "output_type": "stream",
     "text": [
      "[{u'_id': None, u'count': 7528},\n",
      " {u'_id': u'27612', u'count': 1732},\n",
      " {u'_id': u'27560', u'count': 1555},\n",
      " {u'_id': u'27609', u'count': 1289},\n",
      " {u'_id': u'27519', u'count': 901},\n",
      " {u'_id': u'27701', u'count': 682},\n",
      " {u'_id': u'27705', u'count': 513},\n",
      " {u'_id': u'27615', u'count': 365},\n",
      " {u'_id': u'27510', u'count': 320},\n",
      " {u'_id': u'27514', u'count': 175},\n",
      " {u'_id': u'27513', u'count': 119},\n",
      " {u'_id': u'27511', u'count': 119},\n",
      " {u'_id': u'27606', u'count': 99},\n",
      " {u'_id': u'27707', u'count': 96},\n",
      " {u'_id': u'27516', u'count': 94},\n",
      " {u'_id': u'27601', u'count': 91},\n",
      " {u'_id': u'27517', u'count': 73},\n",
      " {u'_id': u'27704', u'count': 60},\n",
      " {u'_id': u'27703', u'count': 53},\n",
      " {u'_id': u'27713', u'count': 50},\n",
      " {u'_id': u'27617', u'count': 40},\n",
      " {u'_id': u'27603', u'count': 30},\n",
      " {u'_id': u'27613', u'count': 29},\n",
      " {u'_id': u'27607', u'count': 23},\n",
      " {u'_id': u'27604', u'count': 22},\n",
      " {u'_id': u'27610', u'count': 16},\n",
      " {u'_id': u'27605', u'count': 13},\n",
      " {u'_id': u'27614', u'count': 10},\n",
      " {u'_id': u'27608', u'count': 9},\n",
      " {u'_id': u'27695', u'count': 6}]\n"
     ]
    }
   ],
   "source": [
    "def get_db(db_name):\n",
    "    from pymongo import MongoClient\n",
    "    client = MongoClient('localhost:27017')\n",
    "    db = client[db_name]\n",
    "    return db\n",
    "\n",
    "def make_pipeline():\n",
    "    # complete the aggregation pipeline\n",
    "    pipeline = [{\"$match\" : {\"address\" : {\"$exists\" : \"true\"}}},\n",
    "                { \"$group\" : { \"_id\" : \"$address.postcode\", \"count\" : {\"$sum\" : 1}}},\n",
    "                { \"$sort\" : {\"count\" : -1}},\n",
    "                {\"$limit\":30}]\n",
    "    return pipeline\n",
    "\n",
    "def query(db, pipeline):\n",
    "    return [doc for doc in db.raleigh.aggregate(pipeline)]\n",
    "\n",
    "if __name__ == '__main__':\n",
    "    db = get_db('cities')\n",
    "    pipeline = make_pipeline()\n",
    "    result = query(db, pipeline)\n",
    "    import pprint\n",
    "    pprint.pprint(result)"
   ]
  },
  {
   "cell_type": "markdown",
   "metadata": {},
   "source": [
    "# Count of unique users"
   ]
  },
  {
   "cell_type": "code",
   "execution_count": 17,
   "metadata": {
    "collapsed": false
   },
   "outputs": [
    {
     "name": "stdout",
     "output_type": "stream",
     "text": [
      "[{u'_id': 1, u'count': 725}]\n"
     ]
    }
   ],
   "source": [
    "def get_db(db_name):\n",
    "    from pymongo import MongoClient\n",
    "    client = MongoClient('localhost:27017')\n",
    "    db = client[db_name]\n",
    "    return db\n",
    "\n",
    "def make_pipeline():\n",
    "    # complete the aggregation pipeline\n",
    "    pipeline = [{\"$group\" : {\"_id\" : \"$created.user\"} }, \n",
    "                {\"$group\" : {\"_id\" : 1, \"count\" : {\"$sum\" : 1 }}}]\n",
    "    return pipeline\n",
    "\n",
    "def query(db, pipeline):\n",
    "    return [doc for doc in db.raleigh.aggregate(pipeline)]\n",
    "\n",
    "if __name__ == '__main__':\n",
    "    db = get_db('cities')\n",
    "    pipeline = make_pipeline()\n",
    "    result = query(db, pipeline)\n",
    "    import pprint\n",
    "    pprint.pprint(result)"
   ]
  },
  {
   "cell_type": "markdown",
   "metadata": {},
   "source": [
    "# Top Contributing User"
   ]
  },
  {
   "cell_type": "code",
   "execution_count": 33,
   "metadata": {
    "collapsed": false
   },
   "outputs": [
    {
     "name": "stdout",
     "output_type": "stream",
     "text": [
      "[{u'_id': u'jumbanho', u'count': 1581257}]\n"
     ]
    }
   ],
   "source": [
    "def get_db(db_name):\n",
    "    from pymongo import MongoClient\n",
    "    client = MongoClient('localhost:27017')\n",
    "    db = client[db_name]\n",
    "    return db\n",
    "\n",
    "def make_pipeline():\n",
    "    # complete the aggregation pipeline\n",
    "    pipeline = [{ \"$group\" : { \"_id\" : \"$created.user\", \"count\" : {\"$sum\" : 1}}},\n",
    "                { \"$sort\" : {\"count\" : -1}},{\"$limit\":1}]\n",
    "    return pipeline\n",
    "\n",
    "def query(db, pipeline):\n",
    "    return [doc for doc in db.raleigh.aggregate(pipeline)]\n",
    "\n",
    "if __name__ == '__main__':\n",
    "    db = get_db('cities')\n",
    "    pipeline = make_pipeline()\n",
    "    result = query(db, pipeline)\n",
    "    import pprint\n",
    "    pprint.pprint(result)"
   ]
  },
  {
   "cell_type": "markdown",
   "metadata": {},
   "source": [
    "# Address Node Example"
   ]
  },
  {
   "cell_type": "code",
   "execution_count": 54,
   "metadata": {
    "collapsed": false
   },
   "outputs": [
    {
     "name": "stdout",
     "output_type": "stream",
     "text": [
      "[{u'created': {u'changeset': u'21166223', u'version': u'4', u'uid': u'1986218', u'timestamp': u'2014-03-18T00:44:43Z', u'user': u'geoffgreen'}, u'pos': [35.9103236, -79.0109277], u'address': {u'street': u'Parkridge Avenue'}, u'_id': ObjectId('56db76f5758afb6494d29f84'), u'type': u'node', u'id': u'172765423'}, {u'renovation:end_date': u'2012-11-03', u'name': u'Green Road Library', u'created': {u'changeset': u'26351175', u'version': u'3', u'uid': u'371', u'timestamp': u'2014-10-26T21:41:36Z', u'user': u'emj'}, u'url': u'http://www.wakegov.com/libraries/locations/gre/Pages/default.aspx', u'opening_hours': u'Monday\\u2013Thursday 9 a.m.\\u20139 p.m. Friday 10 a.m.\\u20136 p.m. Saturday 10 a.m.\\u20136 p.m. Sunday Closed', u'amenity': u'library', u'pos': [35.8393513, -78.5918788], u'address': {u'street': u'Green Road', u'housenumber': u'4101', u'postcode': u'27604'}, u'_id': ObjectId('56db76f7758afb6494d3cabe'), u'type': u'node', u'id': u'282300479'}, {u'website': u'http://604westvillage.net', u'cuisine': u'italian', u'amenity': u'restaurant', u'name': u'604 West Village', u'created': {u'changeset': u'22832698', u'version': u'4', u'uid': u'1870478', u'timestamp': u'2014-06-09T15:43:43Z', u'user': u'WingingIt'}, u'opening_hours': u'Monday-Thursday 5:00 PM - 10:00 PM  Friday-Saturday 5:00 PM - 11:00 PM  Sunday 4:00 PM - 9:00 PM', u'pos': [35.9999491, -78.9056283], u'phone': u'919 680 6333', u'address': {u'street': u'Fernway Avenue', u'housenumber': u'604', u'postcode': u'27701'}, u'_id': ObjectId('56db76f7758afb6494d3d068'), u'type': u'node', u'id': u'299507889'}]\n"
     ]
    }
   ],
   "source": [
    "def find_query():\n",
    "    query = {\"address\" : { \"$exists\": \"true\"}}\n",
    "    return query\n",
    "\n",
    "def get_db(db_name):\n",
    "    from pymongo import MongoClient\n",
    "    client = MongoClient('localhost:27017')\n",
    "    db = client[db_name]\n",
    "    return db\n",
    "\n",
    "def find(db, query):\n",
    "    return db.raleigh.find(query).limit(3)\n",
    "\n",
    "if __name__ == \"__main__\":\n",
    "    # For local use\n",
    "    db = get_db('cities')\n",
    "    query = find_query()\n",
    "    results = find(db, query)\n",
    "    print list(results)"
   ]
  },
  {
   "cell_type": "markdown",
   "metadata": {},
   "source": [
    "# Top Amenities in Raleigh"
   ]
  },
  {
   "cell_type": "code",
   "execution_count": 53,
   "metadata": {
    "collapsed": false
   },
   "outputs": [
    {
     "name": "stdout",
     "output_type": "stream",
     "text": [
      "[{u'_id': u'parking', u'count': 1929},\n",
      " {u'_id': u'bicycle_parking', u'count': 552},\n",
      " {u'_id': u'place_of_worship', u'count': 544},\n",
      " {u'_id': u'restaurant', u'count': 511},\n",
      " {u'_id': u'fast_food', u'count': 253},\n",
      " {u'_id': u'school', u'count': 226},\n",
      " {u'_id': u'fuel', u'count': 204},\n",
      " {u'_id': u'bench', u'count': 131},\n",
      " {u'_id': u'bank', u'count': 113},\n",
      " {u'_id': u'swimming_pool', u'count': 106},\n",
      " {u'_id': u'waste_basket', u'count': 96},\n",
      " {u'_id': u'cafe', u'count': 95},\n",
      " {u'_id': u'toilets', u'count': 85},\n",
      " {u'_id': u'atm', u'count': 77},\n",
      " {u'_id': u'pharmacy', u'count': 73}]\n"
     ]
    }
   ],
   "source": [
    "def get_db(db_name):\n",
    "    from pymongo import MongoClient\n",
    "    client = MongoClient('localhost:27017')\n",
    "    db = client[db_name]\n",
    "    return db\n",
    "\n",
    "def make_pipeline():\n",
    "    # complete the aggregation pipeline\n",
    "    pipeline = [{\"$match\" : {\"amenity\" : {\"$exists\" : \"true\"}}},\n",
    "                { \"$group\" : { \"_id\" : \"$amenity\", \"count\" : {\"$sum\" : 1}}},\n",
    "                { \"$sort\" : {\"count\" : -1}},\n",
    "                {\"$limit\":15}]\n",
    "    return pipeline\n",
    "\n",
    "def query(db, pipeline):\n",
    "    return [doc for doc in db.raleigh.aggregate(pipeline)]\n",
    "\n",
    "if __name__ == '__main__':\n",
    "    db = get_db('cities')\n",
    "    pipeline = make_pipeline()\n",
    "    result = query(db, pipeline)\n",
    "    import pprint\n",
    "    pprint.pprint(result)"
   ]
  },
  {
   "cell_type": "markdown",
   "metadata": {},
   "source": [
    "# What kinds of restaurants?"
   ]
  },
  {
   "cell_type": "code",
   "execution_count": 63,
   "metadata": {
    "collapsed": false
   },
   "outputs": [
    {
     "name": "stdout",
     "output_type": "stream",
     "text": [
      "[{u'_id': None, u'count': 186},\n",
      " {u'_id': u'mexican', u'count': 39},\n",
      " {u'_id': u'american', u'count': 37},\n",
      " {u'_id': u'pizza', u'count': 32},\n",
      " {u'_id': u'italian', u'count': 28},\n",
      " {u'_id': u'burger', u'count': 25},\n",
      " {u'_id': u'chinese', u'count': 22},\n",
      " {u'_id': u'sandwich', u'count': 15},\n",
      " {u'_id': u'asian', u'count': 15},\n",
      " {u'_id': u'japanese', u'count': 15},\n",
      " {u'_id': u'regional', u'count': 14},\n",
      " {u'_id': u'seafood', u'count': 8},\n",
      " {u'_id': u'steak_house', u'count': 6},\n",
      " {u'_id': u'greek', u'count': 6},\n",
      " {u'_id': u'thai', u'count': 5}]\n"
     ]
    }
   ],
   "source": [
    "def get_db(db_name):\n",
    "    from pymongo import MongoClient\n",
    "    client = MongoClient('localhost:27017')\n",
    "    db = client[db_name]\n",
    "    return db\n",
    "\n",
    "def make_pipeline():\n",
    "    # complete the aggregation pipeline\n",
    "    pipeline = [{\"$match\" : {\"amenity\" : \"restaurant\"}},\n",
    "                { \"$group\" : \n",
    "                 { \"_id\" : \"$cuisine\",\"count\" : {\"$sum\" : 1}}},\n",
    "                { \"$sort\" : {\"count\" : -1}},\n",
    "                {\"$limit\":15}]\n",
    "    return pipeline\n",
    "\n",
    "def query(db, pipeline):\n",
    "    return [doc for doc in db.raleigh.aggregate(pipeline)]\n",
    "\n",
    "if __name__ == '__main__':\n",
    "    db = get_db('cities')\n",
    "    pipeline = make_pipeline()\n",
    "    result = query(db, pipeline)\n",
    "    import pprint\n",
    "    pprint.pprint(result)"
   ]
  }
 ],
 "metadata": {
  "kernelspec": {
   "display_name": "Python 2",
   "language": "python",
   "name": "python2"
  },
  "language_info": {
   "codemirror_mode": {
    "name": "ipython",
    "version": 2
   },
   "file_extension": ".py",
   "mimetype": "text/x-python",
   "name": "python",
   "nbconvert_exporter": "python",
   "pygments_lexer": "ipython2",
   "version": "2.7.11"
  }
 },
 "nbformat": 4,
 "nbformat_minor": 0
}
