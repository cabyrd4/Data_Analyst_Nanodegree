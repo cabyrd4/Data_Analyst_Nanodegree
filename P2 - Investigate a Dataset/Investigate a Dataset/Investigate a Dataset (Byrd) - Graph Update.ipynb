{
 "cells": [
  {
   "cell_type": "markdown",
   "metadata": {},
   "source": [
    "# Investigate a Dataset - Carvus Byrd"
   ]
  },
  {
   "cell_type": "markdown",
   "metadata": {},
   "source": [
    "## Dataset"
   ]
  },
  {
   "cell_type": "markdown",
   "metadata": {},
   "source": [
    "For this project I used the Lahman's Baseball Database (2014)."
   ]
  },
  {
   "cell_type": "markdown",
   "metadata": {},
   "source": [
    "## Data Analysis Process"
   ]
  },
  {
   "cell_type": "markdown",
   "metadata": {},
   "source": [
    "### Questions Posed"
   ]
  },
  {
   "cell_type": "markdown",
   "metadata": {},
   "source": [
    "- Is there any truth to imaginary pay \"jumps\" around milestone (batting above .300 is considered a milestone) batting averages?  \n",
    "    \n",
    "    Batting Average Comparison 1 -> Player A = .310 vs Player B = .290\n",
    "    \n",
    "    Batting Average Comparison 2 -> Player C = .285 vs Player D = .265\n",
    "\n",
    "    For example, will the difference in pay be greater when comparing Player A vs Player B or comparing Player C vs Player D?\n",
    "\n",
    "\n",
    "- Does it matter if this analysis occurs in the National League (NL) or the American League (AL)?\n",
    "\n",
    "\n",
    "- Can we identify other pay \"jumps\" for other batting statistics (i.e. On base percentage or Slugging percentage)?"
   ]
  },
  {
   "cell_type": "markdown",
   "metadata": {},
   "source": [
    "### Data Wrangling"
   ]
  },
  {
   "cell_type": "markdown",
   "metadata": {},
   "source": [
    "Import necessary modules and read data files."
   ]
  },
  {
   "cell_type": "code",
   "execution_count": 1,
   "metadata": {
    "collapsed": false
   },
   "outputs": [
    {
     "name": "stdout",
     "output_type": "stream",
     "text": [
      "Populating the interactive namespace from numpy and matplotlib\n"
     ]
    },
    {
     "name": "stderr",
     "output_type": "stream",
     "text": [
      "C:\\Users\\03138\\AppData\\Local\\Continuum\\Anaconda2\\lib\\site-packages\\matplotlib\\__init__.py:872: UserWarning: axes.color_cycle is deprecated and replaced with axes.prop_cycle; please use the latter.\n",
      "  warnings.warn(self.msg_depr % (key, alt_key))\n"
     ]
    }
   ],
   "source": [
    "import pandas as pd\n",
    "import numpy as np\n",
    "import matplotlib.pyplot as plt\n",
    "import seaborn as sns\n",
    "\n",
    "%pylab inline\n",
    "\n",
    "batting = pd.read_csv('2014 Baseball Data/Batting.csv')\n",
    "player_salary = pd.read_csv('2014 Baseball Data/Salaries.csv')"
   ]
  },
  {
   "cell_type": "markdown",
   "metadata": {},
   "source": [
    "Batting table needs to be condensed to account for players who play for multiple teams per season ('stint' column).  The 'groupby' function allows me to sum the remaining columns by player and year indexes."
   ]
  },
  {
   "cell_type": "code",
   "execution_count": 2,
   "metadata": {
    "collapsed": false,
    "scrolled": true
   },
   "outputs": [
    {
     "data": {
      "text/html": [
       "<div>\n",
       "<table border=\"1\" class=\"dataframe\">\n",
       "  <thead>\n",
       "    <tr style=\"text-align: right;\">\n",
       "      <th></th>\n",
       "      <th>playerID</th>\n",
       "      <th>yearID</th>\n",
       "      <th>stint</th>\n",
       "      <th>G</th>\n",
       "      <th>AB</th>\n",
       "      <th>R</th>\n",
       "      <th>H</th>\n",
       "      <th>2B</th>\n",
       "      <th>3B</th>\n",
       "      <th>HR</th>\n",
       "      <th>RBI</th>\n",
       "      <th>SB</th>\n",
       "      <th>CS</th>\n",
       "      <th>BB</th>\n",
       "      <th>SO</th>\n",
       "      <th>IBB</th>\n",
       "      <th>HBP</th>\n",
       "      <th>SH</th>\n",
       "      <th>SF</th>\n",
       "      <th>GIDP</th>\n",
       "    </tr>\n",
       "  </thead>\n",
       "  <tbody>\n",
       "    <tr>\n",
       "      <th>0</th>\n",
       "      <td>aardsda01</td>\n",
       "      <td>2004</td>\n",
       "      <td>1</td>\n",
       "      <td>11</td>\n",
       "      <td>0</td>\n",
       "      <td>0</td>\n",
       "      <td>0</td>\n",
       "      <td>0</td>\n",
       "      <td>0</td>\n",
       "      <td>0</td>\n",
       "      <td>0</td>\n",
       "      <td>0</td>\n",
       "      <td>0</td>\n",
       "      <td>0</td>\n",
       "      <td>0</td>\n",
       "      <td>0</td>\n",
       "      <td>0</td>\n",
       "      <td>0</td>\n",
       "      <td>0</td>\n",
       "      <td>0</td>\n",
       "    </tr>\n",
       "    <tr>\n",
       "      <th>1</th>\n",
       "      <td>aardsda01</td>\n",
       "      <td>2006</td>\n",
       "      <td>1</td>\n",
       "      <td>45</td>\n",
       "      <td>2</td>\n",
       "      <td>0</td>\n",
       "      <td>0</td>\n",
       "      <td>0</td>\n",
       "      <td>0</td>\n",
       "      <td>0</td>\n",
       "      <td>0</td>\n",
       "      <td>0</td>\n",
       "      <td>0</td>\n",
       "      <td>0</td>\n",
       "      <td>0</td>\n",
       "      <td>0</td>\n",
       "      <td>0</td>\n",
       "      <td>1</td>\n",
       "      <td>0</td>\n",
       "      <td>0</td>\n",
       "    </tr>\n",
       "    <tr>\n",
       "      <th>2</th>\n",
       "      <td>aardsda01</td>\n",
       "      <td>2007</td>\n",
       "      <td>1</td>\n",
       "      <td>25</td>\n",
       "      <td>0</td>\n",
       "      <td>0</td>\n",
       "      <td>0</td>\n",
       "      <td>0</td>\n",
       "      <td>0</td>\n",
       "      <td>0</td>\n",
       "      <td>0</td>\n",
       "      <td>0</td>\n",
       "      <td>0</td>\n",
       "      <td>0</td>\n",
       "      <td>0</td>\n",
       "      <td>0</td>\n",
       "      <td>0</td>\n",
       "      <td>0</td>\n",
       "      <td>0</td>\n",
       "      <td>0</td>\n",
       "    </tr>\n",
       "    <tr>\n",
       "      <th>3</th>\n",
       "      <td>aardsda01</td>\n",
       "      <td>2008</td>\n",
       "      <td>1</td>\n",
       "      <td>47</td>\n",
       "      <td>1</td>\n",
       "      <td>0</td>\n",
       "      <td>0</td>\n",
       "      <td>0</td>\n",
       "      <td>0</td>\n",
       "      <td>0</td>\n",
       "      <td>0</td>\n",
       "      <td>0</td>\n",
       "      <td>0</td>\n",
       "      <td>0</td>\n",
       "      <td>1</td>\n",
       "      <td>0</td>\n",
       "      <td>0</td>\n",
       "      <td>0</td>\n",
       "      <td>0</td>\n",
       "      <td>0</td>\n",
       "    </tr>\n",
       "    <tr>\n",
       "      <th>4</th>\n",
       "      <td>aardsda01</td>\n",
       "      <td>2009</td>\n",
       "      <td>1</td>\n",
       "      <td>73</td>\n",
       "      <td>0</td>\n",
       "      <td>0</td>\n",
       "      <td>0</td>\n",
       "      <td>0</td>\n",
       "      <td>0</td>\n",
       "      <td>0</td>\n",
       "      <td>0</td>\n",
       "      <td>0</td>\n",
       "      <td>0</td>\n",
       "      <td>0</td>\n",
       "      <td>0</td>\n",
       "      <td>0</td>\n",
       "      <td>0</td>\n",
       "      <td>0</td>\n",
       "      <td>0</td>\n",
       "      <td>0</td>\n",
       "    </tr>\n",
       "    <tr>\n",
       "      <th>5</th>\n",
       "      <td>aardsda01</td>\n",
       "      <td>2010</td>\n",
       "      <td>1</td>\n",
       "      <td>53</td>\n",
       "      <td>0</td>\n",
       "      <td>0</td>\n",
       "      <td>0</td>\n",
       "      <td>0</td>\n",
       "      <td>0</td>\n",
       "      <td>0</td>\n",
       "      <td>0</td>\n",
       "      <td>0</td>\n",
       "      <td>0</td>\n",
       "      <td>0</td>\n",
       "      <td>0</td>\n",
       "      <td>0</td>\n",
       "      <td>0</td>\n",
       "      <td>0</td>\n",
       "      <td>0</td>\n",
       "      <td>0</td>\n",
       "    </tr>\n",
       "    <tr>\n",
       "      <th>6</th>\n",
       "      <td>aardsda01</td>\n",
       "      <td>2012</td>\n",
       "      <td>1</td>\n",
       "      <td>1</td>\n",
       "      <td>0</td>\n",
       "      <td>0</td>\n",
       "      <td>0</td>\n",
       "      <td>0</td>\n",
       "      <td>0</td>\n",
       "      <td>0</td>\n",
       "      <td>0</td>\n",
       "      <td>0</td>\n",
       "      <td>0</td>\n",
       "      <td>0</td>\n",
       "      <td>0</td>\n",
       "      <td>0</td>\n",
       "      <td>0</td>\n",
       "      <td>0</td>\n",
       "      <td>0</td>\n",
       "      <td>0</td>\n",
       "    </tr>\n",
       "    <tr>\n",
       "      <th>7</th>\n",
       "      <td>aardsda01</td>\n",
       "      <td>2013</td>\n",
       "      <td>1</td>\n",
       "      <td>43</td>\n",
       "      <td>0</td>\n",
       "      <td>0</td>\n",
       "      <td>0</td>\n",
       "      <td>0</td>\n",
       "      <td>0</td>\n",
       "      <td>0</td>\n",
       "      <td>0</td>\n",
       "      <td>0</td>\n",
       "      <td>0</td>\n",
       "      <td>0</td>\n",
       "      <td>0</td>\n",
       "      <td>0</td>\n",
       "      <td>0</td>\n",
       "      <td>0</td>\n",
       "      <td>0</td>\n",
       "      <td>0</td>\n",
       "    </tr>\n",
       "    <tr>\n",
       "      <th>8</th>\n",
       "      <td>aaronha01</td>\n",
       "      <td>1954</td>\n",
       "      <td>1</td>\n",
       "      <td>122</td>\n",
       "      <td>468</td>\n",
       "      <td>58</td>\n",
       "      <td>131</td>\n",
       "      <td>27</td>\n",
       "      <td>6</td>\n",
       "      <td>13</td>\n",
       "      <td>69</td>\n",
       "      <td>2</td>\n",
       "      <td>2</td>\n",
       "      <td>28</td>\n",
       "      <td>39</td>\n",
       "      <td>NaN</td>\n",
       "      <td>3</td>\n",
       "      <td>6</td>\n",
       "      <td>4</td>\n",
       "      <td>13</td>\n",
       "    </tr>\n",
       "    <tr>\n",
       "      <th>9</th>\n",
       "      <td>aaronha01</td>\n",
       "      <td>1955</td>\n",
       "      <td>1</td>\n",
       "      <td>153</td>\n",
       "      <td>602</td>\n",
       "      <td>105</td>\n",
       "      <td>189</td>\n",
       "      <td>37</td>\n",
       "      <td>9</td>\n",
       "      <td>27</td>\n",
       "      <td>106</td>\n",
       "      <td>3</td>\n",
       "      <td>1</td>\n",
       "      <td>49</td>\n",
       "      <td>61</td>\n",
       "      <td>5</td>\n",
       "      <td>3</td>\n",
       "      <td>7</td>\n",
       "      <td>4</td>\n",
       "      <td>20</td>\n",
       "    </tr>\n",
       "  </tbody>\n",
       "</table>\n",
       "</div>"
      ],
      "text/plain": [
       "    playerID  yearID  stint    G   AB    R    H  2B  3B  HR  RBI  SB  CS  BB  \\\n",
       "0  aardsda01    2004      1   11    0    0    0   0   0   0    0   0   0   0   \n",
       "1  aardsda01    2006      1   45    2    0    0   0   0   0    0   0   0   0   \n",
       "2  aardsda01    2007      1   25    0    0    0   0   0   0    0   0   0   0   \n",
       "3  aardsda01    2008      1   47    1    0    0   0   0   0    0   0   0   0   \n",
       "4  aardsda01    2009      1   73    0    0    0   0   0   0    0   0   0   0   \n",
       "5  aardsda01    2010      1   53    0    0    0   0   0   0    0   0   0   0   \n",
       "6  aardsda01    2012      1    1    0    0    0   0   0   0    0   0   0   0   \n",
       "7  aardsda01    2013      1   43    0    0    0   0   0   0    0   0   0   0   \n",
       "8  aaronha01    1954      1  122  468   58  131  27   6  13   69   2   2  28   \n",
       "9  aaronha01    1955      1  153  602  105  189  37   9  27  106   3   1  49   \n",
       "\n",
       "   SO  IBB  HBP  SH  SF  GIDP  \n",
       "0   0    0    0   0   0     0  \n",
       "1   0    0    0   1   0     0  \n",
       "2   0    0    0   0   0     0  \n",
       "3   1    0    0   0   0     0  \n",
       "4   0    0    0   0   0     0  \n",
       "5   0    0    0   0   0     0  \n",
       "6   0    0    0   0   0     0  \n",
       "7   0    0    0   0   0     0  \n",
       "8  39  NaN    3   6   4    13  \n",
       "9  61    5    3   7   4    20  "
      ]
     },
     "execution_count": 2,
     "metadata": {},
     "output_type": "execute_result"
    }
   ],
   "source": [
    "batting_by_p_by_y = batting.groupby(['playerID','yearID'], as_index=False).sum()\n",
    "batting_by_p_by_y.head(10)"
   ]
  },
  {
   "cell_type": "markdown",
   "metadata": {},
   "source": [
    "I need to create a few standard baseball statistics to use in the comparison.  I'll create batting average, on base percentage, and slugging percentage.  I'm also adding these statistics to my grouped 'batting' dataframe."
   ]
  },
  {
   "cell_type": "code",
   "execution_count": 3,
   "metadata": {
    "collapsed": false
   },
   "outputs": [],
   "source": [
    "batting_average = batting_by_p_by_y['H'] / batting_by_p_by_y['AB']\n",
    "batting_by_p_by_y['BatAvg'] = batting_average\n",
    "\n",
    "on_base_percent = (batting_by_p_by_y['H'] + batting_by_p_by_y['BB'] + \\\n",
    "                   batting_by_p_by_y['IBB'] + batting_by_p_by_y['HBP']) / \\\n",
    "                    (batting_by_p_by_y['AB'] + batting_by_p_by_y['BB'] + \\\n",
    "                     batting_by_p_by_y['IBB'] + batting_by_p_by_y['HBP'] + \\\n",
    "                     batting_by_p_by_y['SF'])\n",
    "batting_by_p_by_y['OBP'] = on_base_percent\n",
    "\n",
    "slg_percentage = (batting_by_p_by_y['H'] + batting_by_p_by_y['2B'] + \\\n",
    "                  batting_by_p_by_y['3B'] * 2 \\\n",
    "                  + batting_by_p_by_y['HR'] * 3) / batting_by_p_by_y['AB']\n",
    "batting_by_p_by_y['SLG'] = slg_percentage"
   ]
  },
  {
   "cell_type": "markdown",
   "metadata": {},
   "source": [
    "To begin answering my first question I need to create a function to identify the batting average groupings I want to compare.  This way I can compare batters who are right below and above the points of comparison (.300 and .275).  Using pandas dataframe, I can create my function, 'BattingAvgGrouping', and vectorize it within the 'apply' function.  The \"value_counts\" function allows me to see the counts of my groups created from the original function. "
   ]
  },
  {
   "cell_type": "code",
   "execution_count": 4,
   "metadata": {
    "collapsed": false,
    "scrolled": true
   },
   "outputs": [
    {
     "data": {
      "text/plain": [
       "Other                  78207\n",
       "Between .265 & .274     4687\n",
       "Between .275 & .285     4105\n",
       "Between .290 & .299     2784\n",
       "Between .300 & .310     2767\n",
       "Name: BatAvgGrouping, dtype: int64"
      ]
     },
     "execution_count": 4,
     "metadata": {},
     "output_type": "execute_result"
    }
   ],
   "source": [
    "def BattingAvgGrouping(BatAvg):\n",
    "    if (BatAvg >= .290) & (BatAvg < .300):\n",
    "        return 'Between .290 & .299'\n",
    "    elif (BatAvg >= .300) & (BatAvg < .310):\n",
    "        return 'Between .300 & .310'\n",
    "    elif (BatAvg >= .265) & (BatAvg < .275):\n",
    "        return 'Between .265 & .274'\n",
    "    elif (BatAvg >= .275) & (BatAvg < .285):\n",
    "        return 'Between .275 & .285'\n",
    "    else:\n",
    "        return 'Other'\n",
    "    \n",
    "BatAvgGrouping = batting_by_p_by_y['BatAvg'].apply(BattingAvgGrouping)\n",
    "batting_by_p_by_y['BatAvgGrouping'] = BatAvgGrouping\n",
    "\n",
    "batting_by_p_by_y['BatAvgGrouping'].value_counts()"
   ]
  },
  {
   "cell_type": "markdown",
   "metadata": {},
   "source": [
    "To help me merge my batting and salary tables, I need to create a concatanated index of 'playerID' and 'yearID'.  I used the 'apply(str)' to convert the column's data type from int64 to string (to help with concatanating).  I believe I could have done this without combining player and year IDs but this seemed easiest for me to figure out."
   ]
  },
  {
   "cell_type": "code",
   "execution_count": 5,
   "metadata": {
    "collapsed": false
   },
   "outputs": [
    {
     "data": {
      "text/html": [
       "<div>\n",
       "<table border=\"1\" class=\"dataframe\">\n",
       "  <thead>\n",
       "    <tr style=\"text-align: right;\">\n",
       "      <th></th>\n",
       "      <th>playerID</th>\n",
       "      <th>yearID</th>\n",
       "      <th>stint</th>\n",
       "      <th>G</th>\n",
       "      <th>AB</th>\n",
       "      <th>R</th>\n",
       "      <th>H</th>\n",
       "      <th>2B</th>\n",
       "      <th>3B</th>\n",
       "      <th>HR</th>\n",
       "      <th>...</th>\n",
       "      <th>HBP</th>\n",
       "      <th>SH</th>\n",
       "      <th>SF</th>\n",
       "      <th>GIDP</th>\n",
       "      <th>BatAvg</th>\n",
       "      <th>OBP</th>\n",
       "      <th>SLG</th>\n",
       "      <th>BatAvgGrouping</th>\n",
       "      <th>yearID2</th>\n",
       "      <th>player_year_ID</th>\n",
       "    </tr>\n",
       "  </thead>\n",
       "  <tbody>\n",
       "    <tr>\n",
       "      <th>0</th>\n",
       "      <td>aardsda01</td>\n",
       "      <td>2004</td>\n",
       "      <td>1</td>\n",
       "      <td>11</td>\n",
       "      <td>0</td>\n",
       "      <td>0</td>\n",
       "      <td>0</td>\n",
       "      <td>0</td>\n",
       "      <td>0</td>\n",
       "      <td>0</td>\n",
       "      <td>...</td>\n",
       "      <td>0</td>\n",
       "      <td>0</td>\n",
       "      <td>0</td>\n",
       "      <td>0</td>\n",
       "      <td>NaN</td>\n",
       "      <td>NaN</td>\n",
       "      <td>NaN</td>\n",
       "      <td>Other</td>\n",
       "      <td>2004</td>\n",
       "      <td>aardsda012004</td>\n",
       "    </tr>\n",
       "    <tr>\n",
       "      <th>1</th>\n",
       "      <td>aardsda01</td>\n",
       "      <td>2006</td>\n",
       "      <td>1</td>\n",
       "      <td>45</td>\n",
       "      <td>2</td>\n",
       "      <td>0</td>\n",
       "      <td>0</td>\n",
       "      <td>0</td>\n",
       "      <td>0</td>\n",
       "      <td>0</td>\n",
       "      <td>...</td>\n",
       "      <td>0</td>\n",
       "      <td>1</td>\n",
       "      <td>0</td>\n",
       "      <td>0</td>\n",
       "      <td>0.000000</td>\n",
       "      <td>0.000000</td>\n",
       "      <td>0.000000</td>\n",
       "      <td>Other</td>\n",
       "      <td>2006</td>\n",
       "      <td>aardsda012006</td>\n",
       "    </tr>\n",
       "    <tr>\n",
       "      <th>2</th>\n",
       "      <td>aardsda01</td>\n",
       "      <td>2007</td>\n",
       "      <td>1</td>\n",
       "      <td>25</td>\n",
       "      <td>0</td>\n",
       "      <td>0</td>\n",
       "      <td>0</td>\n",
       "      <td>0</td>\n",
       "      <td>0</td>\n",
       "      <td>0</td>\n",
       "      <td>...</td>\n",
       "      <td>0</td>\n",
       "      <td>0</td>\n",
       "      <td>0</td>\n",
       "      <td>0</td>\n",
       "      <td>NaN</td>\n",
       "      <td>NaN</td>\n",
       "      <td>NaN</td>\n",
       "      <td>Other</td>\n",
       "      <td>2007</td>\n",
       "      <td>aardsda012007</td>\n",
       "    </tr>\n",
       "    <tr>\n",
       "      <th>3</th>\n",
       "      <td>aardsda01</td>\n",
       "      <td>2008</td>\n",
       "      <td>1</td>\n",
       "      <td>47</td>\n",
       "      <td>1</td>\n",
       "      <td>0</td>\n",
       "      <td>0</td>\n",
       "      <td>0</td>\n",
       "      <td>0</td>\n",
       "      <td>0</td>\n",
       "      <td>...</td>\n",
       "      <td>0</td>\n",
       "      <td>0</td>\n",
       "      <td>0</td>\n",
       "      <td>0</td>\n",
       "      <td>0.000000</td>\n",
       "      <td>0.000000</td>\n",
       "      <td>0.000000</td>\n",
       "      <td>Other</td>\n",
       "      <td>2008</td>\n",
       "      <td>aardsda012008</td>\n",
       "    </tr>\n",
       "    <tr>\n",
       "      <th>4</th>\n",
       "      <td>aardsda01</td>\n",
       "      <td>2009</td>\n",
       "      <td>1</td>\n",
       "      <td>73</td>\n",
       "      <td>0</td>\n",
       "      <td>0</td>\n",
       "      <td>0</td>\n",
       "      <td>0</td>\n",
       "      <td>0</td>\n",
       "      <td>0</td>\n",
       "      <td>...</td>\n",
       "      <td>0</td>\n",
       "      <td>0</td>\n",
       "      <td>0</td>\n",
       "      <td>0</td>\n",
       "      <td>NaN</td>\n",
       "      <td>NaN</td>\n",
       "      <td>NaN</td>\n",
       "      <td>Other</td>\n",
       "      <td>2009</td>\n",
       "      <td>aardsda012009</td>\n",
       "    </tr>\n",
       "    <tr>\n",
       "      <th>5</th>\n",
       "      <td>aardsda01</td>\n",
       "      <td>2010</td>\n",
       "      <td>1</td>\n",
       "      <td>53</td>\n",
       "      <td>0</td>\n",
       "      <td>0</td>\n",
       "      <td>0</td>\n",
       "      <td>0</td>\n",
       "      <td>0</td>\n",
       "      <td>0</td>\n",
       "      <td>...</td>\n",
       "      <td>0</td>\n",
       "      <td>0</td>\n",
       "      <td>0</td>\n",
       "      <td>0</td>\n",
       "      <td>NaN</td>\n",
       "      <td>NaN</td>\n",
       "      <td>NaN</td>\n",
       "      <td>Other</td>\n",
       "      <td>2010</td>\n",
       "      <td>aardsda012010</td>\n",
       "    </tr>\n",
       "    <tr>\n",
       "      <th>6</th>\n",
       "      <td>aardsda01</td>\n",
       "      <td>2012</td>\n",
       "      <td>1</td>\n",
       "      <td>1</td>\n",
       "      <td>0</td>\n",
       "      <td>0</td>\n",
       "      <td>0</td>\n",
       "      <td>0</td>\n",
       "      <td>0</td>\n",
       "      <td>0</td>\n",
       "      <td>...</td>\n",
       "      <td>0</td>\n",
       "      <td>0</td>\n",
       "      <td>0</td>\n",
       "      <td>0</td>\n",
       "      <td>NaN</td>\n",
       "      <td>NaN</td>\n",
       "      <td>NaN</td>\n",
       "      <td>Other</td>\n",
       "      <td>2012</td>\n",
       "      <td>aardsda012012</td>\n",
       "    </tr>\n",
       "    <tr>\n",
       "      <th>7</th>\n",
       "      <td>aardsda01</td>\n",
       "      <td>2013</td>\n",
       "      <td>1</td>\n",
       "      <td>43</td>\n",
       "      <td>0</td>\n",
       "      <td>0</td>\n",
       "      <td>0</td>\n",
       "      <td>0</td>\n",
       "      <td>0</td>\n",
       "      <td>0</td>\n",
       "      <td>...</td>\n",
       "      <td>0</td>\n",
       "      <td>0</td>\n",
       "      <td>0</td>\n",
       "      <td>0</td>\n",
       "      <td>NaN</td>\n",
       "      <td>NaN</td>\n",
       "      <td>NaN</td>\n",
       "      <td>Other</td>\n",
       "      <td>2013</td>\n",
       "      <td>aardsda012013</td>\n",
       "    </tr>\n",
       "    <tr>\n",
       "      <th>8</th>\n",
       "      <td>aaronha01</td>\n",
       "      <td>1954</td>\n",
       "      <td>1</td>\n",
       "      <td>122</td>\n",
       "      <td>468</td>\n",
       "      <td>58</td>\n",
       "      <td>131</td>\n",
       "      <td>27</td>\n",
       "      <td>6</td>\n",
       "      <td>13</td>\n",
       "      <td>...</td>\n",
       "      <td>3</td>\n",
       "      <td>6</td>\n",
       "      <td>4</td>\n",
       "      <td>13</td>\n",
       "      <td>0.279915</td>\n",
       "      <td>NaN</td>\n",
       "      <td>0.446581</td>\n",
       "      <td>Between .275 &amp; .285</td>\n",
       "      <td>1954</td>\n",
       "      <td>aaronha011954</td>\n",
       "    </tr>\n",
       "    <tr>\n",
       "      <th>9</th>\n",
       "      <td>aaronha01</td>\n",
       "      <td>1955</td>\n",
       "      <td>1</td>\n",
       "      <td>153</td>\n",
       "      <td>602</td>\n",
       "      <td>105</td>\n",
       "      <td>189</td>\n",
       "      <td>37</td>\n",
       "      <td>9</td>\n",
       "      <td>27</td>\n",
       "      <td>...</td>\n",
       "      <td>3</td>\n",
       "      <td>7</td>\n",
       "      <td>4</td>\n",
       "      <td>20</td>\n",
       "      <td>0.313953</td>\n",
       "      <td>0.371041</td>\n",
       "      <td>0.539867</td>\n",
       "      <td>Other</td>\n",
       "      <td>1955</td>\n",
       "      <td>aaronha011955</td>\n",
       "    </tr>\n",
       "  </tbody>\n",
       "</table>\n",
       "<p>10 rows × 26 columns</p>\n",
       "</div>"
      ],
      "text/plain": [
       "    playerID  yearID  stint    G   AB    R    H  2B  3B  HR       ...        \\\n",
       "0  aardsda01    2004      1   11    0    0    0   0   0   0       ...         \n",
       "1  aardsda01    2006      1   45    2    0    0   0   0   0       ...         \n",
       "2  aardsda01    2007      1   25    0    0    0   0   0   0       ...         \n",
       "3  aardsda01    2008      1   47    1    0    0   0   0   0       ...         \n",
       "4  aardsda01    2009      1   73    0    0    0   0   0   0       ...         \n",
       "5  aardsda01    2010      1   53    0    0    0   0   0   0       ...         \n",
       "6  aardsda01    2012      1    1    0    0    0   0   0   0       ...         \n",
       "7  aardsda01    2013      1   43    0    0    0   0   0   0       ...         \n",
       "8  aaronha01    1954      1  122  468   58  131  27   6  13       ...         \n",
       "9  aaronha01    1955      1  153  602  105  189  37   9  27       ...         \n",
       "\n",
       "   HBP  SH  SF  GIDP    BatAvg       OBP       SLG       BatAvgGrouping  \\\n",
       "0    0   0   0     0       NaN       NaN       NaN                Other   \n",
       "1    0   1   0     0  0.000000  0.000000  0.000000                Other   \n",
       "2    0   0   0     0       NaN       NaN       NaN                Other   \n",
       "3    0   0   0     0  0.000000  0.000000  0.000000                Other   \n",
       "4    0   0   0     0       NaN       NaN       NaN                Other   \n",
       "5    0   0   0     0       NaN       NaN       NaN                Other   \n",
       "6    0   0   0     0       NaN       NaN       NaN                Other   \n",
       "7    0   0   0     0       NaN       NaN       NaN                Other   \n",
       "8    3   6   4    13  0.279915       NaN  0.446581  Between .275 & .285   \n",
       "9    3   7   4    20  0.313953  0.371041  0.539867                Other   \n",
       "\n",
       "   yearID2  player_year_ID  \n",
       "0     2004   aardsda012004  \n",
       "1     2006   aardsda012006  \n",
       "2     2007   aardsda012007  \n",
       "3     2008   aardsda012008  \n",
       "4     2009   aardsda012009  \n",
       "5     2010   aardsda012010  \n",
       "6     2012   aardsda012012  \n",
       "7     2013   aardsda012013  \n",
       "8     1954   aaronha011954  \n",
       "9     1955   aaronha011955  \n",
       "\n",
       "[10 rows x 26 columns]"
      ]
     },
     "execution_count": 5,
     "metadata": {},
     "output_type": "execute_result"
    }
   ],
   "source": [
    "batting_by_p_by_y['yearID2'] = batting_by_p_by_y['yearID'].apply(str)\n",
    "batting_by_p_by_y['player_year_ID'] = batting_by_p_by_y['playerID'] + \\\n",
    "                                        batting_by_p_by_y['yearID2']\n",
    "batting_by_p_by_y.head(10)"
   ]
  },
  {
   "cell_type": "markdown",
   "metadata": {},
   "source": [
    "Here I am doing the same thing with the salary table.  However, please note that I am also working to \"shift\" my years so that I am comparing this years batting statistics to next years salary.  I'm doing this because I want to understand the relationship of batting statistics on salary and salary, at least in MLB, is determined prior to the season so comparing batting and salary for the same year doesn't seem to make much since.  To do this, I created a new year column, made it one year less than the original, and then used the new year column as part of my concatanated index. "
   ]
  },
  {
   "cell_type": "code",
   "execution_count": 6,
   "metadata": {
    "collapsed": false
   },
   "outputs": [
    {
     "data": {
      "text/html": [
       "<div>\n",
       "<table border=\"1\" class=\"dataframe\">\n",
       "  <thead>\n",
       "    <tr style=\"text-align: right;\">\n",
       "      <th></th>\n",
       "      <th>yearID</th>\n",
       "      <th>teamID</th>\n",
       "      <th>lgID</th>\n",
       "      <th>playerID</th>\n",
       "      <th>salary</th>\n",
       "      <th>yearID2</th>\n",
       "      <th>player_year_ID</th>\n",
       "    </tr>\n",
       "  </thead>\n",
       "  <tbody>\n",
       "    <tr>\n",
       "      <th>0</th>\n",
       "      <td>1985</td>\n",
       "      <td>ATL</td>\n",
       "      <td>NL</td>\n",
       "      <td>barkele01</td>\n",
       "      <td>870000</td>\n",
       "      <td>1984</td>\n",
       "      <td>barkele011984</td>\n",
       "    </tr>\n",
       "    <tr>\n",
       "      <th>1</th>\n",
       "      <td>1985</td>\n",
       "      <td>ATL</td>\n",
       "      <td>NL</td>\n",
       "      <td>bedrost01</td>\n",
       "      <td>550000</td>\n",
       "      <td>1984</td>\n",
       "      <td>bedrost011984</td>\n",
       "    </tr>\n",
       "    <tr>\n",
       "      <th>2</th>\n",
       "      <td>1985</td>\n",
       "      <td>ATL</td>\n",
       "      <td>NL</td>\n",
       "      <td>benedbr01</td>\n",
       "      <td>545000</td>\n",
       "      <td>1984</td>\n",
       "      <td>benedbr011984</td>\n",
       "    </tr>\n",
       "    <tr>\n",
       "      <th>3</th>\n",
       "      <td>1985</td>\n",
       "      <td>ATL</td>\n",
       "      <td>NL</td>\n",
       "      <td>campri01</td>\n",
       "      <td>633333</td>\n",
       "      <td>1984</td>\n",
       "      <td>campri011984</td>\n",
       "    </tr>\n",
       "    <tr>\n",
       "      <th>4</th>\n",
       "      <td>1985</td>\n",
       "      <td>ATL</td>\n",
       "      <td>NL</td>\n",
       "      <td>ceronri01</td>\n",
       "      <td>625000</td>\n",
       "      <td>1984</td>\n",
       "      <td>ceronri011984</td>\n",
       "    </tr>\n",
       "    <tr>\n",
       "      <th>5</th>\n",
       "      <td>1985</td>\n",
       "      <td>ATL</td>\n",
       "      <td>NL</td>\n",
       "      <td>chambch01</td>\n",
       "      <td>800000</td>\n",
       "      <td>1984</td>\n",
       "      <td>chambch011984</td>\n",
       "    </tr>\n",
       "    <tr>\n",
       "      <th>6</th>\n",
       "      <td>1985</td>\n",
       "      <td>ATL</td>\n",
       "      <td>NL</td>\n",
       "      <td>dedmoje01</td>\n",
       "      <td>150000</td>\n",
       "      <td>1984</td>\n",
       "      <td>dedmoje011984</td>\n",
       "    </tr>\n",
       "    <tr>\n",
       "      <th>7</th>\n",
       "      <td>1985</td>\n",
       "      <td>ATL</td>\n",
       "      <td>NL</td>\n",
       "      <td>forstte01</td>\n",
       "      <td>483333</td>\n",
       "      <td>1984</td>\n",
       "      <td>forstte011984</td>\n",
       "    </tr>\n",
       "    <tr>\n",
       "      <th>8</th>\n",
       "      <td>1985</td>\n",
       "      <td>ATL</td>\n",
       "      <td>NL</td>\n",
       "      <td>garbege01</td>\n",
       "      <td>772000</td>\n",
       "      <td>1984</td>\n",
       "      <td>garbege011984</td>\n",
       "    </tr>\n",
       "    <tr>\n",
       "      <th>9</th>\n",
       "      <td>1985</td>\n",
       "      <td>ATL</td>\n",
       "      <td>NL</td>\n",
       "      <td>harpete01</td>\n",
       "      <td>250000</td>\n",
       "      <td>1984</td>\n",
       "      <td>harpete011984</td>\n",
       "    </tr>\n",
       "  </tbody>\n",
       "</table>\n",
       "</div>"
      ],
      "text/plain": [
       "   yearID teamID lgID   playerID  salary yearID2 player_year_ID\n",
       "0    1985    ATL   NL  barkele01  870000    1984  barkele011984\n",
       "1    1985    ATL   NL  bedrost01  550000    1984  bedrost011984\n",
       "2    1985    ATL   NL  benedbr01  545000    1984  benedbr011984\n",
       "3    1985    ATL   NL   campri01  633333    1984   campri011984\n",
       "4    1985    ATL   NL  ceronri01  625000    1984  ceronri011984\n",
       "5    1985    ATL   NL  chambch01  800000    1984  chambch011984\n",
       "6    1985    ATL   NL  dedmoje01  150000    1984  dedmoje011984\n",
       "7    1985    ATL   NL  forstte01  483333    1984  forstte011984\n",
       "8    1985    ATL   NL  garbege01  772000    1984  garbege011984\n",
       "9    1985    ATL   NL  harpete01  250000    1984  harpete011984"
      ]
     },
     "execution_count": 6,
     "metadata": {},
     "output_type": "execute_result"
    }
   ],
   "source": [
    "player_salary['yearID2'] = player_salary['yearID'] - 1\n",
    "player_salary['yearID2'] = player_salary['yearID2'].apply(str)\n",
    "player_salary['player_year_ID'] = player_salary['playerID'] + player_salary['yearID2']\n",
    "player_salary.head(10)"
   ]
  },
  {
   "cell_type": "markdown",
   "metadata": {},
   "source": [
    "Once I have prepared my indexes, I can complete my merge.  I choose to make this an \"inner\" join to ensure I would always have salary information for my batting statistics.  I don't believe I need to worry about missing data as most of the missing data was prior to 1985 (the year the salary data starts)."
   ]
  },
  {
   "cell_type": "code",
   "execution_count": 7,
   "metadata": {
    "collapsed": false,
    "scrolled": true
   },
   "outputs": [
    {
     "data": {
      "text/html": [
       "<div>\n",
       "<table border=\"1\" class=\"dataframe\">\n",
       "  <thead>\n",
       "    <tr style=\"text-align: right;\">\n",
       "      <th></th>\n",
       "      <th>playerID_x</th>\n",
       "      <th>yearID_x</th>\n",
       "      <th>stint</th>\n",
       "      <th>G</th>\n",
       "      <th>AB</th>\n",
       "      <th>R</th>\n",
       "      <th>H</th>\n",
       "      <th>2B</th>\n",
       "      <th>3B</th>\n",
       "      <th>HR</th>\n",
       "      <th>...</th>\n",
       "      <th>SLG</th>\n",
       "      <th>BatAvgGrouping</th>\n",
       "      <th>yearID2_x</th>\n",
       "      <th>player_year_ID</th>\n",
       "      <th>yearID_y</th>\n",
       "      <th>teamID</th>\n",
       "      <th>lgID</th>\n",
       "      <th>playerID_y</th>\n",
       "      <th>salary</th>\n",
       "      <th>yearID2_y</th>\n",
       "    </tr>\n",
       "  </thead>\n",
       "  <tbody>\n",
       "    <tr>\n",
       "      <th>0</th>\n",
       "      <td>aardsda01</td>\n",
       "      <td>2006</td>\n",
       "      <td>1</td>\n",
       "      <td>45</td>\n",
       "      <td>2</td>\n",
       "      <td>0</td>\n",
       "      <td>0</td>\n",
       "      <td>0</td>\n",
       "      <td>0</td>\n",
       "      <td>0</td>\n",
       "      <td>...</td>\n",
       "      <td>0</td>\n",
       "      <td>Other</td>\n",
       "      <td>2006</td>\n",
       "      <td>aardsda012006</td>\n",
       "      <td>2007</td>\n",
       "      <td>CHA</td>\n",
       "      <td>AL</td>\n",
       "      <td>aardsda01</td>\n",
       "      <td>387500</td>\n",
       "      <td>2006</td>\n",
       "    </tr>\n",
       "    <tr>\n",
       "      <th>1</th>\n",
       "      <td>aardsda01</td>\n",
       "      <td>2007</td>\n",
       "      <td>1</td>\n",
       "      <td>25</td>\n",
       "      <td>0</td>\n",
       "      <td>0</td>\n",
       "      <td>0</td>\n",
       "      <td>0</td>\n",
       "      <td>0</td>\n",
       "      <td>0</td>\n",
       "      <td>...</td>\n",
       "      <td>NaN</td>\n",
       "      <td>Other</td>\n",
       "      <td>2007</td>\n",
       "      <td>aardsda012007</td>\n",
       "      <td>2008</td>\n",
       "      <td>BOS</td>\n",
       "      <td>AL</td>\n",
       "      <td>aardsda01</td>\n",
       "      <td>403250</td>\n",
       "      <td>2007</td>\n",
       "    </tr>\n",
       "    <tr>\n",
       "      <th>2</th>\n",
       "      <td>aardsda01</td>\n",
       "      <td>2008</td>\n",
       "      <td>1</td>\n",
       "      <td>47</td>\n",
       "      <td>1</td>\n",
       "      <td>0</td>\n",
       "      <td>0</td>\n",
       "      <td>0</td>\n",
       "      <td>0</td>\n",
       "      <td>0</td>\n",
       "      <td>...</td>\n",
       "      <td>0</td>\n",
       "      <td>Other</td>\n",
       "      <td>2008</td>\n",
       "      <td>aardsda012008</td>\n",
       "      <td>2009</td>\n",
       "      <td>SEA</td>\n",
       "      <td>AL</td>\n",
       "      <td>aardsda01</td>\n",
       "      <td>419000</td>\n",
       "      <td>2008</td>\n",
       "    </tr>\n",
       "    <tr>\n",
       "      <th>3</th>\n",
       "      <td>aardsda01</td>\n",
       "      <td>2009</td>\n",
       "      <td>1</td>\n",
       "      <td>73</td>\n",
       "      <td>0</td>\n",
       "      <td>0</td>\n",
       "      <td>0</td>\n",
       "      <td>0</td>\n",
       "      <td>0</td>\n",
       "      <td>0</td>\n",
       "      <td>...</td>\n",
       "      <td>NaN</td>\n",
       "      <td>Other</td>\n",
       "      <td>2009</td>\n",
       "      <td>aardsda012009</td>\n",
       "      <td>2010</td>\n",
       "      <td>SEA</td>\n",
       "      <td>AL</td>\n",
       "      <td>aardsda01</td>\n",
       "      <td>2750000</td>\n",
       "      <td>2009</td>\n",
       "    </tr>\n",
       "    <tr>\n",
       "      <th>4</th>\n",
       "      <td>aardsda01</td>\n",
       "      <td>2010</td>\n",
       "      <td>1</td>\n",
       "      <td>53</td>\n",
       "      <td>0</td>\n",
       "      <td>0</td>\n",
       "      <td>0</td>\n",
       "      <td>0</td>\n",
       "      <td>0</td>\n",
       "      <td>0</td>\n",
       "      <td>...</td>\n",
       "      <td>NaN</td>\n",
       "      <td>Other</td>\n",
       "      <td>2010</td>\n",
       "      <td>aardsda012010</td>\n",
       "      <td>2011</td>\n",
       "      <td>SEA</td>\n",
       "      <td>AL</td>\n",
       "      <td>aardsda01</td>\n",
       "      <td>4500000</td>\n",
       "      <td>2010</td>\n",
       "    </tr>\n",
       "    <tr>\n",
       "      <th>5</th>\n",
       "      <td>aasedo01</td>\n",
       "      <td>1985</td>\n",
       "      <td>1</td>\n",
       "      <td>54</td>\n",
       "      <td>NaN</td>\n",
       "      <td>NaN</td>\n",
       "      <td>NaN</td>\n",
       "      <td>NaN</td>\n",
       "      <td>NaN</td>\n",
       "      <td>NaN</td>\n",
       "      <td>...</td>\n",
       "      <td>NaN</td>\n",
       "      <td>Other</td>\n",
       "      <td>1985</td>\n",
       "      <td>aasedo011985</td>\n",
       "      <td>1986</td>\n",
       "      <td>BAL</td>\n",
       "      <td>AL</td>\n",
       "      <td>aasedo01</td>\n",
       "      <td>600000</td>\n",
       "      <td>1985</td>\n",
       "    </tr>\n",
       "    <tr>\n",
       "      <th>6</th>\n",
       "      <td>aasedo01</td>\n",
       "      <td>1986</td>\n",
       "      <td>1</td>\n",
       "      <td>66</td>\n",
       "      <td>NaN</td>\n",
       "      <td>NaN</td>\n",
       "      <td>NaN</td>\n",
       "      <td>NaN</td>\n",
       "      <td>NaN</td>\n",
       "      <td>NaN</td>\n",
       "      <td>...</td>\n",
       "      <td>NaN</td>\n",
       "      <td>Other</td>\n",
       "      <td>1986</td>\n",
       "      <td>aasedo011986</td>\n",
       "      <td>1987</td>\n",
       "      <td>BAL</td>\n",
       "      <td>AL</td>\n",
       "      <td>aasedo01</td>\n",
       "      <td>625000</td>\n",
       "      <td>1986</td>\n",
       "    </tr>\n",
       "    <tr>\n",
       "      <th>7</th>\n",
       "      <td>aasedo01</td>\n",
       "      <td>1987</td>\n",
       "      <td>1</td>\n",
       "      <td>7</td>\n",
       "      <td>NaN</td>\n",
       "      <td>NaN</td>\n",
       "      <td>NaN</td>\n",
       "      <td>NaN</td>\n",
       "      <td>NaN</td>\n",
       "      <td>NaN</td>\n",
       "      <td>...</td>\n",
       "      <td>NaN</td>\n",
       "      <td>Other</td>\n",
       "      <td>1987</td>\n",
       "      <td>aasedo011987</td>\n",
       "      <td>1988</td>\n",
       "      <td>BAL</td>\n",
       "      <td>AL</td>\n",
       "      <td>aasedo01</td>\n",
       "      <td>675000</td>\n",
       "      <td>1987</td>\n",
       "    </tr>\n",
       "    <tr>\n",
       "      <th>8</th>\n",
       "      <td>aasedo01</td>\n",
       "      <td>1988</td>\n",
       "      <td>1</td>\n",
       "      <td>35</td>\n",
       "      <td>NaN</td>\n",
       "      <td>NaN</td>\n",
       "      <td>NaN</td>\n",
       "      <td>NaN</td>\n",
       "      <td>NaN</td>\n",
       "      <td>NaN</td>\n",
       "      <td>...</td>\n",
       "      <td>NaN</td>\n",
       "      <td>Other</td>\n",
       "      <td>1988</td>\n",
       "      <td>aasedo011988</td>\n",
       "      <td>1989</td>\n",
       "      <td>NYN</td>\n",
       "      <td>NL</td>\n",
       "      <td>aasedo01</td>\n",
       "      <td>400000</td>\n",
       "      <td>1988</td>\n",
       "    </tr>\n",
       "    <tr>\n",
       "      <th>9</th>\n",
       "      <td>abadfe01</td>\n",
       "      <td>2010</td>\n",
       "      <td>1</td>\n",
       "      <td>22</td>\n",
       "      <td>1</td>\n",
       "      <td>0</td>\n",
       "      <td>0</td>\n",
       "      <td>0</td>\n",
       "      <td>0</td>\n",
       "      <td>0</td>\n",
       "      <td>...</td>\n",
       "      <td>0</td>\n",
       "      <td>Other</td>\n",
       "      <td>2010</td>\n",
       "      <td>abadfe012010</td>\n",
       "      <td>2011</td>\n",
       "      <td>HOU</td>\n",
       "      <td>NL</td>\n",
       "      <td>abadfe01</td>\n",
       "      <td>418000</td>\n",
       "      <td>2010</td>\n",
       "    </tr>\n",
       "  </tbody>\n",
       "</table>\n",
       "<p>10 rows × 32 columns</p>\n",
       "</div>"
      ],
      "text/plain": [
       "  playerID_x  yearID_x  stint   G  AB   R   H  2B  3B  HR    ...      SLG  \\\n",
       "0  aardsda01      2006      1  45   2   0   0   0   0   0    ...        0   \n",
       "1  aardsda01      2007      1  25   0   0   0   0   0   0    ...      NaN   \n",
       "2  aardsda01      2008      1  47   1   0   0   0   0   0    ...        0   \n",
       "3  aardsda01      2009      1  73   0   0   0   0   0   0    ...      NaN   \n",
       "4  aardsda01      2010      1  53   0   0   0   0   0   0    ...      NaN   \n",
       "5   aasedo01      1985      1  54 NaN NaN NaN NaN NaN NaN    ...      NaN   \n",
       "6   aasedo01      1986      1  66 NaN NaN NaN NaN NaN NaN    ...      NaN   \n",
       "7   aasedo01      1987      1   7 NaN NaN NaN NaN NaN NaN    ...      NaN   \n",
       "8   aasedo01      1988      1  35 NaN NaN NaN NaN NaN NaN    ...      NaN   \n",
       "9   abadfe01      2010      1  22   1   0   0   0   0   0    ...        0   \n",
       "\n",
       "   BatAvgGrouping  yearID2_x  player_year_ID  yearID_y  teamID  lgID  \\\n",
       "0           Other       2006   aardsda012006      2007     CHA    AL   \n",
       "1           Other       2007   aardsda012007      2008     BOS    AL   \n",
       "2           Other       2008   aardsda012008      2009     SEA    AL   \n",
       "3           Other       2009   aardsda012009      2010     SEA    AL   \n",
       "4           Other       2010   aardsda012010      2011     SEA    AL   \n",
       "5           Other       1985    aasedo011985      1986     BAL    AL   \n",
       "6           Other       1986    aasedo011986      1987     BAL    AL   \n",
       "7           Other       1987    aasedo011987      1988     BAL    AL   \n",
       "8           Other       1988    aasedo011988      1989     NYN    NL   \n",
       "9           Other       2010    abadfe012010      2011     HOU    NL   \n",
       "\n",
       "   playerID_y   salary  yearID2_y  \n",
       "0   aardsda01   387500       2006  \n",
       "1   aardsda01   403250       2007  \n",
       "2   aardsda01   419000       2008  \n",
       "3   aardsda01  2750000       2009  \n",
       "4   aardsda01  4500000       2010  \n",
       "5    aasedo01   600000       1985  \n",
       "6    aasedo01   625000       1986  \n",
       "7    aasedo01   675000       1987  \n",
       "8    aasedo01   400000       1988  \n",
       "9    abadfe01   418000       2010  \n",
       "\n",
       "[10 rows x 32 columns]"
      ]
     },
     "execution_count": 7,
     "metadata": {},
     "output_type": "execute_result"
    }
   ],
   "source": [
    "batting_and_salary_data = batting_by_p_by_y.merge(player_salary, on = 'player_year_ID', \\\n",
    "                                                  how = 'inner')\n",
    "batting_and_salary_data.head(10)"
   ]
  },
  {
   "cell_type": "markdown",
   "metadata": {},
   "source": [
    "Now that I have my combined dataframe, I begin making smaller filtered versions to help me use vectorized arithmetic later in the data exploration section."
   ]
  },
  {
   "cell_type": "code",
   "execution_count": 8,
   "metadata": {
    "collapsed": false
   },
   "outputs": [],
   "source": [
    "Between_265_274 = batting_and_salary_data.loc[batting_and_salary_data.BatAvgGrouping == \\\n",
    "                    'Between .265 & .274',['playerID_x','yearID_x','G', \\\n",
    "                    'AB', 'H', 'BatAvg', 'BatAvgGrouping','lgID' ,'salary']]\n",
    "Between_275_285 = batting_and_salary_data.loc[batting_and_salary_data.BatAvgGrouping == \\\n",
    "                    'Between .275 & .285',['playerID_x','yearID_x','G', \\\n",
    "                    'AB', 'H', 'BatAvg', 'BatAvgGrouping','lgID', 'salary']]\n",
    "Between_290_299 = batting_and_salary_data.loc[batting_and_salary_data.BatAvgGrouping == \\\n",
    "                    'Between .290 & .299',['playerID_x','yearID_x','G', \\\n",
    "                    'AB', 'H', 'BatAvg', 'BatAvgGrouping','lgID', 'salary']]\n",
    "Between_300_310 = batting_and_salary_data.loc[batting_and_salary_data.BatAvgGrouping == \\\n",
    "                    'Between .300 & .310',['playerID_x','yearID_x','G', \\\n",
    "                    'AB', 'H', 'BatAvg', 'BatAvgGrouping','lgID', 'salary']]"
   ]
  },
  {
   "cell_type": "markdown",
   "metadata": {},
   "source": [
    "### Data Exploration"
   ]
  },
  {
   "cell_type": "markdown",
   "metadata": {},
   "source": [
    "Let's check the average salary for each group.  We do see increases from lower group to higher group (which is good and what we expected).  The exploration seems the same amoung both leagues."
   ]
  },
  {
   "cell_type": "code",
   "execution_count": 9,
   "metadata": {
    "collapsed": false
   },
   "outputs": [
    {
     "data": {
      "text/plain": [
       "BatAvgGrouping\n",
       "Between .265 & .274    2413581\n",
       "Between .275 & .285    2693164\n",
       "Between .290 & .299    2989971\n",
       "Between .300 & .310    3458331\n",
       "Other                  1895563\n",
       "Name: salary, dtype: int64"
      ]
     },
     "execution_count": 9,
     "metadata": {},
     "output_type": "execute_result"
    }
   ],
   "source": [
    "batting_and_salary_data.pivot_table('salary', index='BatAvgGrouping', aggfunc='mean')"
   ]
  },
  {
   "cell_type": "code",
   "execution_count": 10,
   "metadata": {
    "collapsed": false
   },
   "outputs": [
    {
     "data": {
      "text/html": [
       "<div>\n",
       "<table border=\"1\" class=\"dataframe\">\n",
       "  <thead>\n",
       "    <tr style=\"text-align: right;\">\n",
       "      <th>lgID</th>\n",
       "      <th>AL</th>\n",
       "      <th>NL</th>\n",
       "    </tr>\n",
       "    <tr>\n",
       "      <th>BatAvgGrouping</th>\n",
       "      <th></th>\n",
       "      <th></th>\n",
       "    </tr>\n",
       "  </thead>\n",
       "  <tbody>\n",
       "    <tr>\n",
       "      <th>Between .265 &amp; .274</th>\n",
       "      <td>2591384</td>\n",
       "      <td>2268714</td>\n",
       "    </tr>\n",
       "    <tr>\n",
       "      <th>Between .275 &amp; .285</th>\n",
       "      <td>2749213</td>\n",
       "      <td>2639140</td>\n",
       "    </tr>\n",
       "    <tr>\n",
       "      <th>Between .290 &amp; .299</th>\n",
       "      <td>3257304</td>\n",
       "      <td>2744674</td>\n",
       "    </tr>\n",
       "    <tr>\n",
       "      <th>Between .300 &amp; .310</th>\n",
       "      <td>3547923</td>\n",
       "      <td>3375435</td>\n",
       "    </tr>\n",
       "    <tr>\n",
       "      <th>Other</th>\n",
       "      <td>1909288</td>\n",
       "      <td>1882312</td>\n",
       "    </tr>\n",
       "  </tbody>\n",
       "</table>\n",
       "</div>"
      ],
      "text/plain": [
       "lgID                      AL       NL\n",
       "BatAvgGrouping                       \n",
       "Between .265 & .274  2591384  2268714\n",
       "Between .275 & .285  2749213  2639140\n",
       "Between .290 & .299  3257304  2744674\n",
       "Between .300 & .310  3547923  3375435\n",
       "Other                1909288  1882312"
      ]
     },
     "execution_count": 10,
     "metadata": {},
     "output_type": "execute_result"
    }
   ],
   "source": [
    "batting_and_salary_data.pivot_table('salary', index='BatAvgGrouping',\\\n",
    "                                    columns='lgID', aggfunc='mean')"
   ]
  },
  {
   "cell_type": "markdown",
   "metadata": {},
   "source": [
    "Let's also check to make sure we are working with a good amount of data before we get too far.  We find that we have a somewhat sizeable dataset for each group.  It also shows that fewer people are batting in the .290 to .310 range, which is definitely expected.  Again the exploration seems very similar in both leagues."
   ]
  },
  {
   "cell_type": "code",
   "execution_count": 11,
   "metadata": {
    "collapsed": false
   },
   "outputs": [
    {
     "data": {
      "text/plain": [
       "BatAvgGrouping\n",
       "Between .265 & .274     1401\n",
       "Between .275 & .285     1304\n",
       "Between .290 & .299      884\n",
       "Between .300 & .310      747\n",
       "Other                  18228\n",
       "Name: salary, dtype: int64"
      ]
     },
     "execution_count": 11,
     "metadata": {},
     "output_type": "execute_result"
    }
   ],
   "source": [
    "batting_and_salary_data.pivot_table('salary', index='BatAvgGrouping', aggfunc='count')"
   ]
  },
  {
   "cell_type": "code",
   "execution_count": 12,
   "metadata": {
    "collapsed": false
   },
   "outputs": [
    {
     "data": {
      "text/html": [
       "<div>\n",
       "<table border=\"1\" class=\"dataframe\">\n",
       "  <thead>\n",
       "    <tr style=\"text-align: right;\">\n",
       "      <th>lgID</th>\n",
       "      <th>AL</th>\n",
       "      <th>NL</th>\n",
       "    </tr>\n",
       "    <tr>\n",
       "      <th>BatAvgGrouping</th>\n",
       "      <th></th>\n",
       "      <th></th>\n",
       "    </tr>\n",
       "  </thead>\n",
       "  <tbody>\n",
       "    <tr>\n",
       "      <th>Between .265 &amp; .274</th>\n",
       "      <td>629</td>\n",
       "      <td>772</td>\n",
       "    </tr>\n",
       "    <tr>\n",
       "      <th>Between .275 &amp; .285</th>\n",
       "      <td>640</td>\n",
       "      <td>664</td>\n",
       "    </tr>\n",
       "    <tr>\n",
       "      <th>Between .290 &amp; .299</th>\n",
       "      <td>423</td>\n",
       "      <td>461</td>\n",
       "    </tr>\n",
       "    <tr>\n",
       "      <th>Between .300 &amp; .310</th>\n",
       "      <td>359</td>\n",
       "      <td>388</td>\n",
       "    </tr>\n",
       "    <tr>\n",
       "      <th>Other</th>\n",
       "      <td>8954</td>\n",
       "      <td>9274</td>\n",
       "    </tr>\n",
       "  </tbody>\n",
       "</table>\n",
       "</div>"
      ],
      "text/plain": [
       "lgID                   AL    NL\n",
       "BatAvgGrouping                 \n",
       "Between .265 & .274   629   772\n",
       "Between .275 & .285   640   664\n",
       "Between .290 & .299   423   461\n",
       "Between .300 & .310   359   388\n",
       "Other                8954  9274"
      ]
     },
     "execution_count": 12,
     "metadata": {},
     "output_type": "execute_result"
    }
   ],
   "source": [
    "batting_and_salary_data.pivot_table('salary', index='BatAvgGrouping',\\\n",
    "                                    columns='lgID', aggfunc='count')"
   ]
  },
  {
   "cell_type": "markdown",
   "metadata": {},
   "source": [
    "This section shows the difference between the .275 to .285 batting average vs .265 to .274 batting average (67% increase).  We have these figures for all of MLB and both leagues(84% for AL and 70% for NL).   "
   ]
  },
  {
   "cell_type": "code",
   "execution_count": 13,
   "metadata": {
    "collapsed": false
   },
   "outputs": [
    {
     "name": "stdout",
     "output_type": "stream",
     "text": [
      "279582.276934\n",
      "157829.1473\n",
      "370426.386159\n"
     ]
    }
   ],
   "source": [
    "MLB_275_difference = Between_275_285['salary'].mean() - Between_265_274['salary'].mean()\n",
    "print MLB_275_difference\n",
    "\n",
    "AL_275_difference = Between_275_285.loc[Between_275_285['lgID'] == 'AL','salary'].mean()\\\n",
    "        - Between_265_274.loc[Between_265_274['lgID'] == 'AL','salary'].mean()\n",
    "print AL_275_difference\n",
    "\n",
    "NL_275_difference = Between_275_285.loc[Between_275_285['lgID'] == 'NL','salary'].mean()\\\n",
    "        - Between_265_274.loc[Between_265_274['lgID'] == 'NL','salary'].mean()\n",
    "print NL_275_difference"
   ]
  },
  {
   "cell_type": "markdown",
   "metadata": {},
   "source": [
    "This section shows the difference between the .310 to .300 batting average vs .290 to .299 batting average.  We have these figures for all of MLB and both leagues.  It's clear that for all cases, this section has larger differences.   "
   ]
  },
  {
   "cell_type": "code",
   "execution_count": 14,
   "metadata": {
    "collapsed": false
   },
   "outputs": [
    {
     "name": "stdout",
     "output_type": "stream",
     "text": [
      "468359.507196\n",
      "290618.484574\n",
      "630760.711379\n"
     ]
    }
   ],
   "source": [
    "MLB_300_difference = Between_300_310['salary'].mean() - Between_290_299['salary'].mean()\n",
    "print MLB_300_difference\n",
    "\n",
    "AL_300_difference = Between_300_310.loc[Between_300_310['lgID'] == 'AL','salary'].mean()\\\n",
    "        - Between_290_299.loc[Between_290_299['lgID'] == 'AL','salary'].mean()\n",
    "print AL_300_difference\n",
    "\n",
    "NL_300_difference = Between_300_310.loc[Between_300_310['lgID'] == 'NL','salary'].mean()\\\n",
    "        - Between_290_299.loc[Between_290_299['lgID'] == 'NL','salary'].mean()\n",
    "print NL_300_difference"
   ]
  },
  {
   "cell_type": "code",
   "execution_count": 15,
   "metadata": {
    "collapsed": false
   },
   "outputs": [
    {
     "name": "stdout",
     "output_type": "stream",
     "text": [
      "0.675211720615\n",
      "0.84134863266\n",
      "0.702796385323\n"
     ]
    }
   ],
   "source": [
    "print (MLB_300_difference - MLB_275_difference) / MLB_275_difference\n",
    "print (AL_300_difference - AL_275_difference) / AL_275_difference\n",
    "print (NL_300_difference - NL_275_difference) / NL_275_difference"
   ]
  },
  {
   "cell_type": "markdown",
   "metadata": {},
   "source": [
    "The next 3 sections (Batting Average, On Base Percentage, and Slugging Percentage) walks through the process of trying to identify groupings of the respective batting statistics where average salary jumps the most from grouping to grouping."
   ]
  },
  {
   "cell_type": "markdown",
   "metadata": {},
   "source": [
    "#### Batting Average"
   ]
  },
  {
   "cell_type": "markdown",
   "metadata": {},
   "source": [
    "The plot below compares Batting Average vs Salary.  It doesn't really tell us much but it's helpful to at least view it.  It was also clear that I needed to add a filter of only including players with more than 100 \"at-bats\" (The graph looked a bit wild).  I ran the \"describe\" function to find that the median was 94 so I went with 100."
   ]
  },
  {
   "cell_type": "code",
   "execution_count": 16,
   "metadata": {
    "collapsed": false
   },
   "outputs": [
    {
     "data": {
      "text/plain": [
       "count    20857.000000\n",
       "mean       198.396078\n",
       "std        212.281448\n",
       "min          0.000000\n",
       "25%          4.000000\n",
       "50%         94.000000\n",
       "75%        387.000000\n",
       "max        716.000000\n",
       "Name: AB, dtype: float64"
      ]
     },
     "execution_count": 16,
     "metadata": {},
     "output_type": "execute_result"
    }
   ],
   "source": [
    "batting_and_salary_data['AB'].describe()"
   ]
  },
  {
   "cell_type": "code",
   "execution_count": 56,
   "metadata": {
    "collapsed": false
   },
   "outputs": [
    {
     "data": {
      "text/plain": [
       "<matplotlib.text.Text at 0x2aff0a20>"
      ]
     },
     "execution_count": 56,
     "metadata": {},
     "output_type": "execute_result"
    },
    {
     "data": {
      "image/png": "[encoded data removed]",
      "text/plain": [
       "<matplotlib.figure.Figure at 0x2a7b2e80>"
      ]
     },
     "metadata": {},
     "output_type": "display_data"
    }
   ],
   "source": [
    "batting_and_salary_data.plot(kind='scatter', x='BatAvg', y='salary', \\\n",
    "                             title=\"Next Year's Salary vs. Current Year's Batting Average\")\n",
    "\n",
    "plt.xlabel('Batting Average')\n",
    "plt.ylabel('Salary')"
   ]
  },
  {
   "cell_type": "markdown",
   "metadata": {},
   "source": [
    "To better understand which groupings are most relevant for the analysis I've created a series that groups the batting averages in levels of .01 from .100 to .400.  After some research online, I found this neat combination of groupby, cut, and np.arrange to create such groups.  The graph shows we can probably just focus on .200 to .350 and capture a large portion of the data."
   ]
  },
  {
   "cell_type": "code",
   "execution_count": 70,
   "metadata": {
    "collapsed": false
   },
   "outputs": [
    {
     "data": {
      "text/plain": [
       "<matplotlib.text.Text at 0x2e5bd1d0>"
      ]
     },
     "execution_count": 70,
     "metadata": {},
     "output_type": "execute_result"
    },
    {
     "data": {
      "image/png": "[encoded data removed]",
      "text/plain": [
       "<matplotlib.figure.Figure at 0x2b662e10>"
      ]
     },
     "metadata": {},
     "output_type": "display_data"
    }
   ],
   "source": [
    "salary_by_batavg_count = batting_and_salary_data['salary'].\\\n",
    "    groupby(pd.cut(batting_and_salary_data['BatAvg'], np.arange(.1, .4, .01))).count()\n",
    "\n",
    "salary_by_batavg_count.plot(kind='bar', title=\"Histogram of Batting Average Groupings\")\n",
    "\n",
    "plt.xlabel('Batting Average Groupings')\n",
    "plt.ylabel('Frequency')"
   ]
  },
  {
   "cell_type": "markdown",
   "metadata": {},
   "source": [
    "Using a similar method, only calculating mean instead of count, I've adjusted my ranges to only go from .200 to .350.  This graph is helpful but it doesn't clearly show us the \"pay jumps\".  We need to determine which jump (from group to group) is the largest."
   ]
  },
  {
   "cell_type": "code",
   "execution_count": 65,
   "metadata": {
    "collapsed": false
   },
   "outputs": [
    {
     "data": {
      "text/plain": [
       "<matplotlib.text.Text at 0x2cfda630>"
      ]
     },
     "execution_count": 65,
     "metadata": {},
     "output_type": "execute_result"
    },
    {
     "data": {
      "image/png": "[encoded data removed]",
      "text/plain": [
       "<matplotlib.figure.Figure at 0x2ba0f3c8>"
      ]
     },
     "metadata": {},
     "output_type": "display_data"
    }
   ],
   "source": [
    "salary_by_batavg = batting_and_salary_data['salary'].\\\n",
    "    groupby(pd.cut(batting_and_salary_data['BatAvg'], np.arange(.2, .35, .01))).mean()\n",
    "\n",
    "salary_by_batavg.plot(kind='bar', title='Average Salary by Batting Average Grouping')\n",
    "\n",
    "plt.xlabel('Batting Average Groupings')\n",
    "plt.ylabel('Average Salary')"
   ]
  },
  {
   "cell_type": "markdown",
   "metadata": {},
   "source": [
    "This section takes the previous groupby series and creates a dataframe of the salary, shifted salary (previous year), and the difference between the two.  With the difference column, it's easy to identify that the .300 batting average mark has the largest pay jump."
   ]
  },
  {
   "cell_type": "code",
   "execution_count": 20,
   "metadata": {
    "collapsed": false
   },
   "outputs": [
    {
     "data": {
      "text/html": [
       "<div>\n",
       "<table border=\"1\" class=\"dataframe\">\n",
       "  <thead>\n",
       "    <tr style=\"text-align: right;\">\n",
       "      <th></th>\n",
       "      <th>salary</th>\n",
       "      <th>py_salary</th>\n",
       "      <th>yty_diff</th>\n",
       "    </tr>\n",
       "    <tr>\n",
       "      <th>BatAvg</th>\n",
       "      <th></th>\n",
       "      <th></th>\n",
       "      <th></th>\n",
       "    </tr>\n",
       "  </thead>\n",
       "  <tbody>\n",
       "    <tr>\n",
       "      <th>(0.21, 0.22]</th>\n",
       "      <td>1360557</td>\n",
       "      <td>1477578</td>\n",
       "      <td>-117021</td>\n",
       "    </tr>\n",
       "    <tr>\n",
       "      <th>(0.22, 0.23]</th>\n",
       "      <td>1449251</td>\n",
       "      <td>1360557</td>\n",
       "      <td>88694</td>\n",
       "    </tr>\n",
       "    <tr>\n",
       "      <th>(0.23, 0.24]</th>\n",
       "      <td>1555447</td>\n",
       "      <td>1449251</td>\n",
       "      <td>106196</td>\n",
       "    </tr>\n",
       "    <tr>\n",
       "      <th>(0.24, 0.25]</th>\n",
       "      <td>1732534</td>\n",
       "      <td>1555447</td>\n",
       "      <td>177087</td>\n",
       "    </tr>\n",
       "    <tr>\n",
       "      <th>(0.25, 0.26]</th>\n",
       "      <td>2067096</td>\n",
       "      <td>1732534</td>\n",
       "      <td>334562</td>\n",
       "    </tr>\n",
       "    <tr>\n",
       "      <th>(0.26, 0.27]</th>\n",
       "      <td>2201270</td>\n",
       "      <td>2067096</td>\n",
       "      <td>134174</td>\n",
       "    </tr>\n",
       "    <tr>\n",
       "      <th>(0.27, 0.28]</th>\n",
       "      <td>2585344</td>\n",
       "      <td>2201270</td>\n",
       "      <td>384074</td>\n",
       "    </tr>\n",
       "    <tr>\n",
       "      <th>(0.28, 0.29]</th>\n",
       "      <td>2776782</td>\n",
       "      <td>2585344</td>\n",
       "      <td>191438</td>\n",
       "    </tr>\n",
       "    <tr>\n",
       "      <th>(0.29, 0.3]</th>\n",
       "      <td>2971916</td>\n",
       "      <td>2776782</td>\n",
       "      <td>195134</td>\n",
       "    </tr>\n",
       "    <tr>\n",
       "      <th>(0.3, 0.31]</th>\n",
       "      <td>3524024</td>\n",
       "      <td>2971916</td>\n",
       "      <td>552108</td>\n",
       "    </tr>\n",
       "    <tr>\n",
       "      <th>(0.31, 0.32]</th>\n",
       "      <td>3922823</td>\n",
       "      <td>3524024</td>\n",
       "      <td>398799</td>\n",
       "    </tr>\n",
       "    <tr>\n",
       "      <th>(0.32, 0.33]</th>\n",
       "      <td>4316552</td>\n",
       "      <td>3922823</td>\n",
       "      <td>393729</td>\n",
       "    </tr>\n",
       "    <tr>\n",
       "      <th>(0.33, 0.34]</th>\n",
       "      <td>3095799</td>\n",
       "      <td>4316552</td>\n",
       "      <td>-1220753</td>\n",
       "    </tr>\n",
       "  </tbody>\n",
       "</table>\n",
       "</div>"
      ],
      "text/plain": [
       "               salary  py_salary  yty_diff\n",
       "BatAvg                                    \n",
       "(0.21, 0.22]  1360557    1477578   -117021\n",
       "(0.22, 0.23]  1449251    1360557     88694\n",
       "(0.23, 0.24]  1555447    1449251    106196\n",
       "(0.24, 0.25]  1732534    1555447    177087\n",
       "(0.25, 0.26]  2067096    1732534    334562\n",
       "(0.26, 0.27]  2201270    2067096    134174\n",
       "(0.27, 0.28]  2585344    2201270    384074\n",
       "(0.28, 0.29]  2776782    2585344    191438\n",
       "(0.29, 0.3]   2971916    2776782    195134\n",
       "(0.3, 0.31]   3524024    2971916    552108\n",
       "(0.31, 0.32]  3922823    3524024    398799\n",
       "(0.32, 0.33]  4316552    3922823    393729\n",
       "(0.33, 0.34]  3095799    4316552  -1220753"
      ]
     },
     "execution_count": 20,
     "metadata": {},
     "output_type": "execute_result"
    }
   ],
   "source": [
    "salary_by_batavg_df = pd.concat([salary_by_batavg, salary_by_batavg.shift()], axis=1).dropna()\n",
    "salary_by_batavg_df.columns.values[1] = 'py_salary'\n",
    "salary_by_batavg_df['yty_diff'] = \\\n",
    "    salary_by_batavg_df['salary'] - salary_by_batavg_df['py_salary']\n",
    "salary_by_batavg_df"
   ]
  },
  {
   "cell_type": "markdown",
   "metadata": {},
   "source": [
    "The remaining two sections follow the same methods.  I'll discuss some of the differences in results in the conclusion section but the methods were the exact same."
   ]
  },
  {
   "cell_type": "markdown",
   "metadata": {
    "collapsed": false
   },
   "source": [
    "#### On Base Percentage"
   ]
  },
  {
   "cell_type": "code",
   "execution_count": 55,
   "metadata": {
    "collapsed": false
   },
   "outputs": [
    {
     "data": {
      "text/plain": [
       "<matplotlib.text.Text at 0x2ae05c88>"
      ]
     },
     "execution_count": 55,
     "metadata": {},
     "output_type": "execute_result"
    },
    {
     "data": {
      "image/png": "[encoded data removed]",
      "text/plain": [
       "<matplotlib.figure.Figure at 0x2a332cf8>"
      ]
     },
     "metadata": {},
     "output_type": "display_data"
    }
   ],
   "source": [
    "batting_and_salary_data.plot(kind='scatter', x='OBP', y='salary', \\\n",
    "                             title=\"Next Year's Salary vs. Current Year's On Base %\")\n",
    "\n",
    "plt.xlabel('On Base Percentage')\n",
    "plt.ylabel('Salary')"
   ]
  },
  {
   "cell_type": "code",
   "execution_count": 69,
   "metadata": {
    "collapsed": false
   },
   "outputs": [
    {
     "data": {
      "text/plain": [
       "<matplotlib.text.Text at 0x2e2d0588>"
      ]
     },
     "execution_count": 69,
     "metadata": {},
     "output_type": "execute_result"
    },
    {
     "data": {
      "image/png": "[encoded data removed]",
      "text/plain": [
       "<matplotlib.figure.Figure at 0x2bfe57f0>"
      ]
     },
     "metadata": {},
     "output_type": "display_data"
    }
   ],
   "source": [
    "salary_by_obp_count = batting_and_salary_data['salary'].groupby(\\\n",
    "                      pd.cut(batting_and_salary_data['OBP'], np.arange(.1, .5, .01))).count()\n",
    "salary_by_obp_count.plot(kind='bar', title=\"Histogram of On Base % Groupings\")\n",
    "\n",
    "plt.xlabel('On Base % Groupings')\n",
    "plt.ylabel('Frequency')"
   ]
  },
  {
   "cell_type": "code",
   "execution_count": 63,
   "metadata": {
    "collapsed": false
   },
   "outputs": [
    {
     "data": {
      "text/plain": [
       "<matplotlib.text.Text at 0x2ca0cf60>"
      ]
     },
     "execution_count": 63,
     "metadata": {},
     "output_type": "execute_result"
    },
    {
     "data": {
      "image/png": "[encoded data removed]",
      "text/plain": [
       "<matplotlib.figure.Figure at 0x2c507550>"
      ]
     },
     "metadata": {},
     "output_type": "display_data"
    }
   ],
   "source": [
    "salary_by_obp = batting_and_salary_data['salary'].groupby(\\\n",
    "                pd.cut(batting_and_salary_data['OBP'], np.arange(.25, .4, .01))).mean()\n",
    "salary_by_obp.plot(kind='bar', title='Average Salary by On Base % Grouping')\n",
    "\n",
    "plt.xlabel('On Base % Groupings')\n",
    "plt.ylabel('Average Salary')"
   ]
  },
  {
   "cell_type": "code",
   "execution_count": 24,
   "metadata": {
    "collapsed": false
   },
   "outputs": [
    {
     "data": {
      "text/html": [
       "<div>\n",
       "<table border=\"1\" class=\"dataframe\">\n",
       "  <thead>\n",
       "    <tr style=\"text-align: right;\">\n",
       "      <th></th>\n",
       "      <th>salary</th>\n",
       "      <th>py_salary</th>\n",
       "      <th>yty_diff</th>\n",
       "    </tr>\n",
       "    <tr>\n",
       "      <th>OBP</th>\n",
       "      <th></th>\n",
       "      <th></th>\n",
       "      <th></th>\n",
       "    </tr>\n",
       "  </thead>\n",
       "  <tbody>\n",
       "    <tr>\n",
       "      <th>(0.26, 0.27]</th>\n",
       "      <td>1187274</td>\n",
       "      <td>1348683</td>\n",
       "      <td>-161409</td>\n",
       "    </tr>\n",
       "    <tr>\n",
       "      <th>(0.27, 0.28]</th>\n",
       "      <td>1217368</td>\n",
       "      <td>1187274</td>\n",
       "      <td>30094</td>\n",
       "    </tr>\n",
       "    <tr>\n",
       "      <th>(0.28, 0.29]</th>\n",
       "      <td>1033878</td>\n",
       "      <td>1217368</td>\n",
       "      <td>-183490</td>\n",
       "    </tr>\n",
       "    <tr>\n",
       "      <th>(0.29, 0.3]</th>\n",
       "      <td>1295831</td>\n",
       "      <td>1033878</td>\n",
       "      <td>261953</td>\n",
       "    </tr>\n",
       "    <tr>\n",
       "      <th>(0.3, 0.31]</th>\n",
       "      <td>1427915</td>\n",
       "      <td>1295831</td>\n",
       "      <td>132084</td>\n",
       "    </tr>\n",
       "    <tr>\n",
       "      <th>(0.31, 0.32]</th>\n",
       "      <td>1667503</td>\n",
       "      <td>1427915</td>\n",
       "      <td>239588</td>\n",
       "    </tr>\n",
       "    <tr>\n",
       "      <th>(0.32, 0.33]</th>\n",
       "      <td>1876930</td>\n",
       "      <td>1667503</td>\n",
       "      <td>209427</td>\n",
       "    </tr>\n",
       "    <tr>\n",
       "      <th>(0.33, 0.34]</th>\n",
       "      <td>2143106</td>\n",
       "      <td>1876930</td>\n",
       "      <td>266176</td>\n",
       "    </tr>\n",
       "    <tr>\n",
       "      <th>(0.34, 0.35]</th>\n",
       "      <td>2427426</td>\n",
       "      <td>2143106</td>\n",
       "      <td>284320</td>\n",
       "    </tr>\n",
       "    <tr>\n",
       "      <th>(0.35, 0.36]</th>\n",
       "      <td>2589181</td>\n",
       "      <td>2427426</td>\n",
       "      <td>161755</td>\n",
       "    </tr>\n",
       "    <tr>\n",
       "      <th>(0.36, 0.37]</th>\n",
       "      <td>2942385</td>\n",
       "      <td>2589181</td>\n",
       "      <td>353204</td>\n",
       "    </tr>\n",
       "    <tr>\n",
       "      <th>(0.37, 0.38]</th>\n",
       "      <td>3304820</td>\n",
       "      <td>2942385</td>\n",
       "      <td>362435</td>\n",
       "    </tr>\n",
       "    <tr>\n",
       "      <th>(0.38, 0.39]</th>\n",
       "      <td>3168578</td>\n",
       "      <td>3304820</td>\n",
       "      <td>-136242</td>\n",
       "    </tr>\n",
       "    <tr>\n",
       "      <th>(0.39, 0.4]</th>\n",
       "      <td>3524463</td>\n",
       "      <td>3168578</td>\n",
       "      <td>355885</td>\n",
       "    </tr>\n",
       "  </tbody>\n",
       "</table>\n",
       "</div>"
      ],
      "text/plain": [
       "               salary  py_salary  yty_diff\n",
       "OBP                                       \n",
       "(0.26, 0.27]  1187274    1348683   -161409\n",
       "(0.27, 0.28]  1217368    1187274     30094\n",
       "(0.28, 0.29]  1033878    1217368   -183490\n",
       "(0.29, 0.3]   1295831    1033878    261953\n",
       "(0.3, 0.31]   1427915    1295831    132084\n",
       "(0.31, 0.32]  1667503    1427915    239588\n",
       "(0.32, 0.33]  1876930    1667503    209427\n",
       "(0.33, 0.34]  2143106    1876930    266176\n",
       "(0.34, 0.35]  2427426    2143106    284320\n",
       "(0.35, 0.36]  2589181    2427426    161755\n",
       "(0.36, 0.37]  2942385    2589181    353204\n",
       "(0.37, 0.38]  3304820    2942385    362435\n",
       "(0.38, 0.39]  3168578    3304820   -136242\n",
       "(0.39, 0.4]   3524463    3168578    355885"
      ]
     },
     "execution_count": 24,
     "metadata": {},
     "output_type": "execute_result"
    }
   ],
   "source": [
    "salary_by_obp_df = pd.concat([salary_by_obp, salary_by_obp.shift()], axis=1).dropna()\n",
    "salary_by_obp_df.columns.values[1] = 'py_salary'\n",
    "salary_by_obp_df['yty_diff'] = salary_by_obp_df['salary'] - salary_by_obp_df['py_salary']\n",
    "salary_by_obp_df"
   ]
  },
  {
   "cell_type": "markdown",
   "metadata": {},
   "source": [
    "#### Slugging Percentage"
   ]
  },
  {
   "cell_type": "code",
   "execution_count": 57,
   "metadata": {
    "collapsed": false
   },
   "outputs": [
    {
     "data": {
      "text/plain": [
       "<matplotlib.text.Text at 0x2b0ba438>"
      ]
     },
     "execution_count": 57,
     "metadata": {},
     "output_type": "execute_result"
    },
    {
     "data": {
      "image/png": "[encoded data removed]",
      "text/plain": [
       "<matplotlib.figure.Figure at 0x2b3c9358>"
      ]
     },
     "metadata": {},
     "output_type": "display_data"
    }
   ],
   "source": [
    "batting_and_salary_data.plot(kind='scatter', x='SLG', y='salary', \\\n",
    "                             title=\"Next Year's Salary vs. Current Year's Slugging %\")\n",
    "\n",
    "plt.xlabel('Slugging Percentage')\n",
    "plt.ylabel('Salary')"
   ]
  },
  {
   "cell_type": "code",
   "execution_count": 67,
   "metadata": {
    "collapsed": false
   },
   "outputs": [
    {
     "data": {
      "text/plain": [
       "<matplotlib.text.Text at 0x2d8ae390>"
      ]
     },
     "execution_count": 67,
     "metadata": {},
     "output_type": "execute_result"
    },
    {
     "data": {
      "image/png": "[encoded data removed]",
      "text/plain": [
       "<matplotlib.figure.Figure at 0x2ba18b70>"
      ]
     },
     "metadata": {},
     "output_type": "display_data"
    }
   ],
   "source": [
    "salary_by_slg_count = batting_and_salary_data['salary'].groupby(\\\n",
    "                      pd.cut(batting_and_salary_data['SLG'], np.arange(.1, .7, .01))).count()\n",
    "salary_by_obp_count.plot(kind='bar', title=\"Histogram of Slugging % Groupings\")\n",
    "\n",
    "plt.xlabel('Slugging % Groupings')\n",
    "plt.ylabel('Frequency')"
   ]
  },
  {
   "cell_type": "code",
   "execution_count": 68,
   "metadata": {
    "collapsed": false
   },
   "outputs": [
    {
     "data": {
      "text/plain": [
       "<matplotlib.text.Text at 0x2dfbc278>"
      ]
     },
     "execution_count": 68,
     "metadata": {},
     "output_type": "execute_result"
    },
    {
     "data": {
      "image/png": "[encoded data removed]",
      "text/plain": [
       "<matplotlib.figure.Figure at 0x29985908>"
      ]
     },
     "metadata": {},
     "output_type": "display_data"
    }
   ],
   "source": [
    "salary_by_slg = batting_and_salary_data['salary'].groupby(\\\n",
    "                pd.cut(batting_and_salary_data['SLG'], np.arange(.25, .4, .01))).mean()\n",
    "salary_by_slg.plot(kind='bar', title='Average Salary by On Base % Grouping')\n",
    "\n",
    "plt.xlabel('Slugging % Groupings')\n",
    "plt.ylabel('Average Salary')"
   ]
  },
  {
   "cell_type": "code",
   "execution_count": 28,
   "metadata": {
    "collapsed": false
   },
   "outputs": [
    {
     "data": {
      "text/html": [
       "<div>\n",
       "<table border=\"1\" class=\"dataframe\">\n",
       "  <thead>\n",
       "    <tr style=\"text-align: right;\">\n",
       "      <th></th>\n",
       "      <th>salary</th>\n",
       "      <th>py_salary</th>\n",
       "      <th>yty_diff</th>\n",
       "    </tr>\n",
       "    <tr>\n",
       "      <th>SLG</th>\n",
       "      <th></th>\n",
       "      <th></th>\n",
       "      <th></th>\n",
       "    </tr>\n",
       "  </thead>\n",
       "  <tbody>\n",
       "    <tr>\n",
       "      <th>(0.26, 0.27]</th>\n",
       "      <td>1651641</td>\n",
       "      <td>1623824</td>\n",
       "      <td>27817</td>\n",
       "    </tr>\n",
       "    <tr>\n",
       "      <th>(0.27, 0.28]</th>\n",
       "      <td>1417715</td>\n",
       "      <td>1651641</td>\n",
       "      <td>-233926</td>\n",
       "    </tr>\n",
       "    <tr>\n",
       "      <th>(0.28, 0.29]</th>\n",
       "      <td>1287956</td>\n",
       "      <td>1417715</td>\n",
       "      <td>-129759</td>\n",
       "    </tr>\n",
       "    <tr>\n",
       "      <th>(0.29, 0.3]</th>\n",
       "      <td>993314</td>\n",
       "      <td>1287956</td>\n",
       "      <td>-294642</td>\n",
       "    </tr>\n",
       "    <tr>\n",
       "      <th>(0.3, 0.31]</th>\n",
       "      <td>1145995</td>\n",
       "      <td>993314</td>\n",
       "      <td>152681</td>\n",
       "    </tr>\n",
       "    <tr>\n",
       "      <th>(0.31, 0.32]</th>\n",
       "      <td>1067020</td>\n",
       "      <td>1145995</td>\n",
       "      <td>-78975</td>\n",
       "    </tr>\n",
       "    <tr>\n",
       "      <th>(0.32, 0.33]</th>\n",
       "      <td>1228462</td>\n",
       "      <td>1067020</td>\n",
       "      <td>161442</td>\n",
       "    </tr>\n",
       "    <tr>\n",
       "      <th>(0.33, 0.34]</th>\n",
       "      <td>1379201</td>\n",
       "      <td>1228462</td>\n",
       "      <td>150739</td>\n",
       "    </tr>\n",
       "    <tr>\n",
       "      <th>(0.34, 0.35]</th>\n",
       "      <td>1273805</td>\n",
       "      <td>1379201</td>\n",
       "      <td>-105396</td>\n",
       "    </tr>\n",
       "    <tr>\n",
       "      <th>(0.35, 0.36]</th>\n",
       "      <td>1356504</td>\n",
       "      <td>1273805</td>\n",
       "      <td>82699</td>\n",
       "    </tr>\n",
       "    <tr>\n",
       "      <th>(0.36, 0.37]</th>\n",
       "      <td>1490128</td>\n",
       "      <td>1356504</td>\n",
       "      <td>133624</td>\n",
       "    </tr>\n",
       "    <tr>\n",
       "      <th>(0.37, 0.38]</th>\n",
       "      <td>1592822</td>\n",
       "      <td>1490128</td>\n",
       "      <td>102694</td>\n",
       "    </tr>\n",
       "    <tr>\n",
       "      <th>(0.38, 0.39]</th>\n",
       "      <td>1620066</td>\n",
       "      <td>1592822</td>\n",
       "      <td>27244</td>\n",
       "    </tr>\n",
       "    <tr>\n",
       "      <th>(0.39, 0.4]</th>\n",
       "      <td>1923977</td>\n",
       "      <td>1620066</td>\n",
       "      <td>303911</td>\n",
       "    </tr>\n",
       "  </tbody>\n",
       "</table>\n",
       "</div>"
      ],
      "text/plain": [
       "               salary  py_salary  yty_diff\n",
       "SLG                                       \n",
       "(0.26, 0.27]  1651641    1623824     27817\n",
       "(0.27, 0.28]  1417715    1651641   -233926\n",
       "(0.28, 0.29]  1287956    1417715   -129759\n",
       "(0.29, 0.3]    993314    1287956   -294642\n",
       "(0.3, 0.31]   1145995     993314    152681\n",
       "(0.31, 0.32]  1067020    1145995    -78975\n",
       "(0.32, 0.33]  1228462    1067020    161442\n",
       "(0.33, 0.34]  1379201    1228462    150739\n",
       "(0.34, 0.35]  1273805    1379201   -105396\n",
       "(0.35, 0.36]  1356504    1273805     82699\n",
       "(0.36, 0.37]  1490128    1356504    133624\n",
       "(0.37, 0.38]  1592822    1490128    102694\n",
       "(0.38, 0.39]  1620066    1592822     27244\n",
       "(0.39, 0.4]   1923977    1620066    303911"
      ]
     },
     "execution_count": 28,
     "metadata": {},
     "output_type": "execute_result"
    }
   ],
   "source": [
    "salary_by_slg_df = pd.concat([salary_by_slg, salary_by_slg.shift()], axis=1).dropna()\n",
    "salary_by_slg_df.columns.values[1] = 'py_salary'\n",
    "salary_by_slg_df['yty_diff'] = salary_by_slg_df['salary'] - salary_by_slg_df['py_salary']\n",
    "salary_by_slg_df"
   ]
  },
  {
   "cell_type": "markdown",
   "metadata": {},
   "source": [
    "### Drawing Conclusions"
   ]
  },
  {
   "cell_type": "markdown",
   "metadata": {
    "collapsed": true
   },
   "source": [
    "- Is there any truth to imaginary pay \"jumps\" around milestone (batting above .300 is considered a milestone) batting averages?  \n",
    "    \n",
    "    Batting Average Comparison 1 -> Player A = .310 vs Player B = .290\n",
    "    \n",
    "    Batting Average Comparison 2 -> Player C = .285 vs Player D = .265\n",
    "\n",
    "    For example, will the difference in pay be greater when comparing Player A vs Player B or comparing Player C vs Player D?\n",
    "    \n",
    "    I think we can say there is a larger jump (67% increase) in going from right below .300 to right above .300 as compared to our other comparison around .275.  Although there is not any statistical testing, I think it tells a neat story that there is a stigma of being over or under batting .300.\n",
    "\n",
    "\n",
    "- Does it matter if this analysis occurs in the National League (NL) or the American League (AL)?\n",
    "\n",
    "    It is clear that the AL and NL have similar increases at 84% and 70%, respectively.\n",
    "\n",
    "\n",
    "- Can we identify other pay \"jumps\" for other batting statistics (i.e. On base percentage or Slugging percentage)?\n",
    "\n",
    "    I ran an analysis for batting average, on base percentage, and slugging percentage.  My goal was to group each statistic into adjacent groups and find the differences from group to group (i.e. 280s vs 290s).  Then I can isolate the larger differences and call these intances my \"pay jumps\".\n",
    "    The batting average example is the easiest as there is a pay jump right at the .300 mark.  It's consistent with earlier research and other baseball common knowledge.\n",
    "    The on base percentage and slugging percentage examples are not as clear.  I'm not 100% sure why I'm having negative changes in salary given higher level of performances for these two statistics.  I have a guess that some of the older data (pre 2000) will be pre \"Moneyball\" era and teams may not have been as good at using those statistics to pick out good players.\n",
    "    Either way, we can still pick out that there seems to be OBP & SLG pay jumps in the mid to upper .300s."
   ]
  }
 ],
 "metadata": {
  "kernelspec": {
   "display_name": "Python 2",
   "language": "python",
   "name": "python2"
  },
  "language_info": {
   "codemirror_mode": {
    "name": "ipython",
    "version": 2
   },
   "file_extension": ".py",
   "mimetype": "text/x-python",
   "name": "python",
   "nbconvert_exporter": "python",
   "pygments_lexer": "ipython2",
   "version": "2.7.11"
  }
 },
 "nbformat": 4,
 "nbformat_minor": 0
}
