{
 "cells": [
  {
   "cell_type": "markdown",
   "metadata": {},
   "source": [
    "# Investigate a Dataset - Carvus Byrd"
   ]
  },
  {
   "cell_type": "markdown",
   "metadata": {},
   "source": [
    "## Dataset"
   ]
  },
  {
   "cell_type": "markdown",
   "metadata": {},
   "source": [
    "For this project I used the Lahman's Baseball Database (2014)."
   ]
  },
  {
   "cell_type": "markdown",
   "metadata": {},
   "source": [
    "## Data Analysis Process"
   ]
  },
  {
   "cell_type": "markdown",
   "metadata": {},
   "source": [
    "### Questions Posed"
   ]
  },
  {
   "cell_type": "markdown",
   "metadata": {},
   "source": [
    "- Is there any truth to imaginary pay \"jumps\" around milestone (batting above .300 is considered a milestone) batting averages?  \n",
    "    \n",
    "    Batting Average Comparison 1 -> Player A = .310 vs Player B = .290\n",
    "    \n",
    "    Batting Average Comparison 2 -> Player C = .285 vs Player D = .265\n",
    "\n",
    "    For example, will the difference in pay be greater when comparing Player A vs Player B or comparing Player C vs Player D?\n",
    "\n",
    "\n",
    "- Does it matter if this analysis occurs in the National League (NL) or the American League (AL)?\n",
    "\n",
    "\n",
    "- Can we identify other pay \"jumps\" for other batting statistics (i.e. On base percentage or Slugging percentage)?"
   ]
  },
  {
   "cell_type": "markdown",
   "metadata": {},
   "source": [
    "### Data Wrangling"
   ]
  },
  {
   "cell_type": "markdown",
   "metadata": {},
   "source": [
    "Import necessary modules and read data files."
   ]
  },
  {
   "cell_type": "code",
   "execution_count": 2,
   "metadata": {
    "collapsed": false
   },
   "outputs": [
    {
     "name": "stdout",
     "output_type": "stream",
     "text": [
      "Populating the interactive namespace from numpy and matplotlib\n"
     ]
    },
    {
     "name": "stderr",
     "output_type": "stream",
     "text": [
      "/Users/carvusbyrdiv/anaconda/lib/python2.7/site-packages/matplotlib/__init__.py:872: UserWarning: axes.color_cycle is deprecated and replaced with axes.prop_cycle; please use the latter.\n",
      "  warnings.warn(self.msg_depr % (key, alt_key))\n"
     ]
    }
   ],
   "source": [
    "import pandas as pd\n",
    "import numpy as np\n",
    "import matplotlib.pyplot as plt\n",
    "import seaborn as sns\n",
    "\n",
    "%pylab inline\n",
    "\n",
    "batting = pd.read_csv('2014 Baseball Data/Batting.csv')\n",
    "player_salary = pd.read_csv('2014 Baseball Data/Salaries.csv')"
   ]
  },
  {
   "cell_type": "markdown",
   "metadata": {},
   "source": [
    "Batting table needs to be condensed to account for players who play for multiple teams per season ('stint' column).  The 'groupby' function allows me to sum the remaining columns by player and year indexes."
   ]
  },
  {
   "cell_type": "code",
   "execution_count": 3,
   "metadata": {
    "collapsed": false,
    "scrolled": true
   },
   "outputs": [
    {
     "data": {
      "text/html": [
       "<div>\n",
       "<table border=\"1\" class=\"dataframe\">\n",
       "  <thead>\n",
       "    <tr style=\"text-align: right;\">\n",
       "      <th></th>\n",
       "      <th>playerID</th>\n",
       "      <th>yearID</th>\n",
       "      <th>stint</th>\n",
       "      <th>G</th>\n",
       "      <th>AB</th>\n",
       "      <th>R</th>\n",
       "      <th>H</th>\n",
       "      <th>2B</th>\n",
       "      <th>3B</th>\n",
       "      <th>HR</th>\n",
       "      <th>RBI</th>\n",
       "      <th>SB</th>\n",
       "      <th>CS</th>\n",
       "      <th>BB</th>\n",
       "      <th>SO</th>\n",
       "      <th>IBB</th>\n",
       "      <th>HBP</th>\n",
       "      <th>SH</th>\n",
       "      <th>SF</th>\n",
       "      <th>GIDP</th>\n",
       "    </tr>\n",
       "  </thead>\n",
       "  <tbody>\n",
       "    <tr>\n",
       "      <th>0</th>\n",
       "      <td>aardsda01</td>\n",
       "      <td>2004</td>\n",
       "      <td>1</td>\n",
       "      <td>11</td>\n",
       "      <td>0</td>\n",
       "      <td>0</td>\n",
       "      <td>0</td>\n",
       "      <td>0</td>\n",
       "      <td>0</td>\n",
       "      <td>0</td>\n",
       "      <td>0</td>\n",
       "      <td>0</td>\n",
       "      <td>0</td>\n",
       "      <td>0</td>\n",
       "      <td>0</td>\n",
       "      <td>0</td>\n",
       "      <td>0</td>\n",
       "      <td>0</td>\n",
       "      <td>0</td>\n",
       "      <td>0</td>\n",
       "    </tr>\n",
       "    <tr>\n",
       "      <th>1</th>\n",
       "      <td>aardsda01</td>\n",
       "      <td>2006</td>\n",
       "      <td>1</td>\n",
       "      <td>45</td>\n",
       "      <td>2</td>\n",
       "      <td>0</td>\n",
       "      <td>0</td>\n",
       "      <td>0</td>\n",
       "      <td>0</td>\n",
       "      <td>0</td>\n",
       "      <td>0</td>\n",
       "      <td>0</td>\n",
       "      <td>0</td>\n",
       "      <td>0</td>\n",
       "      <td>0</td>\n",
       "      <td>0</td>\n",
       "      <td>0</td>\n",
       "      <td>1</td>\n",
       "      <td>0</td>\n",
       "      <td>0</td>\n",
       "    </tr>\n",
       "    <tr>\n",
       "      <th>2</th>\n",
       "      <td>aardsda01</td>\n",
       "      <td>2007</td>\n",
       "      <td>1</td>\n",
       "      <td>25</td>\n",
       "      <td>0</td>\n",
       "      <td>0</td>\n",
       "      <td>0</td>\n",
       "      <td>0</td>\n",
       "      <td>0</td>\n",
       "      <td>0</td>\n",
       "      <td>0</td>\n",
       "      <td>0</td>\n",
       "      <td>0</td>\n",
       "      <td>0</td>\n",
       "      <td>0</td>\n",
       "      <td>0</td>\n",
       "      <td>0</td>\n",
       "      <td>0</td>\n",
       "      <td>0</td>\n",
       "      <td>0</td>\n",
       "    </tr>\n",
       "    <tr>\n",
       "      <th>3</th>\n",
       "      <td>aardsda01</td>\n",
       "      <td>2008</td>\n",
       "      <td>1</td>\n",
       "      <td>47</td>\n",
       "      <td>1</td>\n",
       "      <td>0</td>\n",
       "      <td>0</td>\n",
       "      <td>0</td>\n",
       "      <td>0</td>\n",
       "      <td>0</td>\n",
       "      <td>0</td>\n",
       "      <td>0</td>\n",
       "      <td>0</td>\n",
       "      <td>0</td>\n",
       "      <td>1</td>\n",
       "      <td>0</td>\n",
       "      <td>0</td>\n",
       "      <td>0</td>\n",
       "      <td>0</td>\n",
       "      <td>0</td>\n",
       "    </tr>\n",
       "    <tr>\n",
       "      <th>4</th>\n",
       "      <td>aardsda01</td>\n",
       "      <td>2009</td>\n",
       "      <td>1</td>\n",
       "      <td>73</td>\n",
       "      <td>0</td>\n",
       "      <td>0</td>\n",
       "      <td>0</td>\n",
       "      <td>0</td>\n",
       "      <td>0</td>\n",
       "      <td>0</td>\n",
       "      <td>0</td>\n",
       "      <td>0</td>\n",
       "      <td>0</td>\n",
       "      <td>0</td>\n",
       "      <td>0</td>\n",
       "      <td>0</td>\n",
       "      <td>0</td>\n",
       "      <td>0</td>\n",
       "      <td>0</td>\n",
       "      <td>0</td>\n",
       "    </tr>\n",
       "    <tr>\n",
       "      <th>5</th>\n",
       "      <td>aardsda01</td>\n",
       "      <td>2010</td>\n",
       "      <td>1</td>\n",
       "      <td>53</td>\n",
       "      <td>0</td>\n",
       "      <td>0</td>\n",
       "      <td>0</td>\n",
       "      <td>0</td>\n",
       "      <td>0</td>\n",
       "      <td>0</td>\n",
       "      <td>0</td>\n",
       "      <td>0</td>\n",
       "      <td>0</td>\n",
       "      <td>0</td>\n",
       "      <td>0</td>\n",
       "      <td>0</td>\n",
       "      <td>0</td>\n",
       "      <td>0</td>\n",
       "      <td>0</td>\n",
       "      <td>0</td>\n",
       "    </tr>\n",
       "    <tr>\n",
       "      <th>6</th>\n",
       "      <td>aardsda01</td>\n",
       "      <td>2012</td>\n",
       "      <td>1</td>\n",
       "      <td>1</td>\n",
       "      <td>0</td>\n",
       "      <td>0</td>\n",
       "      <td>0</td>\n",
       "      <td>0</td>\n",
       "      <td>0</td>\n",
       "      <td>0</td>\n",
       "      <td>0</td>\n",
       "      <td>0</td>\n",
       "      <td>0</td>\n",
       "      <td>0</td>\n",
       "      <td>0</td>\n",
       "      <td>0</td>\n",
       "      <td>0</td>\n",
       "      <td>0</td>\n",
       "      <td>0</td>\n",
       "      <td>0</td>\n",
       "    </tr>\n",
       "    <tr>\n",
       "      <th>7</th>\n",
       "      <td>aardsda01</td>\n",
       "      <td>2013</td>\n",
       "      <td>1</td>\n",
       "      <td>43</td>\n",
       "      <td>0</td>\n",
       "      <td>0</td>\n",
       "      <td>0</td>\n",
       "      <td>0</td>\n",
       "      <td>0</td>\n",
       "      <td>0</td>\n",
       "      <td>0</td>\n",
       "      <td>0</td>\n",
       "      <td>0</td>\n",
       "      <td>0</td>\n",
       "      <td>0</td>\n",
       "      <td>0</td>\n",
       "      <td>0</td>\n",
       "      <td>0</td>\n",
       "      <td>0</td>\n",
       "      <td>0</td>\n",
       "    </tr>\n",
       "    <tr>\n",
       "      <th>8</th>\n",
       "      <td>aaronha01</td>\n",
       "      <td>1954</td>\n",
       "      <td>1</td>\n",
       "      <td>122</td>\n",
       "      <td>468</td>\n",
       "      <td>58</td>\n",
       "      <td>131</td>\n",
       "      <td>27</td>\n",
       "      <td>6</td>\n",
       "      <td>13</td>\n",
       "      <td>69</td>\n",
       "      <td>2</td>\n",
       "      <td>2</td>\n",
       "      <td>28</td>\n",
       "      <td>39</td>\n",
       "      <td>NaN</td>\n",
       "      <td>3</td>\n",
       "      <td>6</td>\n",
       "      <td>4</td>\n",
       "      <td>13</td>\n",
       "    </tr>\n",
       "    <tr>\n",
       "      <th>9</th>\n",
       "      <td>aaronha01</td>\n",
       "      <td>1955</td>\n",
       "      <td>1</td>\n",
       "      <td>153</td>\n",
       "      <td>602</td>\n",
       "      <td>105</td>\n",
       "      <td>189</td>\n",
       "      <td>37</td>\n",
       "      <td>9</td>\n",
       "      <td>27</td>\n",
       "      <td>106</td>\n",
       "      <td>3</td>\n",
       "      <td>1</td>\n",
       "      <td>49</td>\n",
       "      <td>61</td>\n",
       "      <td>5</td>\n",
       "      <td>3</td>\n",
       "      <td>7</td>\n",
       "      <td>4</td>\n",
       "      <td>20</td>\n",
       "    </tr>\n",
       "  </tbody>\n",
       "</table>\n",
       "</div>"
      ],
      "text/plain": [
       "    playerID  yearID  stint    G   AB    R    H  2B  3B  HR  RBI  SB  CS  BB  \\\n",
       "0  aardsda01    2004      1   11    0    0    0   0   0   0    0   0   0   0   \n",
       "1  aardsda01    2006      1   45    2    0    0   0   0   0    0   0   0   0   \n",
       "2  aardsda01    2007      1   25    0    0    0   0   0   0    0   0   0   0   \n",
       "3  aardsda01    2008      1   47    1    0    0   0   0   0    0   0   0   0   \n",
       "4  aardsda01    2009      1   73    0    0    0   0   0   0    0   0   0   0   \n",
       "5  aardsda01    2010      1   53    0    0    0   0   0   0    0   0   0   0   \n",
       "6  aardsda01    2012      1    1    0    0    0   0   0   0    0   0   0   0   \n",
       "7  aardsda01    2013      1   43    0    0    0   0   0   0    0   0   0   0   \n",
       "8  aaronha01    1954      1  122  468   58  131  27   6  13   69   2   2  28   \n",
       "9  aaronha01    1955      1  153  602  105  189  37   9  27  106   3   1  49   \n",
       "\n",
       "   SO  IBB  HBP  SH  SF  GIDP  \n",
       "0   0    0    0   0   0     0  \n",
       "1   0    0    0   1   0     0  \n",
       "2   0    0    0   0   0     0  \n",
       "3   1    0    0   0   0     0  \n",
       "4   0    0    0   0   0     0  \n",
       "5   0    0    0   0   0     0  \n",
       "6   0    0    0   0   0     0  \n",
       "7   0    0    0   0   0     0  \n",
       "8  39  NaN    3   6   4    13  \n",
       "9  61    5    3   7   4    20  "
      ]
     },
     "execution_count": 3,
     "metadata": {},
     "output_type": "execute_result"
    }
   ],
   "source": [
    "batting_by_p_by_y = batting.groupby(['playerID','yearID'], as_index=False).sum()\n",
    "batting_by_p_by_y.head(10)"
   ]
  },
  {
   "cell_type": "markdown",
   "metadata": {},
   "source": [
    "I need to create a few standard baseball statistics to use in the comparison.  I'll create batting average, on base percentage, and slugging percentage.  I'm also adding these statistics to my grouped 'batting' dataframe."
   ]
  },
  {
   "cell_type": "code",
   "execution_count": 4,
   "metadata": {
    "collapsed": false
   },
   "outputs": [],
   "source": [
    "batting_average = batting_by_p_by_y['H'] / batting_by_p_by_y['AB']\n",
    "batting_by_p_by_y['BatAvg'] = batting_average\n",
    "\n",
    "on_base_percent = (batting_by_p_by_y['H'] + batting_by_p_by_y['BB'] + \\\n",
    "                   batting_by_p_by_y['IBB'] + batting_by_p_by_y['HBP']) / \\\n",
    "                    (batting_by_p_by_y['AB'] + batting_by_p_by_y['BB'] + \\\n",
    "                     batting_by_p_by_y['IBB'] + batting_by_p_by_y['HBP'] + \\\n",
    "                     batting_by_p_by_y['SF'])\n",
    "batting_by_p_by_y['OBP'] = on_base_percent\n",
    "\n",
    "slg_percentage = (batting_by_p_by_y['H'] + batting_by_p_by_y['2B'] + \\\n",
    "                  batting_by_p_by_y['3B'] * 2 \\\n",
    "                  + batting_by_p_by_y['HR'] * 3) / batting_by_p_by_y['AB']\n",
    "batting_by_p_by_y['SLG'] = slg_percentage"
   ]
  },
  {
   "cell_type": "markdown",
   "metadata": {},
   "source": [
    "Do we have any omitted or missing data points?  From a quick look at the data it appears that a lot of the missing data is from older periods or players with brief stints in the MLB.  I've ran a few functions to give me the exact figures below."
   ]
  },
  {
   "cell_type": "code",
   "execution_count": 5,
   "metadata": {
    "collapsed": false
   },
   "outputs": [
    {
     "data": {
      "text/plain": [
       "12721"
      ]
     },
     "execution_count": 5,
     "metadata": {},
     "output_type": "execute_result"
    }
   ],
   "source": [
    "batting_by_p_by_y['BatAvg'].isnull().values.ravel().sum()"
   ]
  },
  {
   "cell_type": "code",
   "execution_count": 6,
   "metadata": {
    "collapsed": false
   },
   "outputs": [
    {
     "data": {
      "text/plain": [
       "79829"
      ]
     },
     "execution_count": 6,
     "metadata": {},
     "output_type": "execute_result"
    }
   ],
   "source": [
    "batting_by_p_by_y['BatAvg'].notnull().values.ravel().sum()"
   ]
  },
  {
   "cell_type": "markdown",
   "metadata": {},
   "source": [
    "Does the player have enough plate appearances to be considered for this analysis?  We need to think about this because we could have players that get 3 hits out of 3 plate appearances for a whole season (which means their batting average would be 1.000).  We could also have the opposite with players batting 0.000 with only a few attempts at the plate.  I've read (https://en.wikipedia.org/wiki/Plate_appearance) that one needs 502 plate appearances to qualify for season ending awards (which equates to about 3.1 attempts per game (502 / 162 = 3.1).  I'll use that as my qualifier for batters to include in my analysis.  I'll run the value counts function at the end to make sure I'm only working with qualified batters."
   ]
  },
  {
   "cell_type": "code",
   "execution_count": 7,
   "metadata": {
    "collapsed": false
   },
   "outputs": [
    {
     "data": {
      "text/plain": [
       "True    16517\n",
       "Name: PA_ratio_min, dtype: int64"
      ]
     },
     "execution_count": 7,
     "metadata": {},
     "output_type": "execute_result"
    }
   ],
   "source": [
    "plate_appearances = batting_by_p_by_y['AB'] + batting_by_p_by_y['BB'] + \\\n",
    "                     batting_by_p_by_y['IBB'] + batting_by_p_by_y['HBP'] + \\\n",
    "                     batting_by_p_by_y['SF']\n",
    "        \n",
    "PA_ratio_min = (plate_appearances / batting_by_p_by_y['G']) >= 3.1\n",
    "\n",
    "batting_by_p_by_y['PA_ratio_min'] = PA_ratio_min\n",
    "\n",
    "batting_by_p_by_y = batting_by_p_by_y.loc[batting_by_p_by_y['PA_ratio_min'] == True,:]\n",
    "\n",
    "batting_by_p_by_y['PA_ratio_min'].value_counts()"
   ]
  },
  {
   "cell_type": "markdown",
   "metadata": {},
   "source": [
    "To begin answering my first question I need to create a function to identify the batting average groupings I want to compare.  This way I can compare batters who are right below and above the points of comparison (.300 and .275).  Using pandas dataframe, I can create my function, 'BattingAvgGrouping', and vectorize it within the 'apply' function.  The \"value_counts\" function allows me to see the counts of my groups created from the original function. "
   ]
  },
  {
   "cell_type": "code",
   "execution_count": 8,
   "metadata": {
    "collapsed": false,
    "scrolled": true
   },
   "outputs": [
    {
     "data": {
      "text/plain": [
       "Other                  10493\n",
       "Between .265 & .274     1982\n",
       "Between .275 & .285     1808\n",
       "Between .290 & .299     1177\n",
       "Between .300 & .310     1057\n",
       "Name: BatAvgGrouping, dtype: int64"
      ]
     },
     "execution_count": 8,
     "metadata": {},
     "output_type": "execute_result"
    }
   ],
   "source": [
    "def BattingAvgGrouping(BatAvg):\n",
    "    if (BatAvg >= .290) & (BatAvg < .300):\n",
    "        return 'Between .290 & .299'\n",
    "    elif (BatAvg >= .300) & (BatAvg < .310):\n",
    "        return 'Between .300 & .310'\n",
    "    elif (BatAvg >= .265) & (BatAvg < .275):\n",
    "        return 'Between .265 & .274'\n",
    "    elif (BatAvg >= .275) & (BatAvg < .285):\n",
    "        return 'Between .275 & .285'\n",
    "    else:\n",
    "        return 'Other'\n",
    "    \n",
    "BatAvgGrouping = batting_by_p_by_y['BatAvg'].apply(BattingAvgGrouping)\n",
    "batting_by_p_by_y['BatAvgGrouping'] = BatAvgGrouping\n",
    "\n",
    "batting_by_p_by_y['BatAvgGrouping'].value_counts()"
   ]
  },
  {
   "cell_type": "markdown",
   "metadata": {},
   "source": [
    "To help me merge my batting and salary tables, I need to create a concatanated index of 'playerID' and 'yearID'.  I used the 'apply(str)' to convert the column's data type from int64 to string (to help with concatanating).  I believe I could have done this without combining player and year IDs but this seemed easiest for me to figure out."
   ]
  },
  {
   "cell_type": "code",
   "execution_count": 9,
   "metadata": {
    "collapsed": false
   },
   "outputs": [
    {
     "data": {
      "text/html": [
       "<div>\n",
       "<table border=\"1\" class=\"dataframe\">\n",
       "  <thead>\n",
       "    <tr style=\"text-align: right;\">\n",
       "      <th></th>\n",
       "      <th>playerID</th>\n",
       "      <th>yearID</th>\n",
       "      <th>stint</th>\n",
       "      <th>G</th>\n",
       "      <th>AB</th>\n",
       "      <th>R</th>\n",
       "      <th>H</th>\n",
       "      <th>2B</th>\n",
       "      <th>3B</th>\n",
       "      <th>HR</th>\n",
       "      <th>...</th>\n",
       "      <th>SH</th>\n",
       "      <th>SF</th>\n",
       "      <th>GIDP</th>\n",
       "      <th>BatAvg</th>\n",
       "      <th>OBP</th>\n",
       "      <th>SLG</th>\n",
       "      <th>PA_ratio_min</th>\n",
       "      <th>BatAvgGrouping</th>\n",
       "      <th>yearID2</th>\n",
       "      <th>player_year_ID</th>\n",
       "    </tr>\n",
       "  </thead>\n",
       "  <tbody>\n",
       "    <tr>\n",
       "      <th>9</th>\n",
       "      <td>aaronha01</td>\n",
       "      <td>1955</td>\n",
       "      <td>1</td>\n",
       "      <td>153</td>\n",
       "      <td>602</td>\n",
       "      <td>105</td>\n",
       "      <td>189</td>\n",
       "      <td>37</td>\n",
       "      <td>9</td>\n",
       "      <td>27</td>\n",
       "      <td>...</td>\n",
       "      <td>7</td>\n",
       "      <td>4</td>\n",
       "      <td>20</td>\n",
       "      <td>0.313953</td>\n",
       "      <td>0.371041</td>\n",
       "      <td>0.539867</td>\n",
       "      <td>True</td>\n",
       "      <td>Other</td>\n",
       "      <td>1955</td>\n",
       "      <td>aaronha011955</td>\n",
       "    </tr>\n",
       "    <tr>\n",
       "      <th>10</th>\n",
       "      <td>aaronha01</td>\n",
       "      <td>1956</td>\n",
       "      <td>1</td>\n",
       "      <td>153</td>\n",
       "      <td>609</td>\n",
       "      <td>106</td>\n",
       "      <td>200</td>\n",
       "      <td>34</td>\n",
       "      <td>14</td>\n",
       "      <td>26</td>\n",
       "      <td>...</td>\n",
       "      <td>5</td>\n",
       "      <td>7</td>\n",
       "      <td>21</td>\n",
       "      <td>0.328407</td>\n",
       "      <td>0.370651</td>\n",
       "      <td>0.558292</td>\n",
       "      <td>True</td>\n",
       "      <td>Other</td>\n",
       "      <td>1956</td>\n",
       "      <td>aaronha011956</td>\n",
       "    </tr>\n",
       "    <tr>\n",
       "      <th>11</th>\n",
       "      <td>aaronha01</td>\n",
       "      <td>1957</td>\n",
       "      <td>1</td>\n",
       "      <td>151</td>\n",
       "      <td>615</td>\n",
       "      <td>118</td>\n",
       "      <td>198</td>\n",
       "      <td>27</td>\n",
       "      <td>6</td>\n",
       "      <td>44</td>\n",
       "      <td>...</td>\n",
       "      <td>0</td>\n",
       "      <td>3</td>\n",
       "      <td>13</td>\n",
       "      <td>0.321951</td>\n",
       "      <td>0.391304</td>\n",
       "      <td>0.600000</td>\n",
       "      <td>True</td>\n",
       "      <td>Other</td>\n",
       "      <td>1957</td>\n",
       "      <td>aaronha011957</td>\n",
       "    </tr>\n",
       "    <tr>\n",
       "      <th>12</th>\n",
       "      <td>aaronha01</td>\n",
       "      <td>1958</td>\n",
       "      <td>1</td>\n",
       "      <td>153</td>\n",
       "      <td>601</td>\n",
       "      <td>109</td>\n",
       "      <td>196</td>\n",
       "      <td>34</td>\n",
       "      <td>4</td>\n",
       "      <td>30</td>\n",
       "      <td>...</td>\n",
       "      <td>0</td>\n",
       "      <td>3</td>\n",
       "      <td>21</td>\n",
       "      <td>0.326123</td>\n",
       "      <td>0.400000</td>\n",
       "      <td>0.545757</td>\n",
       "      <td>True</td>\n",
       "      <td>Other</td>\n",
       "      <td>1958</td>\n",
       "      <td>aaronha011958</td>\n",
       "    </tr>\n",
       "    <tr>\n",
       "      <th>13</th>\n",
       "      <td>aaronha01</td>\n",
       "      <td>1959</td>\n",
       "      <td>1</td>\n",
       "      <td>154</td>\n",
       "      <td>629</td>\n",
       "      <td>116</td>\n",
       "      <td>223</td>\n",
       "      <td>46</td>\n",
       "      <td>7</td>\n",
       "      <td>39</td>\n",
       "      <td>...</td>\n",
       "      <td>0</td>\n",
       "      <td>9</td>\n",
       "      <td>19</td>\n",
       "      <td>0.354531</td>\n",
       "      <td>0.415493</td>\n",
       "      <td>0.635930</td>\n",
       "      <td>True</td>\n",
       "      <td>Other</td>\n",
       "      <td>1959</td>\n",
       "      <td>aaronha011959</td>\n",
       "    </tr>\n",
       "    <tr>\n",
       "      <th>14</th>\n",
       "      <td>aaronha01</td>\n",
       "      <td>1960</td>\n",
       "      <td>1</td>\n",
       "      <td>153</td>\n",
       "      <td>590</td>\n",
       "      <td>102</td>\n",
       "      <td>172</td>\n",
       "      <td>20</td>\n",
       "      <td>11</td>\n",
       "      <td>40</td>\n",
       "      <td>...</td>\n",
       "      <td>0</td>\n",
       "      <td>12</td>\n",
       "      <td>8</td>\n",
       "      <td>0.291525</td>\n",
       "      <td>0.364845</td>\n",
       "      <td>0.566102</td>\n",
       "      <td>True</td>\n",
       "      <td>Between .290 &amp; .299</td>\n",
       "      <td>1960</td>\n",
       "      <td>aaronha011960</td>\n",
       "    </tr>\n",
       "    <tr>\n",
       "      <th>15</th>\n",
       "      <td>aaronha01</td>\n",
       "      <td>1961</td>\n",
       "      <td>1</td>\n",
       "      <td>155</td>\n",
       "      <td>603</td>\n",
       "      <td>115</td>\n",
       "      <td>197</td>\n",
       "      <td>39</td>\n",
       "      <td>10</td>\n",
       "      <td>34</td>\n",
       "      <td>...</td>\n",
       "      <td>1</td>\n",
       "      <td>9</td>\n",
       "      <td>16</td>\n",
       "      <td>0.326700</td>\n",
       "      <td>0.398551</td>\n",
       "      <td>0.593698</td>\n",
       "      <td>True</td>\n",
       "      <td>Other</td>\n",
       "      <td>1961</td>\n",
       "      <td>aaronha011961</td>\n",
       "    </tr>\n",
       "    <tr>\n",
       "      <th>16</th>\n",
       "      <td>aaronha01</td>\n",
       "      <td>1962</td>\n",
       "      <td>1</td>\n",
       "      <td>156</td>\n",
       "      <td>592</td>\n",
       "      <td>127</td>\n",
       "      <td>191</td>\n",
       "      <td>28</td>\n",
       "      <td>6</td>\n",
       "      <td>45</td>\n",
       "      <td>...</td>\n",
       "      <td>0</td>\n",
       "      <td>6</td>\n",
       "      <td>14</td>\n",
       "      <td>0.322635</td>\n",
       "      <td>0.402349</td>\n",
       "      <td>0.618243</td>\n",
       "      <td>True</td>\n",
       "      <td>Other</td>\n",
       "      <td>1962</td>\n",
       "      <td>aaronha011962</td>\n",
       "    </tr>\n",
       "    <tr>\n",
       "      <th>17</th>\n",
       "      <td>aaronha01</td>\n",
       "      <td>1963</td>\n",
       "      <td>1</td>\n",
       "      <td>161</td>\n",
       "      <td>631</td>\n",
       "      <td>121</td>\n",
       "      <td>201</td>\n",
       "      <td>29</td>\n",
       "      <td>4</td>\n",
       "      <td>44</td>\n",
       "      <td>...</td>\n",
       "      <td>0</td>\n",
       "      <td>5</td>\n",
       "      <td>11</td>\n",
       "      <td>0.318542</td>\n",
       "      <td>0.405738</td>\n",
       "      <td>0.586371</td>\n",
       "      <td>True</td>\n",
       "      <td>Other</td>\n",
       "      <td>1963</td>\n",
       "      <td>aaronha011963</td>\n",
       "    </tr>\n",
       "    <tr>\n",
       "      <th>18</th>\n",
       "      <td>aaronha01</td>\n",
       "      <td>1964</td>\n",
       "      <td>1</td>\n",
       "      <td>145</td>\n",
       "      <td>570</td>\n",
       "      <td>103</td>\n",
       "      <td>187</td>\n",
       "      <td>30</td>\n",
       "      <td>2</td>\n",
       "      <td>24</td>\n",
       "      <td>...</td>\n",
       "      <td>0</td>\n",
       "      <td>2</td>\n",
       "      <td>22</td>\n",
       "      <td>0.328070</td>\n",
       "      <td>0.401244</td>\n",
       "      <td>0.514035</td>\n",
       "      <td>True</td>\n",
       "      <td>Other</td>\n",
       "      <td>1964</td>\n",
       "      <td>aaronha011964</td>\n",
       "    </tr>\n",
       "  </tbody>\n",
       "</table>\n",
       "<p>10 rows × 27 columns</p>\n",
       "</div>"
      ],
      "text/plain": [
       "     playerID  yearID  stint    G   AB    R    H  2B  3B  HR       ...        \\\n",
       "9   aaronha01    1955      1  153  602  105  189  37   9  27       ...         \n",
       "10  aaronha01    1956      1  153  609  106  200  34  14  26       ...         \n",
       "11  aaronha01    1957      1  151  615  118  198  27   6  44       ...         \n",
       "12  aaronha01    1958      1  153  601  109  196  34   4  30       ...         \n",
       "13  aaronha01    1959      1  154  629  116  223  46   7  39       ...         \n",
       "14  aaronha01    1960      1  153  590  102  172  20  11  40       ...         \n",
       "15  aaronha01    1961      1  155  603  115  197  39  10  34       ...         \n",
       "16  aaronha01    1962      1  156  592  127  191  28   6  45       ...         \n",
       "17  aaronha01    1963      1  161  631  121  201  29   4  44       ...         \n",
       "18  aaronha01    1964      1  145  570  103  187  30   2  24       ...         \n",
       "\n",
       "    SH  SF  GIDP    BatAvg       OBP       SLG  PA_ratio_min  \\\n",
       "9    7   4    20  0.313953  0.371041  0.539867          True   \n",
       "10   5   7    21  0.328407  0.370651  0.558292          True   \n",
       "11   0   3    13  0.321951  0.391304  0.600000          True   \n",
       "12   0   3    21  0.326123  0.400000  0.545757          True   \n",
       "13   0   9    19  0.354531  0.415493  0.635930          True   \n",
       "14   0  12     8  0.291525  0.364845  0.566102          True   \n",
       "15   1   9    16  0.326700  0.398551  0.593698          True   \n",
       "16   0   6    14  0.322635  0.402349  0.618243          True   \n",
       "17   0   5    11  0.318542  0.405738  0.586371          True   \n",
       "18   0   2    22  0.328070  0.401244  0.514035          True   \n",
       "\n",
       "         BatAvgGrouping  yearID2  player_year_ID  \n",
       "9                 Other     1955   aaronha011955  \n",
       "10                Other     1956   aaronha011956  \n",
       "11                Other     1957   aaronha011957  \n",
       "12                Other     1958   aaronha011958  \n",
       "13                Other     1959   aaronha011959  \n",
       "14  Between .290 & .299     1960   aaronha011960  \n",
       "15                Other     1961   aaronha011961  \n",
       "16                Other     1962   aaronha011962  \n",
       "17                Other     1963   aaronha011963  \n",
       "18                Other     1964   aaronha011964  \n",
       "\n",
       "[10 rows x 27 columns]"
      ]
     },
     "execution_count": 9,
     "metadata": {},
     "output_type": "execute_result"
    }
   ],
   "source": [
    "batting_by_p_by_y['yearID2'] = batting_by_p_by_y['yearID'].apply(str)\n",
    "batting_by_p_by_y['player_year_ID'] = batting_by_p_by_y['playerID'] + \\\n",
    "                                        batting_by_p_by_y['yearID2']\n",
    "batting_by_p_by_y.head(10)"
   ]
  },
  {
   "cell_type": "markdown",
   "metadata": {},
   "source": [
    "Here I am doing the same thing with the salary table.  However, please note that I am also working to \"shift\" my years so that I am comparing this years batting statistics to next years salary.  I'm doing this because I want to understand the relationship of batting statistics on salary and salary, at least in MLB, is determined prior to the season so comparing batting and salary for the same year doesn't seem to make much since.  To do this, I created a new year column, made it one year less than the original, and then used the new year column as part of my concatanated index. "
   ]
  },
  {
   "cell_type": "code",
   "execution_count": 10,
   "metadata": {
    "collapsed": false
   },
   "outputs": [
    {
     "data": {
      "text/html": [
       "<div>\n",
       "<table border=\"1\" class=\"dataframe\">\n",
       "  <thead>\n",
       "    <tr style=\"text-align: right;\">\n",
       "      <th></th>\n",
       "      <th>yearID</th>\n",
       "      <th>teamID</th>\n",
       "      <th>lgID</th>\n",
       "      <th>playerID</th>\n",
       "      <th>salary</th>\n",
       "      <th>yearID2</th>\n",
       "      <th>player_year_ID</th>\n",
       "    </tr>\n",
       "  </thead>\n",
       "  <tbody>\n",
       "    <tr>\n",
       "      <th>0</th>\n",
       "      <td>1985</td>\n",
       "      <td>ATL</td>\n",
       "      <td>NL</td>\n",
       "      <td>barkele01</td>\n",
       "      <td>870000</td>\n",
       "      <td>1984</td>\n",
       "      <td>barkele011984</td>\n",
       "    </tr>\n",
       "    <tr>\n",
       "      <th>1</th>\n",
       "      <td>1985</td>\n",
       "      <td>ATL</td>\n",
       "      <td>NL</td>\n",
       "      <td>bedrost01</td>\n",
       "      <td>550000</td>\n",
       "      <td>1984</td>\n",
       "      <td>bedrost011984</td>\n",
       "    </tr>\n",
       "    <tr>\n",
       "      <th>2</th>\n",
       "      <td>1985</td>\n",
       "      <td>ATL</td>\n",
       "      <td>NL</td>\n",
       "      <td>benedbr01</td>\n",
       "      <td>545000</td>\n",
       "      <td>1984</td>\n",
       "      <td>benedbr011984</td>\n",
       "    </tr>\n",
       "    <tr>\n",
       "      <th>3</th>\n",
       "      <td>1985</td>\n",
       "      <td>ATL</td>\n",
       "      <td>NL</td>\n",
       "      <td>campri01</td>\n",
       "      <td>633333</td>\n",
       "      <td>1984</td>\n",
       "      <td>campri011984</td>\n",
       "    </tr>\n",
       "    <tr>\n",
       "      <th>4</th>\n",
       "      <td>1985</td>\n",
       "      <td>ATL</td>\n",
       "      <td>NL</td>\n",
       "      <td>ceronri01</td>\n",
       "      <td>625000</td>\n",
       "      <td>1984</td>\n",
       "      <td>ceronri011984</td>\n",
       "    </tr>\n",
       "    <tr>\n",
       "      <th>5</th>\n",
       "      <td>1985</td>\n",
       "      <td>ATL</td>\n",
       "      <td>NL</td>\n",
       "      <td>chambch01</td>\n",
       "      <td>800000</td>\n",
       "      <td>1984</td>\n",
       "      <td>chambch011984</td>\n",
       "    </tr>\n",
       "    <tr>\n",
       "      <th>6</th>\n",
       "      <td>1985</td>\n",
       "      <td>ATL</td>\n",
       "      <td>NL</td>\n",
       "      <td>dedmoje01</td>\n",
       "      <td>150000</td>\n",
       "      <td>1984</td>\n",
       "      <td>dedmoje011984</td>\n",
       "    </tr>\n",
       "    <tr>\n",
       "      <th>7</th>\n",
       "      <td>1985</td>\n",
       "      <td>ATL</td>\n",
       "      <td>NL</td>\n",
       "      <td>forstte01</td>\n",
       "      <td>483333</td>\n",
       "      <td>1984</td>\n",
       "      <td>forstte011984</td>\n",
       "    </tr>\n",
       "    <tr>\n",
       "      <th>8</th>\n",
       "      <td>1985</td>\n",
       "      <td>ATL</td>\n",
       "      <td>NL</td>\n",
       "      <td>garbege01</td>\n",
       "      <td>772000</td>\n",
       "      <td>1984</td>\n",
       "      <td>garbege011984</td>\n",
       "    </tr>\n",
       "    <tr>\n",
       "      <th>9</th>\n",
       "      <td>1985</td>\n",
       "      <td>ATL</td>\n",
       "      <td>NL</td>\n",
       "      <td>harpete01</td>\n",
       "      <td>250000</td>\n",
       "      <td>1984</td>\n",
       "      <td>harpete011984</td>\n",
       "    </tr>\n",
       "  </tbody>\n",
       "</table>\n",
       "</div>"
      ],
      "text/plain": [
       "   yearID teamID lgID   playerID  salary yearID2 player_year_ID\n",
       "0    1985    ATL   NL  barkele01  870000    1984  barkele011984\n",
       "1    1985    ATL   NL  bedrost01  550000    1984  bedrost011984\n",
       "2    1985    ATL   NL  benedbr01  545000    1984  benedbr011984\n",
       "3    1985    ATL   NL   campri01  633333    1984   campri011984\n",
       "4    1985    ATL   NL  ceronri01  625000    1984  ceronri011984\n",
       "5    1985    ATL   NL  chambch01  800000    1984  chambch011984\n",
       "6    1985    ATL   NL  dedmoje01  150000    1984  dedmoje011984\n",
       "7    1985    ATL   NL  forstte01  483333    1984  forstte011984\n",
       "8    1985    ATL   NL  garbege01  772000    1984  garbege011984\n",
       "9    1985    ATL   NL  harpete01  250000    1984  harpete011984"
      ]
     },
     "execution_count": 10,
     "metadata": {},
     "output_type": "execute_result"
    }
   ],
   "source": [
    "player_salary['yearID2'] = player_salary['yearID'] - 1\n",
    "player_salary['yearID2'] = player_salary['yearID2'].apply(str)\n",
    "player_salary['player_year_ID'] = player_salary['playerID'] + player_salary['yearID2']\n",
    "player_salary.head(10)"
   ]
  },
  {
   "cell_type": "markdown",
   "metadata": {},
   "source": [
    "Once I have prepared my indexes, I can complete my merge.  I choose to make this an \"inner\" join to ensure I would always have salary information for my batting statistics.  I don't believe I need to worry about missing data as most of the missing data was prior to 1985 (the year the salary data starts)."
   ]
  },
  {
   "cell_type": "code",
   "execution_count": 11,
   "metadata": {
    "collapsed": false,
    "scrolled": true
   },
   "outputs": [
    {
     "data": {
      "text/html": [
       "<div>\n",
       "<table border=\"1\" class=\"dataframe\">\n",
       "  <thead>\n",
       "    <tr style=\"text-align: right;\">\n",
       "      <th></th>\n",
       "      <th>playerID_x</th>\n",
       "      <th>yearID_x</th>\n",
       "      <th>stint</th>\n",
       "      <th>G</th>\n",
       "      <th>AB</th>\n",
       "      <th>R</th>\n",
       "      <th>H</th>\n",
       "      <th>2B</th>\n",
       "      <th>3B</th>\n",
       "      <th>HR</th>\n",
       "      <th>...</th>\n",
       "      <th>PA_ratio_min</th>\n",
       "      <th>BatAvgGrouping</th>\n",
       "      <th>yearID2_x</th>\n",
       "      <th>player_year_ID</th>\n",
       "      <th>yearID_y</th>\n",
       "      <th>teamID</th>\n",
       "      <th>lgID</th>\n",
       "      <th>playerID_y</th>\n",
       "      <th>salary</th>\n",
       "      <th>yearID2_y</th>\n",
       "    </tr>\n",
       "  </thead>\n",
       "  <tbody>\n",
       "    <tr>\n",
       "      <th>0</th>\n",
       "      <td>abbotje01</td>\n",
       "      <td>1999</td>\n",
       "      <td>1</td>\n",
       "      <td>17</td>\n",
       "      <td>57</td>\n",
       "      <td>5</td>\n",
       "      <td>9</td>\n",
       "      <td>0</td>\n",
       "      <td>0</td>\n",
       "      <td>2</td>\n",
       "      <td>...</td>\n",
       "      <td>True</td>\n",
       "      <td>Other</td>\n",
       "      <td>1999</td>\n",
       "      <td>abbotje011999</td>\n",
       "      <td>2000</td>\n",
       "      <td>CHA</td>\n",
       "      <td>AL</td>\n",
       "      <td>abbotje01</td>\n",
       "      <td>255000</td>\n",
       "      <td>1999</td>\n",
       "    </tr>\n",
       "    <tr>\n",
       "      <th>1</th>\n",
       "      <td>abbotku01</td>\n",
       "      <td>1993</td>\n",
       "      <td>1</td>\n",
       "      <td>20</td>\n",
       "      <td>61</td>\n",
       "      <td>11</td>\n",
       "      <td>15</td>\n",
       "      <td>1</td>\n",
       "      <td>0</td>\n",
       "      <td>3</td>\n",
       "      <td>...</td>\n",
       "      <td>True</td>\n",
       "      <td>Other</td>\n",
       "      <td>1993</td>\n",
       "      <td>abbotku011993</td>\n",
       "      <td>1994</td>\n",
       "      <td>FLO</td>\n",
       "      <td>NL</td>\n",
       "      <td>abbotku01</td>\n",
       "      <td>109000</td>\n",
       "      <td>1993</td>\n",
       "    </tr>\n",
       "    <tr>\n",
       "      <th>2</th>\n",
       "      <td>abbotku01</td>\n",
       "      <td>1994</td>\n",
       "      <td>1</td>\n",
       "      <td>101</td>\n",
       "      <td>345</td>\n",
       "      <td>41</td>\n",
       "      <td>86</td>\n",
       "      <td>17</td>\n",
       "      <td>3</td>\n",
       "      <td>9</td>\n",
       "      <td>...</td>\n",
       "      <td>True</td>\n",
       "      <td>Other</td>\n",
       "      <td>1994</td>\n",
       "      <td>abbotku011994</td>\n",
       "      <td>1995</td>\n",
       "      <td>FLO</td>\n",
       "      <td>NL</td>\n",
       "      <td>abbotku01</td>\n",
       "      <td>119000</td>\n",
       "      <td>1994</td>\n",
       "    </tr>\n",
       "    <tr>\n",
       "      <th>3</th>\n",
       "      <td>abbotku01</td>\n",
       "      <td>1995</td>\n",
       "      <td>1</td>\n",
       "      <td>120</td>\n",
       "      <td>420</td>\n",
       "      <td>60</td>\n",
       "      <td>107</td>\n",
       "      <td>18</td>\n",
       "      <td>7</td>\n",
       "      <td>17</td>\n",
       "      <td>...</td>\n",
       "      <td>True</td>\n",
       "      <td>Other</td>\n",
       "      <td>1995</td>\n",
       "      <td>abbotku011995</td>\n",
       "      <td>1996</td>\n",
       "      <td>FLO</td>\n",
       "      <td>NL</td>\n",
       "      <td>abbotku01</td>\n",
       "      <td>250000</td>\n",
       "      <td>1995</td>\n",
       "    </tr>\n",
       "    <tr>\n",
       "      <th>4</th>\n",
       "      <td>abbotku01</td>\n",
       "      <td>1996</td>\n",
       "      <td>1</td>\n",
       "      <td>109</td>\n",
       "      <td>320</td>\n",
       "      <td>37</td>\n",
       "      <td>81</td>\n",
       "      <td>18</td>\n",
       "      <td>7</td>\n",
       "      <td>8</td>\n",
       "      <td>...</td>\n",
       "      <td>True</td>\n",
       "      <td>Other</td>\n",
       "      <td>1996</td>\n",
       "      <td>abbotku011996</td>\n",
       "      <td>1997</td>\n",
       "      <td>FLO</td>\n",
       "      <td>NL</td>\n",
       "      <td>abbotku01</td>\n",
       "      <td>650000</td>\n",
       "      <td>1996</td>\n",
       "    </tr>\n",
       "    <tr>\n",
       "      <th>5</th>\n",
       "      <td>abbotku01</td>\n",
       "      <td>1999</td>\n",
       "      <td>1</td>\n",
       "      <td>96</td>\n",
       "      <td>286</td>\n",
       "      <td>41</td>\n",
       "      <td>78</td>\n",
       "      <td>17</td>\n",
       "      <td>2</td>\n",
       "      <td>8</td>\n",
       "      <td>...</td>\n",
       "      <td>True</td>\n",
       "      <td>Between .265 &amp; .274</td>\n",
       "      <td>1999</td>\n",
       "      <td>abbotku011999</td>\n",
       "      <td>2000</td>\n",
       "      <td>NYN</td>\n",
       "      <td>NL</td>\n",
       "      <td>abbotku01</td>\n",
       "      <td>500000</td>\n",
       "      <td>1999</td>\n",
       "    </tr>\n",
       "    <tr>\n",
       "      <th>6</th>\n",
       "      <td>abernbr01</td>\n",
       "      <td>2001</td>\n",
       "      <td>1</td>\n",
       "      <td>79</td>\n",
       "      <td>304</td>\n",
       "      <td>43</td>\n",
       "      <td>82</td>\n",
       "      <td>17</td>\n",
       "      <td>1</td>\n",
       "      <td>5</td>\n",
       "      <td>...</td>\n",
       "      <td>True</td>\n",
       "      <td>Between .265 &amp; .274</td>\n",
       "      <td>2001</td>\n",
       "      <td>abernbr012001</td>\n",
       "      <td>2002</td>\n",
       "      <td>TBA</td>\n",
       "      <td>AL</td>\n",
       "      <td>abernbr01</td>\n",
       "      <td>215000</td>\n",
       "      <td>2001</td>\n",
       "    </tr>\n",
       "    <tr>\n",
       "      <th>7</th>\n",
       "      <td>abernbr01</td>\n",
       "      <td>2002</td>\n",
       "      <td>1</td>\n",
       "      <td>117</td>\n",
       "      <td>463</td>\n",
       "      <td>46</td>\n",
       "      <td>112</td>\n",
       "      <td>18</td>\n",
       "      <td>4</td>\n",
       "      <td>2</td>\n",
       "      <td>...</td>\n",
       "      <td>True</td>\n",
       "      <td>Other</td>\n",
       "      <td>2002</td>\n",
       "      <td>abernbr012002</td>\n",
       "      <td>2003</td>\n",
       "      <td>TBA</td>\n",
       "      <td>AL</td>\n",
       "      <td>abernbr01</td>\n",
       "      <td>300000</td>\n",
       "      <td>2002</td>\n",
       "    </tr>\n",
       "    <tr>\n",
       "      <th>8</th>\n",
       "      <td>abreubo01</td>\n",
       "      <td>1997</td>\n",
       "      <td>1</td>\n",
       "      <td>59</td>\n",
       "      <td>188</td>\n",
       "      <td>22</td>\n",
       "      <td>47</td>\n",
       "      <td>10</td>\n",
       "      <td>2</td>\n",
       "      <td>3</td>\n",
       "      <td>...</td>\n",
       "      <td>True</td>\n",
       "      <td>Other</td>\n",
       "      <td>1997</td>\n",
       "      <td>abreubo011997</td>\n",
       "      <td>1998</td>\n",
       "      <td>PHI</td>\n",
       "      <td>NL</td>\n",
       "      <td>abreubo01</td>\n",
       "      <td>180000</td>\n",
       "      <td>1997</td>\n",
       "    </tr>\n",
       "    <tr>\n",
       "      <th>9</th>\n",
       "      <td>abreubo01</td>\n",
       "      <td>1998</td>\n",
       "      <td>1</td>\n",
       "      <td>151</td>\n",
       "      <td>497</td>\n",
       "      <td>68</td>\n",
       "      <td>155</td>\n",
       "      <td>29</td>\n",
       "      <td>6</td>\n",
       "      <td>17</td>\n",
       "      <td>...</td>\n",
       "      <td>True</td>\n",
       "      <td>Other</td>\n",
       "      <td>1998</td>\n",
       "      <td>abreubo011998</td>\n",
       "      <td>1999</td>\n",
       "      <td>PHI</td>\n",
       "      <td>NL</td>\n",
       "      <td>abreubo01</td>\n",
       "      <td>400000</td>\n",
       "      <td>1998</td>\n",
       "    </tr>\n",
       "  </tbody>\n",
       "</table>\n",
       "<p>10 rows × 33 columns</p>\n",
       "</div>"
      ],
      "text/plain": [
       "  playerID_x  yearID_x  stint    G   AB   R    H  2B  3B  HR    ...      \\\n",
       "0  abbotje01      1999      1   17   57   5    9   0   0   2    ...       \n",
       "1  abbotku01      1993      1   20   61  11   15   1   0   3    ...       \n",
       "2  abbotku01      1994      1  101  345  41   86  17   3   9    ...       \n",
       "3  abbotku01      1995      1  120  420  60  107  18   7  17    ...       \n",
       "4  abbotku01      1996      1  109  320  37   81  18   7   8    ...       \n",
       "5  abbotku01      1999      1   96  286  41   78  17   2   8    ...       \n",
       "6  abernbr01      2001      1   79  304  43   82  17   1   5    ...       \n",
       "7  abernbr01      2002      1  117  463  46  112  18   4   2    ...       \n",
       "8  abreubo01      1997      1   59  188  22   47  10   2   3    ...       \n",
       "9  abreubo01      1998      1  151  497  68  155  29   6  17    ...       \n",
       "\n",
       "   PA_ratio_min       BatAvgGrouping  yearID2_x  player_year_ID  yearID_y  \\\n",
       "0          True                Other       1999   abbotje011999      2000   \n",
       "1          True                Other       1993   abbotku011993      1994   \n",
       "2          True                Other       1994   abbotku011994      1995   \n",
       "3          True                Other       1995   abbotku011995      1996   \n",
       "4          True                Other       1996   abbotku011996      1997   \n",
       "5          True  Between .265 & .274       1999   abbotku011999      2000   \n",
       "6          True  Between .265 & .274       2001   abernbr012001      2002   \n",
       "7          True                Other       2002   abernbr012002      2003   \n",
       "8          True                Other       1997   abreubo011997      1998   \n",
       "9          True                Other       1998   abreubo011998      1999   \n",
       "\n",
       "   teamID  lgID  playerID_y  salary  yearID2_y  \n",
       "0     CHA    AL   abbotje01  255000       1999  \n",
       "1     FLO    NL   abbotku01  109000       1993  \n",
       "2     FLO    NL   abbotku01  119000       1994  \n",
       "3     FLO    NL   abbotku01  250000       1995  \n",
       "4     FLO    NL   abbotku01  650000       1996  \n",
       "5     NYN    NL   abbotku01  500000       1999  \n",
       "6     TBA    AL   abernbr01  215000       2001  \n",
       "7     TBA    AL   abernbr01  300000       2002  \n",
       "8     PHI    NL   abreubo01  180000       1997  \n",
       "9     PHI    NL   abreubo01  400000       1998  \n",
       "\n",
       "[10 rows x 33 columns]"
      ]
     },
     "execution_count": 11,
     "metadata": {},
     "output_type": "execute_result"
    }
   ],
   "source": [
    "batting_and_salary_data = batting_by_p_by_y.merge(player_salary, on = 'player_year_ID', \\\n",
    "                                                  how = 'inner')\n",
    "batting_and_salary_data.head(10)"
   ]
  },
  {
   "cell_type": "markdown",
   "metadata": {},
   "source": [
    "Now that I have my combined dataframe, I begin making smaller filtered versions to help me use vectorized arithmetic later in the data exploration section."
   ]
  },
  {
   "cell_type": "code",
   "execution_count": 12,
   "metadata": {
    "collapsed": false
   },
   "outputs": [],
   "source": [
    "Between_265_274 = batting_and_salary_data.loc[batting_and_salary_data.BatAvgGrouping == \\\n",
    "                    'Between .265 & .274',['playerID_x','yearID_x','G', \\\n",
    "                    'AB', 'H', 'BatAvg', 'BatAvgGrouping','lgID' , 'PA_ratio_min','salary']]\n",
    "Between_275_285 = batting_and_salary_data.loc[batting_and_salary_data.BatAvgGrouping == \\\n",
    "                    'Between .275 & .285',['playerID_x','yearID_x','G', \\\n",
    "                    'AB', 'H', 'BatAvg', 'BatAvgGrouping','lgID', 'PA_ratio_min', 'salary']]\n",
    "Between_290_299 = batting_and_salary_data.loc[batting_and_salary_data.BatAvgGrouping == \\\n",
    "                    'Between .290 & .299',['playerID_x','yearID_x','G', \\\n",
    "                    'AB', 'H', 'BatAvg', 'BatAvgGrouping','lgID', 'PA_ratio_min', 'salary']]\n",
    "Between_300_310 = batting_and_salary_data.loc[batting_and_salary_data.BatAvgGrouping == \\\n",
    "                    'Between .300 & .310',['playerID_x','yearID_x','G', \\\n",
    "                    'AB', 'H', 'BatAvg', 'BatAvgGrouping','lgID', 'PA_ratio_min', 'salary']]"
   ]
  },
  {
   "cell_type": "markdown",
   "metadata": {},
   "source": [
    "### Data Exploration"
   ]
  },
  {
   "cell_type": "markdown",
   "metadata": {},
   "source": [
    "Let's first check to see if we have corrected any issues with missing values.  We can see below where we have corrected the issue."
   ]
  },
  {
   "cell_type": "code",
   "execution_count": 13,
   "metadata": {
    "collapsed": false
   },
   "outputs": [
    {
     "data": {
      "text/plain": [
       "0"
      ]
     },
     "execution_count": 13,
     "metadata": {},
     "output_type": "execute_result"
    }
   ],
   "source": [
    "batting_and_salary_data['BatAvg'].isnull().values.ravel().sum()"
   ]
  },
  {
   "cell_type": "markdown",
   "metadata": {},
   "source": [
    "Now we can check the data to see if we have any outliers or other issues.  The data below still shows we have folks batting 0.000 and a gaudy .512.  When we pull those individual rows it's really nothing but low plate appearance batters.  I don't think we should do anything but just know they are there."
   ]
  },
  {
   "cell_type": "code",
   "execution_count": 14,
   "metadata": {
    "collapsed": false
   },
   "outputs": [
    {
     "data": {
      "text/plain": [
       "count    8486.000000\n",
       "mean        0.269229\n",
       "std         0.034194\n",
       "min         0.000000\n",
       "25%         0.249161\n",
       "50%         0.269912\n",
       "75%         0.290640\n",
       "max         0.512195\n",
       "Name: BatAvg, dtype: float64"
      ]
     },
     "execution_count": 14,
     "metadata": {},
     "output_type": "execute_result"
    }
   ],
   "source": [
    "batting_and_salary_data['BatAvg'].describe()"
   ]
  },
  {
   "cell_type": "code",
   "execution_count": 15,
   "metadata": {
    "collapsed": false
   },
   "outputs": [
    {
     "data": {
      "text/plain": [
       "<matplotlib.axes._subplots.AxesSubplot at 0x101bf8f90>"
      ]
     },
     "execution_count": 15,
     "metadata": {},
     "output_type": "execute_result"
    },
    {
     "data": {
      "image/png": "[encoded data removed]",
      "text/plain": [
       "<matplotlib.figure.Figure at 0x10aeb7210>"
      ]
     },
     "metadata": {},
     "output_type": "display_data"
    }
   ],
   "source": [
    "batting_and_salary_data['BatAvg'].hist(bins=20)"
   ]
  },
  {
   "cell_type": "code",
   "execution_count": 16,
   "metadata": {
    "collapsed": false
   },
   "outputs": [
    {
     "data": {
      "text/html": [
       "<div>\n",
       "<table border=\"1\" class=\"dataframe\">\n",
       "  <thead>\n",
       "    <tr style=\"text-align: right;\">\n",
       "      <th></th>\n",
       "      <th>playerID_x</th>\n",
       "      <th>yearID_x</th>\n",
       "      <th>stint</th>\n",
       "      <th>G</th>\n",
       "      <th>AB</th>\n",
       "      <th>R</th>\n",
       "      <th>H</th>\n",
       "      <th>2B</th>\n",
       "      <th>3B</th>\n",
       "      <th>HR</th>\n",
       "      <th>...</th>\n",
       "      <th>PA_ratio_min</th>\n",
       "      <th>BatAvgGrouping</th>\n",
       "      <th>yearID2_x</th>\n",
       "      <th>player_year_ID</th>\n",
       "      <th>yearID_y</th>\n",
       "      <th>teamID</th>\n",
       "      <th>lgID</th>\n",
       "      <th>playerID_y</th>\n",
       "      <th>salary</th>\n",
       "      <th>yearID2_y</th>\n",
       "    </tr>\n",
       "  </thead>\n",
       "  <tbody>\n",
       "    <tr>\n",
       "      <th>30</th>\n",
       "      <td>adducji01</td>\n",
       "      <td>1986</td>\n",
       "      <td>1</td>\n",
       "      <td>3</td>\n",
       "      <td>11</td>\n",
       "      <td>2</td>\n",
       "      <td>1</td>\n",
       "      <td>1</td>\n",
       "      <td>0</td>\n",
       "      <td>0</td>\n",
       "      <td>...</td>\n",
       "      <td>True</td>\n",
       "      <td>Other</td>\n",
       "      <td>1986</td>\n",
       "      <td>adducji011986</td>\n",
       "      <td>1987</td>\n",
       "      <td>ML4</td>\n",
       "      <td>AL</td>\n",
       "      <td>adducji01</td>\n",
       "      <td>70000</td>\n",
       "      <td>1986</td>\n",
       "    </tr>\n",
       "    <tr>\n",
       "      <th>3498</th>\n",
       "      <td>hernaan01</td>\n",
       "      <td>2005</td>\n",
       "      <td>1</td>\n",
       "      <td>6</td>\n",
       "      <td>18</td>\n",
       "      <td>1</td>\n",
       "      <td>1</td>\n",
       "      <td>0</td>\n",
       "      <td>0</td>\n",
       "      <td>0</td>\n",
       "      <td>...</td>\n",
       "      <td>True</td>\n",
       "      <td>Other</td>\n",
       "      <td>2005</td>\n",
       "      <td>hernaan012005</td>\n",
       "      <td>2006</td>\n",
       "      <td>NYN</td>\n",
       "      <td>NL</td>\n",
       "      <td>hernaan01</td>\n",
       "      <td>327000</td>\n",
       "      <td>2005</td>\n",
       "    </tr>\n",
       "    <tr>\n",
       "      <th>4017</th>\n",
       "      <td>johnsma02</td>\n",
       "      <td>1998</td>\n",
       "      <td>1</td>\n",
       "      <td>7</td>\n",
       "      <td>23</td>\n",
       "      <td>2</td>\n",
       "      <td>2</td>\n",
       "      <td>0</td>\n",
       "      <td>2</td>\n",
       "      <td>0</td>\n",
       "      <td>...</td>\n",
       "      <td>True</td>\n",
       "      <td>Other</td>\n",
       "      <td>1998</td>\n",
       "      <td>johnsma021998</td>\n",
       "      <td>1999</td>\n",
       "      <td>CHA</td>\n",
       "      <td>AL</td>\n",
       "      <td>johnsma02</td>\n",
       "      <td>200000</td>\n",
       "      <td>1998</td>\n",
       "    </tr>\n",
       "    <tr>\n",
       "      <th>4456</th>\n",
       "      <td>lansfca01</td>\n",
       "      <td>1991</td>\n",
       "      <td>1</td>\n",
       "      <td>5</td>\n",
       "      <td>16</td>\n",
       "      <td>0</td>\n",
       "      <td>1</td>\n",
       "      <td>0</td>\n",
       "      <td>0</td>\n",
       "      <td>0</td>\n",
       "      <td>...</td>\n",
       "      <td>True</td>\n",
       "      <td>Other</td>\n",
       "      <td>1991</td>\n",
       "      <td>lansfca011991</td>\n",
       "      <td>1992</td>\n",
       "      <td>OAK</td>\n",
       "      <td>AL</td>\n",
       "      <td>lansfca01</td>\n",
       "      <td>1150000</td>\n",
       "      <td>1991</td>\n",
       "    </tr>\n",
       "    <tr>\n",
       "      <th>5259</th>\n",
       "      <td>milleco01</td>\n",
       "      <td>2004</td>\n",
       "      <td>1</td>\n",
       "      <td>13</td>\n",
       "      <td>39</td>\n",
       "      <td>2</td>\n",
       "      <td>1</td>\n",
       "      <td>0</td>\n",
       "      <td>0</td>\n",
       "      <td>0</td>\n",
       "      <td>...</td>\n",
       "      <td>True</td>\n",
       "      <td>Other</td>\n",
       "      <td>2004</td>\n",
       "      <td>milleco012004</td>\n",
       "      <td>2005</td>\n",
       "      <td>MIN</td>\n",
       "      <td>AL</td>\n",
       "      <td>milleco01</td>\n",
       "      <td>321000</td>\n",
       "      <td>2004</td>\n",
       "    </tr>\n",
       "    <tr>\n",
       "      <th>5849</th>\n",
       "      <td>palmede01</td>\n",
       "      <td>2002</td>\n",
       "      <td>1</td>\n",
       "      <td>4</td>\n",
       "      <td>12</td>\n",
       "      <td>0</td>\n",
       "      <td>0</td>\n",
       "      <td>0</td>\n",
       "      <td>0</td>\n",
       "      <td>0</td>\n",
       "      <td>...</td>\n",
       "      <td>True</td>\n",
       "      <td>Other</td>\n",
       "      <td>2002</td>\n",
       "      <td>palmede012002</td>\n",
       "      <td>2003</td>\n",
       "      <td>DET</td>\n",
       "      <td>AL</td>\n",
       "      <td>palmede01</td>\n",
       "      <td>8500000</td>\n",
       "      <td>2002</td>\n",
       "    </tr>\n",
       "  </tbody>\n",
       "</table>\n",
       "<p>6 rows × 33 columns</p>\n",
       "</div>"
      ],
      "text/plain": [
       "     playerID_x  yearID_x  stint   G  AB  R  H  2B  3B  HR    ...      \\\n",
       "30    adducji01      1986      1   3  11  2  1   1   0   0    ...       \n",
       "3498  hernaan01      2005      1   6  18  1  1   0   0   0    ...       \n",
       "4017  johnsma02      1998      1   7  23  2  2   0   2   0    ...       \n",
       "4456  lansfca01      1991      1   5  16  0  1   0   0   0    ...       \n",
       "5259  milleco01      2004      1  13  39  2  1   0   0   0    ...       \n",
       "5849  palmede01      2002      1   4  12  0  0   0   0   0    ...       \n",
       "\n",
       "      PA_ratio_min  BatAvgGrouping  yearID2_x  player_year_ID  yearID_y  \\\n",
       "30            True           Other       1986   adducji011986      1987   \n",
       "3498          True           Other       2005   hernaan012005      2006   \n",
       "4017          True           Other       1998   johnsma021998      1999   \n",
       "4456          True           Other       1991   lansfca011991      1992   \n",
       "5259          True           Other       2004   milleco012004      2005   \n",
       "5849          True           Other       2002   palmede012002      2003   \n",
       "\n",
       "      teamID  lgID  playerID_y   salary  yearID2_y  \n",
       "30       ML4    AL   adducji01    70000       1986  \n",
       "3498     NYN    NL   hernaan01   327000       2005  \n",
       "4017     CHA    AL   johnsma02   200000       1998  \n",
       "4456     OAK    AL   lansfca01  1150000       1991  \n",
       "5259     MIN    AL   milleco01   321000       2004  \n",
       "5849     DET    AL   palmede01  8500000       2002  \n",
       "\n",
       "[6 rows x 33 columns]"
      ]
     },
     "execution_count": 16,
     "metadata": {},
     "output_type": "execute_result"
    }
   ],
   "source": [
    "batting_and_salary_data.loc[batting_and_salary_data['BatAvg'] < 0.100,:]"
   ]
  },
  {
   "cell_type": "code",
   "execution_count": 17,
   "metadata": {
    "collapsed": false
   },
   "outputs": [
    {
     "data": {
      "text/html": [
       "<div>\n",
       "<table border=\"1\" class=\"dataframe\">\n",
       "  <thead>\n",
       "    <tr style=\"text-align: right;\">\n",
       "      <th></th>\n",
       "      <th>playerID_x</th>\n",
       "      <th>yearID_x</th>\n",
       "      <th>stint</th>\n",
       "      <th>G</th>\n",
       "      <th>AB</th>\n",
       "      <th>R</th>\n",
       "      <th>H</th>\n",
       "      <th>2B</th>\n",
       "      <th>3B</th>\n",
       "      <th>HR</th>\n",
       "      <th>...</th>\n",
       "      <th>PA_ratio_min</th>\n",
       "      <th>BatAvgGrouping</th>\n",
       "      <th>yearID2_x</th>\n",
       "      <th>player_year_ID</th>\n",
       "      <th>yearID_y</th>\n",
       "      <th>teamID</th>\n",
       "      <th>lgID</th>\n",
       "      <th>playerID_y</th>\n",
       "      <th>salary</th>\n",
       "      <th>yearID2_y</th>\n",
       "    </tr>\n",
       "  </thead>\n",
       "  <tbody>\n",
       "    <tr>\n",
       "      <th>333</th>\n",
       "      <td>bardjo01</td>\n",
       "      <td>2004</td>\n",
       "      <td>1</td>\n",
       "      <td>7</td>\n",
       "      <td>19</td>\n",
       "      <td>5</td>\n",
       "      <td>8</td>\n",
       "      <td>2</td>\n",
       "      <td>0</td>\n",
       "      <td>1</td>\n",
       "      <td>...</td>\n",
       "      <td>True</td>\n",
       "      <td>Other</td>\n",
       "      <td>2004</td>\n",
       "      <td>bardjo012004</td>\n",
       "      <td>2005</td>\n",
       "      <td>CLE</td>\n",
       "      <td>AL</td>\n",
       "      <td>bardjo01</td>\n",
       "      <td>317900</td>\n",
       "      <td>2004</td>\n",
       "    </tr>\n",
       "    <tr>\n",
       "      <th>695</th>\n",
       "      <td>bloomwi01</td>\n",
       "      <td>2002</td>\n",
       "      <td>1</td>\n",
       "      <td>12</td>\n",
       "      <td>33</td>\n",
       "      <td>11</td>\n",
       "      <td>15</td>\n",
       "      <td>4</td>\n",
       "      <td>0</td>\n",
       "      <td>0</td>\n",
       "      <td>...</td>\n",
       "      <td>True</td>\n",
       "      <td>Other</td>\n",
       "      <td>2002</td>\n",
       "      <td>bloomwi012002</td>\n",
       "      <td>2003</td>\n",
       "      <td>SEA</td>\n",
       "      <td>AL</td>\n",
       "      <td>bloomwi01</td>\n",
       "      <td>300000</td>\n",
       "      <td>2002</td>\n",
       "    </tr>\n",
       "    <tr>\n",
       "      <th>1326</th>\n",
       "      <td>castijo01</td>\n",
       "      <td>1984</td>\n",
       "      <td>1</td>\n",
       "      <td>8</td>\n",
       "      <td>27</td>\n",
       "      <td>5</td>\n",
       "      <td>12</td>\n",
       "      <td>1</td>\n",
       "      <td>0</td>\n",
       "      <td>0</td>\n",
       "      <td>...</td>\n",
       "      <td>True</td>\n",
       "      <td>Other</td>\n",
       "      <td>1984</td>\n",
       "      <td>castijo011984</td>\n",
       "      <td>1985</td>\n",
       "      <td>MIN</td>\n",
       "      <td>AL</td>\n",
       "      <td>castijo01</td>\n",
       "      <td>550000</td>\n",
       "      <td>1984</td>\n",
       "    </tr>\n",
       "    <tr>\n",
       "      <th>3323</th>\n",
       "      <td>haneyto01</td>\n",
       "      <td>1995</td>\n",
       "      <td>1</td>\n",
       "      <td>25</td>\n",
       "      <td>73</td>\n",
       "      <td>11</td>\n",
       "      <td>30</td>\n",
       "      <td>8</td>\n",
       "      <td>0</td>\n",
       "      <td>2</td>\n",
       "      <td>...</td>\n",
       "      <td>True</td>\n",
       "      <td>Other</td>\n",
       "      <td>1995</td>\n",
       "      <td>haneyto011995</td>\n",
       "      <td>1996</td>\n",
       "      <td>CHN</td>\n",
       "      <td>NL</td>\n",
       "      <td>haneyto01</td>\n",
       "      <td>127500</td>\n",
       "      <td>1995</td>\n",
       "    </tr>\n",
       "    <tr>\n",
       "      <th>3966</th>\n",
       "      <td>johnsch04</td>\n",
       "      <td>1994</td>\n",
       "      <td>1</td>\n",
       "      <td>4</td>\n",
       "      <td>11</td>\n",
       "      <td>5</td>\n",
       "      <td>5</td>\n",
       "      <td>1</td>\n",
       "      <td>0</td>\n",
       "      <td>1</td>\n",
       "      <td>...</td>\n",
       "      <td>True</td>\n",
       "      <td>Other</td>\n",
       "      <td>1994</td>\n",
       "      <td>johnsch041994</td>\n",
       "      <td>1995</td>\n",
       "      <td>FLO</td>\n",
       "      <td>NL</td>\n",
       "      <td>johnsch04</td>\n",
       "      <td>113500</td>\n",
       "      <td>1994</td>\n",
       "    </tr>\n",
       "    <tr>\n",
       "      <th>5054</th>\n",
       "      <td>maybica01</td>\n",
       "      <td>2008</td>\n",
       "      <td>1</td>\n",
       "      <td>8</td>\n",
       "      <td>32</td>\n",
       "      <td>9</td>\n",
       "      <td>16</td>\n",
       "      <td>2</td>\n",
       "      <td>0</td>\n",
       "      <td>0</td>\n",
       "      <td>...</td>\n",
       "      <td>True</td>\n",
       "      <td>Other</td>\n",
       "      <td>2008</td>\n",
       "      <td>maybica012008</td>\n",
       "      <td>2009</td>\n",
       "      <td>FLO</td>\n",
       "      <td>NL</td>\n",
       "      <td>maybica01</td>\n",
       "      <td>400000</td>\n",
       "      <td>2008</td>\n",
       "    </tr>\n",
       "    <tr>\n",
       "      <th>5235</th>\n",
       "      <td>mientdo01</td>\n",
       "      <td>2000</td>\n",
       "      <td>1</td>\n",
       "      <td>3</td>\n",
       "      <td>14</td>\n",
       "      <td>0</td>\n",
       "      <td>6</td>\n",
       "      <td>0</td>\n",
       "      <td>0</td>\n",
       "      <td>0</td>\n",
       "      <td>...</td>\n",
       "      <td>True</td>\n",
       "      <td>Other</td>\n",
       "      <td>2000</td>\n",
       "      <td>mientdo012000</td>\n",
       "      <td>2001</td>\n",
       "      <td>MIN</td>\n",
       "      <td>AL</td>\n",
       "      <td>mientdo01</td>\n",
       "      <td>215000</td>\n",
       "      <td>2000</td>\n",
       "    </tr>\n",
       "    <tr>\n",
       "      <th>5949</th>\n",
       "      <td>pemberu01</td>\n",
       "      <td>1996</td>\n",
       "      <td>1</td>\n",
       "      <td>13</td>\n",
       "      <td>41</td>\n",
       "      <td>11</td>\n",
       "      <td>21</td>\n",
       "      <td>8</td>\n",
       "      <td>0</td>\n",
       "      <td>1</td>\n",
       "      <td>...</td>\n",
       "      <td>True</td>\n",
       "      <td>Other</td>\n",
       "      <td>1996</td>\n",
       "      <td>pemberu011996</td>\n",
       "      <td>1997</td>\n",
       "      <td>BOS</td>\n",
       "      <td>AL</td>\n",
       "      <td>pemberu01</td>\n",
       "      <td>152000</td>\n",
       "      <td>1996</td>\n",
       "    </tr>\n",
       "    <tr>\n",
       "      <th>8244</th>\n",
       "      <td>wilsocr02</td>\n",
       "      <td>1998</td>\n",
       "      <td>1</td>\n",
       "      <td>13</td>\n",
       "      <td>47</td>\n",
       "      <td>14</td>\n",
       "      <td>22</td>\n",
       "      <td>5</td>\n",
       "      <td>0</td>\n",
       "      <td>3</td>\n",
       "      <td>...</td>\n",
       "      <td>True</td>\n",
       "      <td>Other</td>\n",
       "      <td>1998</td>\n",
       "      <td>wilsocr021998</td>\n",
       "      <td>1999</td>\n",
       "      <td>CHA</td>\n",
       "      <td>AL</td>\n",
       "      <td>wilsocr02</td>\n",
       "      <td>205000</td>\n",
       "      <td>1998</td>\n",
       "    </tr>\n",
       "  </tbody>\n",
       "</table>\n",
       "<p>9 rows × 33 columns</p>\n",
       "</div>"
      ],
      "text/plain": [
       "     playerID_x  yearID_x  stint   G  AB   R   H  2B  3B  HR    ...      \\\n",
       "333    bardjo01      2004      1   7  19   5   8   2   0   1    ...       \n",
       "695   bloomwi01      2002      1  12  33  11  15   4   0   0    ...       \n",
       "1326  castijo01      1984      1   8  27   5  12   1   0   0    ...       \n",
       "3323  haneyto01      1995      1  25  73  11  30   8   0   2    ...       \n",
       "3966  johnsch04      1994      1   4  11   5   5   1   0   1    ...       \n",
       "5054  maybica01      2008      1   8  32   9  16   2   0   0    ...       \n",
       "5235  mientdo01      2000      1   3  14   0   6   0   0   0    ...       \n",
       "5949  pemberu01      1996      1  13  41  11  21   8   0   1    ...       \n",
       "8244  wilsocr02      1998      1  13  47  14  22   5   0   3    ...       \n",
       "\n",
       "      PA_ratio_min  BatAvgGrouping  yearID2_x  player_year_ID  yearID_y  \\\n",
       "333           True           Other       2004    bardjo012004      2005   \n",
       "695           True           Other       2002   bloomwi012002      2003   \n",
       "1326          True           Other       1984   castijo011984      1985   \n",
       "3323          True           Other       1995   haneyto011995      1996   \n",
       "3966          True           Other       1994   johnsch041994      1995   \n",
       "5054          True           Other       2008   maybica012008      2009   \n",
       "5235          True           Other       2000   mientdo012000      2001   \n",
       "5949          True           Other       1996   pemberu011996      1997   \n",
       "8244          True           Other       1998   wilsocr021998      1999   \n",
       "\n",
       "      teamID  lgID  playerID_y  salary  yearID2_y  \n",
       "333      CLE    AL    bardjo01  317900       2004  \n",
       "695      SEA    AL   bloomwi01  300000       2002  \n",
       "1326     MIN    AL   castijo01  550000       1984  \n",
       "3323     CHN    NL   haneyto01  127500       1995  \n",
       "3966     FLO    NL   johnsch04  113500       1994  \n",
       "5054     FLO    NL   maybica01  400000       2008  \n",
       "5235     MIN    AL   mientdo01  215000       2000  \n",
       "5949     BOS    AL   pemberu01  152000       1996  \n",
       "8244     CHA    AL   wilsocr02  205000       1998  \n",
       "\n",
       "[9 rows x 33 columns]"
      ]
     },
     "execution_count": 17,
     "metadata": {},
     "output_type": "execute_result"
    }
   ],
   "source": [
    "batting_and_salary_data.loc[batting_and_salary_data['BatAvg'] > 0.400,:]"
   ]
  },
  {
   "cell_type": "markdown",
   "metadata": {},
   "source": [
    "Let's check the average salary for each group.  We do see increases from lower group to higher group (which is good and what we expected).  The exploration seems the same amoung both leagues."
   ]
  },
  {
   "cell_type": "code",
   "execution_count": 19,
   "metadata": {
    "collapsed": false
   },
   "outputs": [
    {
     "data": {
      "text/plain": [
       "BatAvgGrouping\n",
       "Between .265 & .274    2881896\n",
       "Between .275 & .285    3228583\n",
       "Between .290 & .299    3441597\n",
       "Between .300 & .310    4036588\n",
       "Other                  2727528\n",
       "Name: salary, dtype: int64"
      ]
     },
     "execution_count": 19,
     "metadata": {},
     "output_type": "execute_result"
    }
   ],
   "source": [
    "batting_and_salary_data.pivot_table('salary', index='BatAvgGrouping', aggfunc='mean')"
   ]
  },
  {
   "cell_type": "code",
   "execution_count": 21,
   "metadata": {
    "collapsed": false
   },
   "outputs": [
    {
     "data": {
      "text/html": [
       "<div>\n",
       "<table border=\"1\" class=\"dataframe\">\n",
       "  <thead>\n",
       "    <tr style=\"text-align: right;\">\n",
       "      <th>lgID</th>\n",
       "      <th>AL</th>\n",
       "      <th>NL</th>\n",
       "    </tr>\n",
       "    <tr>\n",
       "      <th>BatAvgGrouping</th>\n",
       "      <th></th>\n",
       "      <th></th>\n",
       "    </tr>\n",
       "  </thead>\n",
       "  <tbody>\n",
       "    <tr>\n",
       "      <th>Between .265 &amp; .274</th>\n",
       "      <td>2990325</td>\n",
       "      <td>2780630</td>\n",
       "    </tr>\n",
       "    <tr>\n",
       "      <th>Between .275 &amp; .285</th>\n",
       "      <td>3160569</td>\n",
       "      <td>3303082</td>\n",
       "    </tr>\n",
       "    <tr>\n",
       "      <th>Between .290 &amp; .299</th>\n",
       "      <td>3608406</td>\n",
       "      <td>3270180</td>\n",
       "    </tr>\n",
       "    <tr>\n",
       "      <th>Between .300 &amp; .310</th>\n",
       "      <td>3976548</td>\n",
       "      <td>4097213</td>\n",
       "    </tr>\n",
       "    <tr>\n",
       "      <th>Other</th>\n",
       "      <td>2716998</td>\n",
       "      <td>2739593</td>\n",
       "    </tr>\n",
       "  </tbody>\n",
       "</table>\n",
       "</div>"
      ],
      "text/plain": [
       "lgID                      AL       NL\n",
       "BatAvgGrouping                       \n",
       "Between .265 & .274  2990325  2780630\n",
       "Between .275 & .285  3160569  3303082\n",
       "Between .290 & .299  3608406  3270180\n",
       "Between .300 & .310  3976548  4097213\n",
       "Other                2716998  2739593"
      ]
     },
     "execution_count": 21,
     "metadata": {},
     "output_type": "execute_result"
    }
   ],
   "source": [
    "batting_and_salary_data.pivot_table('salary', index='BatAvgGrouping',\\\n",
    "                                    columns='lgID', aggfunc='mean')"
   ]
  },
  {
   "cell_type": "markdown",
   "metadata": {},
   "source": [
    "Let's also check to make sure we are working with a good amount of data before we get too far.  We find that we have a somewhat sizeable dataset for each group.  It also shows that fewer people are batting in the .290 to .310 range, which is definitely expected.  Again the exploration seems very similar in both leagues."
   ]
  },
  {
   "cell_type": "code",
   "execution_count": 22,
   "metadata": {
    "collapsed": false
   },
   "outputs": [
    {
     "data": {
      "text/plain": [
       "BatAvgGrouping\n",
       "Between .265 & .274    1083\n",
       "Between .275 & .285    1033\n",
       "Between .290 & .299     734\n",
       "Between .300 & .310     619\n",
       "Other                  5017\n",
       "Name: salary, dtype: int64"
      ]
     },
     "execution_count": 22,
     "metadata": {},
     "output_type": "execute_result"
    }
   ],
   "source": [
    "batting_and_salary_data.pivot_table('salary', index='BatAvgGrouping', aggfunc='count')"
   ]
  },
  {
   "cell_type": "code",
   "execution_count": 23,
   "metadata": {
    "collapsed": false
   },
   "outputs": [
    {
     "data": {
      "text/html": [
       "<div>\n",
       "<table border=\"1\" class=\"dataframe\">\n",
       "  <thead>\n",
       "    <tr style=\"text-align: right;\">\n",
       "      <th>lgID</th>\n",
       "      <th>AL</th>\n",
       "      <th>NL</th>\n",
       "    </tr>\n",
       "    <tr>\n",
       "      <th>BatAvgGrouping</th>\n",
       "      <th></th>\n",
       "      <th></th>\n",
       "    </tr>\n",
       "  </thead>\n",
       "  <tbody>\n",
       "    <tr>\n",
       "      <th>Between .265 &amp; .274</th>\n",
       "      <td>523</td>\n",
       "      <td>560</td>\n",
       "    </tr>\n",
       "    <tr>\n",
       "      <th>Between .275 &amp; .285</th>\n",
       "      <td>540</td>\n",
       "      <td>493</td>\n",
       "    </tr>\n",
       "    <tr>\n",
       "      <th>Between .290 &amp; .299</th>\n",
       "      <td>372</td>\n",
       "      <td>362</td>\n",
       "    </tr>\n",
       "    <tr>\n",
       "      <th>Between .300 &amp; .310</th>\n",
       "      <td>311</td>\n",
       "      <td>308</td>\n",
       "    </tr>\n",
       "    <tr>\n",
       "      <th>Other</th>\n",
       "      <td>2679</td>\n",
       "      <td>2338</td>\n",
       "    </tr>\n",
       "  </tbody>\n",
       "</table>\n",
       "</div>"
      ],
      "text/plain": [
       "lgID                   AL    NL\n",
       "BatAvgGrouping                 \n",
       "Between .265 & .274   523   560\n",
       "Between .275 & .285   540   493\n",
       "Between .290 & .299   372   362\n",
       "Between .300 & .310   311   308\n",
       "Other                2679  2338"
      ]
     },
     "execution_count": 23,
     "metadata": {},
     "output_type": "execute_result"
    }
   ],
   "source": [
    "batting_and_salary_data.pivot_table('salary', index='BatAvgGrouping',\\\n",
    "                                    columns='lgID', aggfunc='count')"
   ]
  },
  {
   "cell_type": "markdown",
   "metadata": {},
   "source": [
    "This section shows the difference between the .275 to .285 batting average vs .265 to .274 batting average (71% increase).  We have these figures for all of MLB and both leagues(116% for AL and 58% for NL).   "
   ]
  },
  {
   "cell_type": "code",
   "execution_count": 24,
   "metadata": {
    "collapsed": false
   },
   "outputs": [
    {
     "name": "stdout",
     "output_type": "stream",
     "text": [
      "346687.693544\n",
      "170243.252422\n",
      "522452.171559\n"
     ]
    }
   ],
   "source": [
    "MLB_275_difference = Between_275_285['salary'].mean() - Between_265_274['salary'].mean()\n",
    "print MLB_275_difference\n",
    "\n",
    "AL_275_difference = Between_275_285.loc[Between_275_285['lgID'] == 'AL','salary'].mean()\\\n",
    "        - Between_265_274.loc[Between_265_274['lgID'] == 'AL','salary'].mean()\n",
    "print AL_275_difference\n",
    "\n",
    "NL_275_difference = Between_275_285.loc[Between_275_285['lgID'] == 'NL','salary'].mean()\\\n",
    "        - Between_265_274.loc[Between_265_274['lgID'] == 'NL','salary'].mean()\n",
    "print NL_275_difference"
   ]
  },
  {
   "cell_type": "markdown",
   "metadata": {},
   "source": [
    "This section shows the difference between the .310 to .300 batting average vs .290 to .299 batting average.  We have these figures for all of MLB and both leagues.  It's clear that for all cases, this section has larger differences.   "
   ]
  },
  {
   "cell_type": "code",
   "execution_count": 25,
   "metadata": {
    "collapsed": false
   },
   "outputs": [
    {
     "name": "stdout",
     "output_type": "stream",
     "text": [
      "594991.115859\n",
      "368141.942891\n",
      "827033.080936\n"
     ]
    }
   ],
   "source": [
    "MLB_300_difference = Between_300_310['salary'].mean() - Between_290_299['salary'].mean()\n",
    "print MLB_300_difference\n",
    "\n",
    "AL_300_difference = Between_300_310.loc[Between_300_310['lgID'] == 'AL','salary'].mean()\\\n",
    "        - Between_290_299.loc[Between_290_299['lgID'] == 'AL','salary'].mean()\n",
    "print AL_300_difference\n",
    "\n",
    "NL_300_difference = Between_300_310.loc[Between_300_310['lgID'] == 'NL','salary'].mean()\\\n",
    "        - Between_290_299.loc[Between_290_299['lgID'] == 'NL','salary'].mean()\n",
    "print NL_300_difference"
   ]
  },
  {
   "cell_type": "code",
   "execution_count": 26,
   "metadata": {
    "collapsed": false
   },
   "outputs": [
    {
     "name": "stdout",
     "output_type": "stream",
     "text": [
      "0.716216430344\n",
      "1.16244660305\n",
      "0.582983335044\n"
     ]
    }
   ],
   "source": [
    "print (MLB_300_difference - MLB_275_difference) / MLB_275_difference\n",
    "print (AL_300_difference - AL_275_difference) / AL_275_difference\n",
    "print (NL_300_difference - NL_275_difference) / NL_275_difference"
   ]
  },
  {
   "cell_type": "markdown",
   "metadata": {},
   "source": [
    "The next 3 sections (Batting Average, On Base Percentage, and Slugging Percentage) walks through the process of trying to identify groupings of the respective batting statistics where average salary jumps the most from grouping to grouping."
   ]
  },
  {
   "cell_type": "markdown",
   "metadata": {},
   "source": [
    "#### Batting Average"
   ]
  },
  {
   "cell_type": "markdown",
   "metadata": {},
   "source": [
    "The plot below compares Batting Average vs Salary.  It doesn't really tell us much but it's helpful to at least view it.  It was also clear that I needed to add a filter of only including players with more than 100 \"at-bats\" (The graph looked a bit wild).  I ran the \"describe\" function to find that the median was 94 so I went with 100."
   ]
  },
  {
   "cell_type": "code",
   "execution_count": 27,
   "metadata": {
    "collapsed": false
   },
   "outputs": [
    {
     "data": {
      "text/plain": [
       "count    8486.000000\n",
       "mean      412.241692\n",
       "std       156.153574\n",
       "min         4.000000\n",
       "25%       312.000000\n",
       "50%       438.000000\n",
       "75%       540.000000\n",
       "max       716.000000\n",
       "Name: AB, dtype: float64"
      ]
     },
     "execution_count": 27,
     "metadata": {},
     "output_type": "execute_result"
    }
   ],
   "source": [
    "batting_and_salary_data['AB'].describe()"
   ]
  },
  {
   "cell_type": "code",
   "execution_count": 28,
   "metadata": {
    "collapsed": false
   },
   "outputs": [
    {
     "data": {
      "text/plain": [
       "<matplotlib.text.Text at 0x10d72b910>"
      ]
     },
     "execution_count": 28,
     "metadata": {},
     "output_type": "execute_result"
    },
    {
     "data": {
      "image/png": "[encoded data removed]",
      "text/plain": [
       "<matplotlib.figure.Figure at 0x10d4d1610>"
      ]
     },
     "metadata": {},
     "output_type": "display_data"
    }
   ],
   "source": [
    "batting_and_salary_data.plot(kind='scatter', x='BatAvg', y='salary', \\\n",
    "                             title=\"Next Year's Salary vs. Current Year's Batting Average\")\n",
    "\n",
    "plt.xlabel('Batting Average')\n",
    "plt.ylabel('Salary')"
   ]
  },
  {
   "cell_type": "markdown",
   "metadata": {},
   "source": [
    "To better understand which groupings are most relevant for the analysis I've created a series that groups the batting averages in levels of .01 from .100 to .400.  After some research online, I found this neat combination of groupby, cut, and np.arrange to create such groups.  The graph shows we can probably just focus on .200 to .350 and capture a large portion of the data."
   ]
  },
  {
   "cell_type": "code",
   "execution_count": 29,
   "metadata": {
    "collapsed": false
   },
   "outputs": [
    {
     "data": {
      "text/plain": [
       "<matplotlib.text.Text at 0x10ddd2950>"
      ]
     },
     "execution_count": 29,
     "metadata": {},
     "output_type": "execute_result"
    },
    {
     "data": {
      "image/png": "[encoded data removed]",
      "text/plain": [
       "<matplotlib.figure.Figure at 0x10d4d1950>"
      ]
     },
     "metadata": {},
     "output_type": "display_data"
    }
   ],
   "source": [
    "salary_by_batavg_count = batting_and_salary_data['salary'].\\\n",
    "    groupby(pd.cut(batting_and_salary_data['BatAvg'], np.arange(.1, .4, .01))).count()\n",
    "\n",
    "salary_by_batavg_count.plot(kind='bar', title=\"Histogram of Batting Average Groupings\")\n",
    "\n",
    "plt.xlabel('Batting Average Groupings')\n",
    "plt.ylabel('Frequency')"
   ]
  },
  {
   "cell_type": "markdown",
   "metadata": {},
   "source": [
    "Using a similar method, only calculating mean instead of count, I've adjusted my ranges to only go from .200 to .350.  This graph is helpful but it doesn't clearly show us the \"pay jumps\".  We need to determine which jump (from group to group) is the largest."
   ]
  },
  {
   "cell_type": "code",
   "execution_count": 30,
   "metadata": {
    "collapsed": false
   },
   "outputs": [
    {
     "data": {
      "text/plain": [
       "<matplotlib.text.Text at 0x10dfb0790>"
      ]
     },
     "execution_count": 30,
     "metadata": {},
     "output_type": "execute_result"
    },
    {
     "data": {
      "image/png": "[encoded data removed]",
      "text/plain": [
       "<matplotlib.figure.Figure at 0x10dcaa3d0>"
      ]
     },
     "metadata": {},
     "output_type": "display_data"
    }
   ],
   "source": [
    "salary_by_batavg = batting_and_salary_data['salary'].\\\n",
    "    groupby(pd.cut(batting_and_salary_data['BatAvg'], np.arange(.2, .35, .01))).mean()\n",
    "\n",
    "salary_by_batavg.plot(kind='bar', title='Average Salary by Batting Average Grouping')\n",
    "\n",
    "plt.xlabel('Batting Average Groupings')\n",
    "plt.ylabel('Average Salary')"
   ]
  },
  {
   "cell_type": "markdown",
   "metadata": {},
   "source": [
    "This section takes the previous groupby series and creates a dataframe of the salary, shifted salary (previous year), and the difference between the two.  With the difference column, it's easy to identify that the .300 batting average mark has the largest pay jump."
   ]
  },
  {
   "cell_type": "code",
   "execution_count": 31,
   "metadata": {
    "collapsed": false
   },
   "outputs": [
    {
     "data": {
      "text/html": [
       "<div>\n",
       "<table border=\"1\" class=\"dataframe\">\n",
       "  <thead>\n",
       "    <tr style=\"text-align: right;\">\n",
       "      <th></th>\n",
       "      <th>salary</th>\n",
       "      <th>py_salary</th>\n",
       "      <th>yty_diff</th>\n",
       "    </tr>\n",
       "    <tr>\n",
       "      <th>BatAvg</th>\n",
       "      <th></th>\n",
       "      <th></th>\n",
       "      <th></th>\n",
       "    </tr>\n",
       "  </thead>\n",
       "  <tbody>\n",
       "    <tr>\n",
       "      <th>(0.21, 0.22]</th>\n",
       "      <td>1563711</td>\n",
       "      <td>1797282</td>\n",
       "      <td>-233571</td>\n",
       "    </tr>\n",
       "    <tr>\n",
       "      <th>(0.22, 0.23]</th>\n",
       "      <td>1906974</td>\n",
       "      <td>1563711</td>\n",
       "      <td>343263</td>\n",
       "    </tr>\n",
       "    <tr>\n",
       "      <th>(0.23, 0.24]</th>\n",
       "      <td>1970086</td>\n",
       "      <td>1906974</td>\n",
       "      <td>63112</td>\n",
       "    </tr>\n",
       "    <tr>\n",
       "      <th>(0.24, 0.25]</th>\n",
       "      <td>2233197</td>\n",
       "      <td>1970086</td>\n",
       "      <td>263111</td>\n",
       "    </tr>\n",
       "    <tr>\n",
       "      <th>(0.25, 0.26]</th>\n",
       "      <td>2501089</td>\n",
       "      <td>2233197</td>\n",
       "      <td>267892</td>\n",
       "    </tr>\n",
       "    <tr>\n",
       "      <th>(0.26, 0.27]</th>\n",
       "      <td>2628575</td>\n",
       "      <td>2501089</td>\n",
       "      <td>127486</td>\n",
       "    </tr>\n",
       "    <tr>\n",
       "      <th>(0.27, 0.28]</th>\n",
       "      <td>3136673</td>\n",
       "      <td>2628575</td>\n",
       "      <td>508098</td>\n",
       "    </tr>\n",
       "    <tr>\n",
       "      <th>(0.28, 0.29]</th>\n",
       "      <td>3279885</td>\n",
       "      <td>3136673</td>\n",
       "      <td>143212</td>\n",
       "    </tr>\n",
       "    <tr>\n",
       "      <th>(0.29, 0.3]</th>\n",
       "      <td>3483549</td>\n",
       "      <td>3279885</td>\n",
       "      <td>203664</td>\n",
       "    </tr>\n",
       "    <tr>\n",
       "      <th>(0.3, 0.31]</th>\n",
       "      <td>4016682</td>\n",
       "      <td>3483549</td>\n",
       "      <td>533133</td>\n",
       "    </tr>\n",
       "    <tr>\n",
       "      <th>(0.31, 0.32]</th>\n",
       "      <td>4514153</td>\n",
       "      <td>4016682</td>\n",
       "      <td>497471</td>\n",
       "    </tr>\n",
       "    <tr>\n",
       "      <th>(0.32, 0.33]</th>\n",
       "      <td>4958257</td>\n",
       "      <td>4514153</td>\n",
       "      <td>444104</td>\n",
       "    </tr>\n",
       "    <tr>\n",
       "      <th>(0.33, 0.34]</th>\n",
       "      <td>4995310</td>\n",
       "      <td>4958257</td>\n",
       "      <td>37053</td>\n",
       "    </tr>\n",
       "  </tbody>\n",
       "</table>\n",
       "</div>"
      ],
      "text/plain": [
       "               salary  py_salary  yty_diff\n",
       "BatAvg                                    \n",
       "(0.21, 0.22]  1563711    1797282   -233571\n",
       "(0.22, 0.23]  1906974    1563711    343263\n",
       "(0.23, 0.24]  1970086    1906974     63112\n",
       "(0.24, 0.25]  2233197    1970086    263111\n",
       "(0.25, 0.26]  2501089    2233197    267892\n",
       "(0.26, 0.27]  2628575    2501089    127486\n",
       "(0.27, 0.28]  3136673    2628575    508098\n",
       "(0.28, 0.29]  3279885    3136673    143212\n",
       "(0.29, 0.3]   3483549    3279885    203664\n",
       "(0.3, 0.31]   4016682    3483549    533133\n",
       "(0.31, 0.32]  4514153    4016682    497471\n",
       "(0.32, 0.33]  4958257    4514153    444104\n",
       "(0.33, 0.34]  4995310    4958257     37053"
      ]
     },
     "execution_count": 31,
     "metadata": {},
     "output_type": "execute_result"
    }
   ],
   "source": [
    "salary_by_batavg_df = pd.concat([salary_by_batavg, salary_by_batavg.shift()], axis=1).dropna()\n",
    "salary_by_batavg_df.columns.values[1] = 'py_salary'\n",
    "salary_by_batavg_df['yty_diff'] = \\\n",
    "    salary_by_batavg_df['salary'] - salary_by_batavg_df['py_salary']\n",
    "salary_by_batavg_df"
   ]
  },
  {
   "cell_type": "markdown",
   "metadata": {},
   "source": [
    "The remaining two sections follow the same methods.  I'll discuss some of the differences in results in the conclusion section but the methods were the exact same."
   ]
  },
  {
   "cell_type": "markdown",
   "metadata": {
    "collapsed": false
   },
   "source": [
    "#### On Base Percentage"
   ]
  },
  {
   "cell_type": "code",
   "execution_count": 32,
   "metadata": {
    "collapsed": false
   },
   "outputs": [
    {
     "data": {
      "text/plain": [
       "<matplotlib.text.Text at 0x10e148450>"
      ]
     },
     "execution_count": 32,
     "metadata": {},
     "output_type": "execute_result"
    },
    {
     "data": {
      "image/png": "[encoded data removed]",
      "text/plain": [
       "<matplotlib.figure.Figure at 0x10e18dbd0>"
      ]
     },
     "metadata": {},
     "output_type": "display_data"
    }
   ],
   "source": [
    "batting_and_salary_data.plot(kind='scatter', x='OBP', y='salary', \\\n",
    "                             title=\"Next Year's Salary vs. Current Year's On Base %\")\n",
    "\n",
    "plt.xlabel('On Base Percentage')\n",
    "plt.ylabel('Salary')"
   ]
  },
  {
   "cell_type": "code",
   "execution_count": 33,
   "metadata": {
    "collapsed": false
   },
   "outputs": [
    {
     "data": {
      "text/plain": [
       "<matplotlib.text.Text at 0x10e155ad0>"
      ]
     },
     "execution_count": 33,
     "metadata": {},
     "output_type": "execute_result"
    },
    {
     "data": {
      "image/png": "[encoded data removed]",
      "text/plain": [
       "<matplotlib.figure.Figure at 0x10e1be050>"
      ]
     },
     "metadata": {},
     "output_type": "display_data"
    }
   ],
   "source": [
    "salary_by_obp_count = batting_and_salary_data['salary'].groupby(\\\n",
    "                      pd.cut(batting_and_salary_data['OBP'], np.arange(.1, .5, .01))).count()\n",
    "salary_by_obp_count.plot(kind='bar', title=\"Histogram of On Base % Groupings\")\n",
    "\n",
    "plt.xlabel('On Base % Groupings')\n",
    "plt.ylabel('Frequency')"
   ]
  },
  {
   "cell_type": "code",
   "execution_count": 34,
   "metadata": {
    "collapsed": false
   },
   "outputs": [
    {
     "data": {
      "text/plain": [
       "<matplotlib.text.Text at 0x1100003d0>"
      ]
     },
     "execution_count": 34,
     "metadata": {},
     "output_type": "execute_result"
    },
    {
     "data": {
      "image/png": "[encoded data removed]",
      "text/plain": [
       "<matplotlib.figure.Figure at 0x10fe3b2d0>"
      ]
     },
     "metadata": {},
     "output_type": "display_data"
    }
   ],
   "source": [
    "salary_by_obp = batting_and_salary_data['salary'].groupby(\\\n",
    "                pd.cut(batting_and_salary_data['OBP'], np.arange(.25, .4, .01))).mean()\n",
    "salary_by_obp.plot(kind='bar', title='Average Salary by On Base % Grouping')\n",
    "\n",
    "plt.xlabel('On Base % Groupings')\n",
    "plt.ylabel('Average Salary')"
   ]
  },
  {
   "cell_type": "code",
   "execution_count": 35,
   "metadata": {
    "collapsed": false
   },
   "outputs": [
    {
     "data": {
      "text/html": [
       "<div>\n",
       "<table border=\"1\" class=\"dataframe\">\n",
       "  <thead>\n",
       "    <tr style=\"text-align: right;\">\n",
       "      <th></th>\n",
       "      <th>salary</th>\n",
       "      <th>py_salary</th>\n",
       "      <th>yty_diff</th>\n",
       "    </tr>\n",
       "    <tr>\n",
       "      <th>OBP</th>\n",
       "      <th></th>\n",
       "      <th></th>\n",
       "      <th></th>\n",
       "    </tr>\n",
       "  </thead>\n",
       "  <tbody>\n",
       "    <tr>\n",
       "      <th>(0.26, 0.27]</th>\n",
       "      <td>1094525</td>\n",
       "      <td>1042475</td>\n",
       "      <td>52050</td>\n",
       "    </tr>\n",
       "    <tr>\n",
       "      <th>(0.27, 0.28]</th>\n",
       "      <td>1647892</td>\n",
       "      <td>1094525</td>\n",
       "      <td>553367</td>\n",
       "    </tr>\n",
       "    <tr>\n",
       "      <th>(0.28, 0.29]</th>\n",
       "      <td>1383131</td>\n",
       "      <td>1647892</td>\n",
       "      <td>-264761</td>\n",
       "    </tr>\n",
       "    <tr>\n",
       "      <th>(0.29, 0.3]</th>\n",
       "      <td>1793352</td>\n",
       "      <td>1383131</td>\n",
       "      <td>410221</td>\n",
       "    </tr>\n",
       "    <tr>\n",
       "      <th>(0.3, 0.31]</th>\n",
       "      <td>1763280</td>\n",
       "      <td>1793352</td>\n",
       "      <td>-30072</td>\n",
       "    </tr>\n",
       "    <tr>\n",
       "      <th>(0.31, 0.32]</th>\n",
       "      <td>2103874</td>\n",
       "      <td>1763280</td>\n",
       "      <td>340594</td>\n",
       "    </tr>\n",
       "    <tr>\n",
       "      <th>(0.32, 0.33]</th>\n",
       "      <td>2331303</td>\n",
       "      <td>2103874</td>\n",
       "      <td>227429</td>\n",
       "    </tr>\n",
       "    <tr>\n",
       "      <th>(0.33, 0.34]</th>\n",
       "      <td>2551212</td>\n",
       "      <td>2331303</td>\n",
       "      <td>219909</td>\n",
       "    </tr>\n",
       "    <tr>\n",
       "      <th>(0.34, 0.35]</th>\n",
       "      <td>2873904</td>\n",
       "      <td>2551212</td>\n",
       "      <td>322692</td>\n",
       "    </tr>\n",
       "    <tr>\n",
       "      <th>(0.35, 0.36]</th>\n",
       "      <td>3038094</td>\n",
       "      <td>2873904</td>\n",
       "      <td>164190</td>\n",
       "    </tr>\n",
       "    <tr>\n",
       "      <th>(0.36, 0.37]</th>\n",
       "      <td>3476101</td>\n",
       "      <td>3038094</td>\n",
       "      <td>438007</td>\n",
       "    </tr>\n",
       "    <tr>\n",
       "      <th>(0.37, 0.38]</th>\n",
       "      <td>3822646</td>\n",
       "      <td>3476101</td>\n",
       "      <td>346545</td>\n",
       "    </tr>\n",
       "    <tr>\n",
       "      <th>(0.38, 0.39]</th>\n",
       "      <td>3717008</td>\n",
       "      <td>3822646</td>\n",
       "      <td>-105638</td>\n",
       "    </tr>\n",
       "    <tr>\n",
       "      <th>(0.39, 0.4]</th>\n",
       "      <td>4417470</td>\n",
       "      <td>3717008</td>\n",
       "      <td>700462</td>\n",
       "    </tr>\n",
       "  </tbody>\n",
       "</table>\n",
       "</div>"
      ],
      "text/plain": [
       "               salary  py_salary  yty_diff\n",
       "OBP                                       \n",
       "(0.26, 0.27]  1094525    1042475     52050\n",
       "(0.27, 0.28]  1647892    1094525    553367\n",
       "(0.28, 0.29]  1383131    1647892   -264761\n",
       "(0.29, 0.3]   1793352    1383131    410221\n",
       "(0.3, 0.31]   1763280    1793352    -30072\n",
       "(0.31, 0.32]  2103874    1763280    340594\n",
       "(0.32, 0.33]  2331303    2103874    227429\n",
       "(0.33, 0.34]  2551212    2331303    219909\n",
       "(0.34, 0.35]  2873904    2551212    322692\n",
       "(0.35, 0.36]  3038094    2873904    164190\n",
       "(0.36, 0.37]  3476101    3038094    438007\n",
       "(0.37, 0.38]  3822646    3476101    346545\n",
       "(0.38, 0.39]  3717008    3822646   -105638\n",
       "(0.39, 0.4]   4417470    3717008    700462"
      ]
     },
     "execution_count": 35,
     "metadata": {},
     "output_type": "execute_result"
    }
   ],
   "source": [
    "salary_by_obp_df = pd.concat([salary_by_obp, salary_by_obp.shift()], axis=1).dropna()\n",
    "salary_by_obp_df.columns.values[1] = 'py_salary'\n",
    "salary_by_obp_df['yty_diff'] = salary_by_obp_df['salary'] - salary_by_obp_df['py_salary']\n",
    "salary_by_obp_df"
   ]
  },
  {
   "cell_type": "markdown",
   "metadata": {},
   "source": [
    "#### Slugging Percentage"
   ]
  },
  {
   "cell_type": "code",
   "execution_count": 36,
   "metadata": {
    "collapsed": false
   },
   "outputs": [
    {
     "data": {
      "text/plain": [
       "<matplotlib.text.Text at 0x11027f590>"
      ]
     },
     "execution_count": 36,
     "metadata": {},
     "output_type": "execute_result"
    },
    {
     "data": {
      "image/png": "[encoded data removed]",
      "text/plain": [
       "<matplotlib.figure.Figure at 0x10c8978d0>"
      ]
     },
     "metadata": {},
     "output_type": "display_data"
    }
   ],
   "source": [
    "batting_and_salary_data.plot(kind='scatter', x='SLG', y='salary', \\\n",
    "                             title=\"Next Year's Salary vs. Current Year's Slugging %\")\n",
    "\n",
    "plt.xlabel('Slugging Percentage')\n",
    "plt.ylabel('Salary')"
   ]
  },
  {
   "cell_type": "code",
   "execution_count": 37,
   "metadata": {
    "collapsed": false
   },
   "outputs": [
    {
     "data": {
      "text/plain": [
       "<matplotlib.text.Text at 0x11026f5d0>"
      ]
     },
     "execution_count": 37,
     "metadata": {},
     "output_type": "execute_result"
    },
    {
     "data": {
      "image/png": "[encoded data removed]",
      "text/plain": [
       "<matplotlib.figure.Figure at 0x10fc3c990>"
      ]
     },
     "metadata": {},
     "output_type": "display_data"
    }
   ],
   "source": [
    "salary_by_slg_count = batting_and_salary_data['salary'].groupby(\\\n",
    "                      pd.cut(batting_and_salary_data['SLG'], np.arange(.1, .7, .01))).count()\n",
    "salary_by_obp_count.plot(kind='bar', title=\"Histogram of Slugging % Groupings\")\n",
    "\n",
    "plt.xlabel('Slugging % Groupings')\n",
    "plt.ylabel('Frequency')"
   ]
  },
  {
   "cell_type": "code",
   "execution_count": 38,
   "metadata": {
    "collapsed": false
   },
   "outputs": [
    {
     "data": {
      "text/plain": [
       "<matplotlib.text.Text at 0x1106a1290>"
      ]
     },
     "execution_count": 38,
     "metadata": {},
     "output_type": "execute_result"
    },
    {
     "data": {
      "image/png": "[encoded data removed]",
      "text/plain": [
       "<matplotlib.figure.Figure at 0x110498a10>"
      ]
     },
     "metadata": {},
     "output_type": "display_data"
    }
   ],
   "source": [
    "salary_by_slg = batting_and_salary_data['salary'].groupby(\\\n",
    "                pd.cut(batting_and_salary_data['SLG'], np.arange(.25, .4, .01))).mean()\n",
    "salary_by_slg.plot(kind='bar', title='Average Salary by On Base % Grouping')\n",
    "\n",
    "plt.xlabel('Slugging % Groupings')\n",
    "plt.ylabel('Average Salary')"
   ]
  },
  {
   "cell_type": "code",
   "execution_count": 39,
   "metadata": {
    "collapsed": false
   },
   "outputs": [
    {
     "data": {
      "text/html": [
       "<div>\n",
       "<table border=\"1\" class=\"dataframe\">\n",
       "  <thead>\n",
       "    <tr style=\"text-align: right;\">\n",
       "      <th></th>\n",
       "      <th>salary</th>\n",
       "      <th>py_salary</th>\n",
       "      <th>yty_diff</th>\n",
       "    </tr>\n",
       "    <tr>\n",
       "      <th>SLG</th>\n",
       "      <th></th>\n",
       "      <th></th>\n",
       "      <th></th>\n",
       "    </tr>\n",
       "  </thead>\n",
       "  <tbody>\n",
       "    <tr>\n",
       "      <th>(0.26, 0.27]</th>\n",
       "      <td>800173</td>\n",
       "      <td>1835255</td>\n",
       "      <td>-1035082</td>\n",
       "    </tr>\n",
       "    <tr>\n",
       "      <th>(0.27, 0.28]</th>\n",
       "      <td>1311735</td>\n",
       "      <td>800173</td>\n",
       "      <td>511562</td>\n",
       "    </tr>\n",
       "    <tr>\n",
       "      <th>(0.28, 0.29]</th>\n",
       "      <td>1156796</td>\n",
       "      <td>1311735</td>\n",
       "      <td>-154939</td>\n",
       "    </tr>\n",
       "    <tr>\n",
       "      <th>(0.29, 0.3]</th>\n",
       "      <td>935234</td>\n",
       "      <td>1156796</td>\n",
       "      <td>-221562</td>\n",
       "    </tr>\n",
       "    <tr>\n",
       "      <th>(0.3, 0.31]</th>\n",
       "      <td>1064851</td>\n",
       "      <td>935234</td>\n",
       "      <td>129617</td>\n",
       "    </tr>\n",
       "    <tr>\n",
       "      <th>(0.31, 0.32]</th>\n",
       "      <td>1213666</td>\n",
       "      <td>1064851</td>\n",
       "      <td>148815</td>\n",
       "    </tr>\n",
       "    <tr>\n",
       "      <th>(0.32, 0.33]</th>\n",
       "      <td>1666071</td>\n",
       "      <td>1213666</td>\n",
       "      <td>452405</td>\n",
       "    </tr>\n",
       "    <tr>\n",
       "      <th>(0.33, 0.34]</th>\n",
       "      <td>1516982</td>\n",
       "      <td>1666071</td>\n",
       "      <td>-149089</td>\n",
       "    </tr>\n",
       "    <tr>\n",
       "      <th>(0.34, 0.35]</th>\n",
       "      <td>1589877</td>\n",
       "      <td>1516982</td>\n",
       "      <td>72895</td>\n",
       "    </tr>\n",
       "    <tr>\n",
       "      <th>(0.35, 0.36]</th>\n",
       "      <td>1662736</td>\n",
       "      <td>1589877</td>\n",
       "      <td>72859</td>\n",
       "    </tr>\n",
       "    <tr>\n",
       "      <th>(0.36, 0.37]</th>\n",
       "      <td>1912121</td>\n",
       "      <td>1662736</td>\n",
       "      <td>249385</td>\n",
       "    </tr>\n",
       "    <tr>\n",
       "      <th>(0.37, 0.38]</th>\n",
       "      <td>1935529</td>\n",
       "      <td>1912121</td>\n",
       "      <td>23408</td>\n",
       "    </tr>\n",
       "    <tr>\n",
       "      <th>(0.38, 0.39]</th>\n",
       "      <td>2048064</td>\n",
       "      <td>1935529</td>\n",
       "      <td>112535</td>\n",
       "    </tr>\n",
       "    <tr>\n",
       "      <th>(0.39, 0.4]</th>\n",
       "      <td>2239410</td>\n",
       "      <td>2048064</td>\n",
       "      <td>191346</td>\n",
       "    </tr>\n",
       "  </tbody>\n",
       "</table>\n",
       "</div>"
      ],
      "text/plain": [
       "               salary  py_salary  yty_diff\n",
       "SLG                                       \n",
       "(0.26, 0.27]   800173    1835255  -1035082\n",
       "(0.27, 0.28]  1311735     800173    511562\n",
       "(0.28, 0.29]  1156796    1311735   -154939\n",
       "(0.29, 0.3]    935234    1156796   -221562\n",
       "(0.3, 0.31]   1064851     935234    129617\n",
       "(0.31, 0.32]  1213666    1064851    148815\n",
       "(0.32, 0.33]  1666071    1213666    452405\n",
       "(0.33, 0.34]  1516982    1666071   -149089\n",
       "(0.34, 0.35]  1589877    1516982     72895\n",
       "(0.35, 0.36]  1662736    1589877     72859\n",
       "(0.36, 0.37]  1912121    1662736    249385\n",
       "(0.37, 0.38]  1935529    1912121     23408\n",
       "(0.38, 0.39]  2048064    1935529    112535\n",
       "(0.39, 0.4]   2239410    2048064    191346"
      ]
     },
     "execution_count": 39,
     "metadata": {},
     "output_type": "execute_result"
    }
   ],
   "source": [
    "salary_by_slg_df = pd.concat([salary_by_slg, salary_by_slg.shift()], axis=1).dropna()\n",
    "salary_by_slg_df.columns.values[1] = 'py_salary'\n",
    "salary_by_slg_df['yty_diff'] = salary_by_slg_df['salary'] - salary_by_slg_df['py_salary']\n",
    "salary_by_slg_df"
   ]
  },
  {
   "cell_type": "markdown",
   "metadata": {},
   "source": [
    "### Drawing Conclusions"
   ]
  },
  {
   "cell_type": "markdown",
   "metadata": {
    "collapsed": true
   },
   "source": [
    "- Is there any truth to imaginary pay \"jumps\" around milestone (batting above .300 is considered a milestone) batting averages?  \n",
    "    \n",
    "    Batting Average Comparison 1 -> Player A = .310 vs Player B = .290\n",
    "    \n",
    "    Batting Average Comparison 2 -> Player C = .285 vs Player D = .265\n",
    "\n",
    "    For example, will the difference in pay be greater when comparing Player A vs Player B or comparing Player C vs Player D?\n",
    "    \n",
    "    I think we can say there is a larger jump (70% increase) in going from right below .300 to right above .300 as compared to our other comparison around .275.  Although there is not any statistical testing, I think it tells a neat story that there is a stigma of being over or under batting .300 average.\n",
    "    \n",
    "    There are plenty of limitations for this analysis.  Although I did get rid of missing values, I shrank my dataset by tens of thousands by limiting the data to the minimum plate appearance ratio formula.  This can take away from the notion of using all the data but I believe it's helpful only to include useful data.  I'll also mention that my process for comparing this year's batting statistics to next year's salary information isn't perfect.  Most players are not on year to year contracts.  To be the most accurate I would need to have contract information and only look at players whose contracts are ending (i.e. those who have yet to determine their pay for the next year).\n",
    "\n",
    "\n",
    "- Does it matter if this analysis occurs in the National League (NL) or the American League (AL)?\n",
    "\n",
    "    It is clear that the AL and NL have similar increases at 84% and 70%, respectively.\n",
    "\n",
    "\n",
    "- Can we identify other pay \"jumps\" for other batting statistics (i.e. On base percentage or Slugging percentage)?\n",
    "\n",
    "    I ran an analysis for batting average, on base percentage, and slugging percentage.  My goal was to group each statistic into adjacent groups and find the differences from group to group (i.e. 280s vs 290s).  Then I can isolate the larger differences and call these intances my \"pay jumps\".\n",
    "    The batting average example is the easiest as there is a pay jump right at the .300 mark.  It's consistent with earlier research and other baseball common knowledge.\n",
    "    The on base percentage and slugging percentage examples are not as clear.  I'm not 100% sure why I'm having negative changes in salary given higher level of performances for these two statistics.  I have a guess that some of the older data (pre 2000) will be pre \"Moneyball\" era and teams may not have been as good at using those statistics to pick out good players.\n",
    "    Either way, we can still pick out that there seems to be OBP & SLG pay jumps in the mid to upper .300s."
   ]
  },
  {
   "cell_type": "code",
   "execution_count": null,
   "metadata": {
    "collapsed": true
   },
   "outputs": [],
   "source": []
  }
 ],
 "metadata": {
  "kernelspec": {
   "display_name": "Python 2",
   "language": "python",
   "name": "python2"
  },
  "language_info": {
   "codemirror_mode": {
    "name": "ipython",
    "version": 2
   },
   "file_extension": ".py",
   "mimetype": "text/x-python",
   "name": "python",
   "nbconvert_exporter": "python",
   "pygments_lexer": "ipython2",
   "version": "2.7.11"
  }
 },
 "nbformat": 4,
 "nbformat_minor": 0
}
